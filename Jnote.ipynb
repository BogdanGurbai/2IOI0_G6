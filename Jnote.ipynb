{
 "cells": [
  {
   "cell_type": "markdown",
   "metadata": {},
   "source": [
    "# Import"
   ]
  },
  {
   "cell_type": "code",
   "execution_count": 417,
   "metadata": {},
   "outputs": [],
   "source": [
    "# %pip install pandas\n",
    "# %pip install pm4py\n",
    "# %pip install psutil\n",
    "# %pip install matplotlib\n",
    "# %pip install seaborn\n",
    "# %pip install holidays\n",
    "# %pip install scikit-learn\n",
    "# %pip install collection\n",
    "# %pip install scipy\n",
    "\n",
    "import pandas as pd\n",
    "import pm4py as pm\n",
    "import numpy as np\n",
    "import psutil as pu\n",
    "\n",
    "import matplotlib.pyplot as plt\n",
    "import seaborn as sns\n",
    "\n",
    "import datetime\n",
    "import holidays\n",
    "\n",
    "import warnings\n",
    "warnings.filterwarnings(\"ignore\", category=DeprecationWarning)\n",
    "\n",
    "from sklearn.preprocessing import MinMaxScaler\n",
    "from sklearn.linear_model import LinearRegression\n",
    "from sklearn.linear_model import LogisticRegression\n",
    "from sklearn.model_selection import train_test_split\n",
    "from sklearn.metrics import mean_squared_error  \n",
    "\n",
    "from sklearn import tree\n",
    "from sklearn.tree import DecisionTreeClassifier, DecisionTreeRegressor, export_graphviz\n",
    "from sklearn.ensemble import RandomForestClassifier\n",
    "from sklearn.metrics import accuracy_score, confusion_matrix, r2_score\n",
    "\n",
    "\n",
    "from collections import defaultdict\n",
    "\n",
    "from scipy import stats\n",
    "\n",
    "training_file_path = 'db/BPI_Challenge_2012.XE-training.csv'\n",
    "testing_file_path = 'db/BPI_Challenge_2012.XE-test.csv'\n",
    "nl_holidays = holidays.country_holidays('NL')\n",
    "holidays_keys = nl_holidays.keys()\n",
    "holiday_list = [i for i in nl_holidays.keys()]"
   ]
  },
  {
   "cell_type": "markdown",
   "metadata": {},
   "source": [
    "# load CSV with pandas and pm4py\n",
    "\n",
    "pm4py gives two extra columns: @@index and @@case_index"
   ]
  },
  {
   "cell_type": "code",
   "execution_count": 418,
   "metadata": {},
   "outputs": [],
   "source": [
    "def format_event_log(path):\n",
    "    event_log = pd.read_csv(path, sep=',')\n",
    "    event_log = pm.format_dataframe(\n",
    "        event_log, \n",
    "        case_id='case concept:name', \n",
    "        activity_key='event concept:name', \n",
    "        timestamp_key='event time:timestamp'\n",
    "    )\n",
    "    event_log = event_log.drop(\"case:concept:name\", axis = 1)\n",
    "    event_log = event_log.drop(\"concept:name\", axis = 1)\n",
    "    event_log = event_log.drop(\"time:timestamp\", axis = 1)\n",
    "    return event_log\n",
    "#event_log"
   ]
  },
  {
   "cell_type": "markdown",
   "metadata": {},
   "source": [
    "# Helper methods"
   ]
  },
  {
   "cell_type": "markdown",
   "metadata": {},
   "source": [
    "## Genernal"
   ]
  },
  {
   "cell_type": "markdown",
   "metadata": {},
   "source": [
    "Function that finds the length of the longest trace in a list of traces"
   ]
  },
  {
   "cell_type": "code",
   "execution_count": 419,
   "metadata": {},
   "outputs": [],
   "source": [
    "def find_longest_trace(traces):\n",
    "    max = 0\n",
    "    for trace in traces:\n",
    "        if trace.shape[0] > max:\n",
    "            max = trace.shape[0]\n",
    "    return max\n",
    "\n",
    "def get_all_Activities():\n",
    "    df = format_event_log(training_file_path)\n",
    "    arr = df['event concept:name'].unique()\n",
    "    return arr"
   ]
  },
  {
   "cell_type": "markdown",
   "metadata": {},
   "source": [
    "## Sprint 1"
   ]
  },
  {
   "attachments": {},
   "cell_type": "markdown",
   "metadata": {},
   "source": [
    "Function that adds the time difference from the last event in the trace column in the data set for time prediction"
   ]
  },
  {
   "cell_type": "code",
   "execution_count": 420,
   "metadata": {},
   "outputs": [],
   "source": [
    "# assume sorted by caseID and time\n",
    "def caseHasNextEvent(df, index):\n",
    "    if index >= len(df) - 1:\n",
    "        return False\n",
    "    if df.loc[index, 'case concept:name'] == df.loc[index+1, 'case concept:name']:\n",
    "        return True\n",
    "    return False\n",
    "\n",
    "\n",
    "def computeTimeDifference(df):\n",
    "    # df['time_until_next_event'] = 0  # initialize new column with zeros\n",
    "    df = df.assign(ground_truth_time=0) # initialize new column\n",
    "\n",
    "    # iterate over each row of the dataframe\n",
    "    for i, row in df.iterrows():        \n",
    "        # check if there is a next row with the same case\n",
    "        if caseHasNextEvent(df, i):\n",
    "            nextTime = df.loc[i+1, 'event time:timestamp']\n",
    "            currentTime = row['event time:timestamp']\n",
    "            timeDiff = nextTime - currentTime\n",
    "            df.at[i, 'ground_truth_time'] = timeDiff.total_seconds()\n",
    "    \n",
    "    return df\n",
    "\n"
   ]
  },
  {
   "attachments": {},
   "cell_type": "markdown",
   "metadata": {},
   "source": [
    "Function to write ground truth column in the data set for verification purposes."
   ]
  },
  {
   "cell_type": "code",
   "execution_count": 421,
   "metadata": {},
   "outputs": [],
   "source": [
    "\n",
    "def writeGroundtruth(df):\n",
    "    df = df.sort_values(by=['case concept:name','event time:timestamp'])\n",
    "    #add new columns containing the name of the next event in the case and the time when it happens\n",
    "    df = df.assign(ground_truth_activity='')\n",
    "    df = df.assign(ground_truth_time='')\n",
    "\n",
    "    for ind in df.index:\n",
    "        if caseHasNextEvent(df, ind):\n",
    "            df.at[ind,'ground_truth_activity'] = df.loc[ind+1,'event concept:name']\n",
    "            #df.at[ind,'ground_truth_time'] = df.loc[ind+1, 'event time:timestamp']\n",
    "        else:\n",
    "            df.at[ind,'ground_truth_activity'] = None\n",
    "            #df.at[ind,'ground_truth_time'] = None\n",
    "    df = computeTimeDifference(df)\n",
    "    return df\n",
    "\n",
    "#df_event = writeGroundtruth(event_log)\n",
    "#df_event.to_csv('check_writeGroundtruth_out.csv')"
   ]
  },
  {
   "cell_type": "markdown",
   "metadata": {},
   "source": [
    "## Sprint 2"
   ]
  },
  {
   "cell_type": "markdown",
   "metadata": {},
   "source": [
    "Function that splits the data set into separate traces\n",
    "- Parameter $traces$ is a list containing all the individual traces\n",
    "- Each trace in traces is a list containing all the events in the trace in the order that they happen\n",
    "- Helper method for prefix extraction"
   ]
  },
  {
   "cell_type": "code",
   "execution_count": 422,
   "metadata": {},
   "outputs": [],
   "source": [
    "def split_into_traces(event_log):\n",
    "    traces = []\n",
    "    last_location = 0\n",
    "    for j in range (0, event_log.shape[0] - 1):\n",
    "        if not event_log[\"case concept:name\"][j] == event_log[\"case concept:name\"][j + 1]:\n",
    "            traces.append(event_log.loc[last_location : j].reset_index())\n",
    "            last_location = j + 1\n",
    "    traces.append(event_log.loc[last_location : event_log.shape[0] - 1].reset_index())\n",
    "    return traces"
   ]
  },
  {
   "cell_type": "markdown",
   "metadata": {},
   "source": [
    "Function that deletes traces from an event log that do not end before a specified time"
   ]
  },
  {
   "cell_type": "code",
   "execution_count": 423,
   "metadata": {},
   "outputs": [],
   "source": [
    "def delete_overlapping_traces(event_log, end_time):\n",
    "    traces = split_into_traces(event_log)\n",
    "    del_tr = []\n",
    "    for j in range(len(traces)):\n",
    "        for k in traces[j].index:\n",
    "            trace_ts = traces[j][\"event time:timestamp\"][k]\n",
    "        if trace_ts > end_time:\n",
    "            del_tr.append(traces[j][\"case concept:name\"][0])\n",
    "    \n",
    "    for j in range(len(del_tr)):\n",
    "        event_log = event_log[event_log[\"case concept:name\"] != del_tr[j]]\n",
    "    event_log.to_csv(\"db/S2_Remove_Overlap.csv\")\n",
    "    return event_log.reset_index(drop=True)"
   ]
  },
  {
   "attachments": {},
   "cell_type": "markdown",
   "metadata": {},
   "source": [
    "Prefix extraction\n",
    "- extract event lists of all lengths store in the prefix_lengts, from the traces for prediction\n",
    "- store them in a list of prefixes"
   ]
  },
  {
   "cell_type": "code",
   "execution_count": 424,
   "metadata": {},
   "outputs": [],
   "source": [
    "def prefix_extraction(traces, prefix_lengths):\n",
    "    prefixes = []\n",
    "    for trace in traces:\n",
    "        for length in prefix_lengths:\n",
    "            if trace.shape[0] >= length:\n",
    "                prefixes.append(trace.loc[:length - 1])\n",
    "    return prefixes"
   ]
  },
  {
   "cell_type": "markdown",
   "metadata": {},
   "source": [
    "Regression helper methods"
   ]
  },
  {
   "cell_type": "code",
   "execution_count": 425,
   "metadata": {},
   "outputs": [],
   "source": [
    "# dict_independent_variable should have index as activities\n",
    "# and with a value of a discrete number.\n",
    "def process_X_Y(df, str_DV_col, dict_independent_variable):\n",
    "    independent_Variable = get_all_Activities()\n",
    "    independent_Variable = np.append(['hollidays', 'last_event'], independent_Variable)\n",
    "    dependent_Variable = str_DV_col\n",
    "\n",
    "    \n",
    "    X = df[independent_Variable]\n",
    "    if str_DV_col == \"ground_truth_activity\":\n",
    "        Y = df[dependent_Variable].replace(dict_independent_variable)\n",
    "    elif str_DV_col == \"ground_truth_time\":\n",
    "        Y = df[dependent_Variable]\n",
    "\n",
    "    return X, Y\n",
    "\n",
    "def get_Regression_model_and_scaler(X, Y, type):\n",
    "\n",
    "    scaler = MinMaxScaler()\n",
    "    X = scaler.fit_transform(X)\n",
    "    if type == \"Logistic\":\n",
    "        model = LogisticRegression()\n",
    "        Y = Y.fillna(0.0)\n",
    "    elif type == \"Linear\":\n",
    "        model = LinearRegression()\n",
    "        Y = Y.fillna(0.0)\n",
    "\n",
    "\n",
    "    model.fit(X, Y)\n",
    "    \n",
    "    intercept = model.intercept_\n",
    "\n",
    "    return model, scaler\n"
   ]
  },
  {
   "cell_type": "markdown",
   "metadata": {},
   "source": [
    "## Sprint 3"
   ]
  },
  {
   "cell_type": "markdown",
   "metadata": {},
   "source": [
    "isHolliday helper method"
   ]
  },
  {
   "cell_type": "code",
   "execution_count": 426,
   "metadata": {},
   "outputs": [],
   "source": [
    "def isHoliday(timestamp):\n",
    "    if timestamp.weekday() in [5, 6] or timestamp.date() in holiday_list:\n",
    "        return 1\n",
    "    else: return 0"
   ]
  },
  {
   "attachments": {},
   "cell_type": "markdown",
   "metadata": {},
   "source": [
    "helper method to get the needed dictionaries"
   ]
  },
  {
   "cell_type": "code",
   "execution_count": 427,
   "metadata": {},
   "outputs": [],
   "source": [
    "def get_IV_dict():\n",
    "    IV_list = get_all_Activities().tolist()\n",
    "    return {\n",
    "        a: IV_list.index(a) for a in IV_list\n",
    "    }\n",
    "\n",
    "def get_IV_dict_invert():\n",
    "    IV_dict = get_IV_dict()\n",
    "    return {v: k for k, v in IV_dict.items()}\n"
   ]
  },
  {
   "attachments": {},
   "cell_type": "markdown",
   "metadata": {},
   "source": [
    "Decision tree helper method"
   ]
  },
  {
   "cell_type": "code",
   "execution_count": 428,
   "metadata": {},
   "outputs": [],
   "source": [
    "def get_Decision_tree_model_and_scaler(X, Y, type):\n",
    "    scaler = MinMaxScaler()\n",
    "    X = scaler.fit_transform(X)\n",
    "\n",
    "    if type == 'activity':\n",
    "        model = DecisionTreeClassifier(criterion='entropy', max_depth=10, random_state=1)\n",
    "    elif type == 'time':\n",
    "        model = DecisionTreeRegressor(criterion='absolute_error', max_depth=10, random_state=1)\n",
    "\n",
    "    Y = Y.fillna(0.0)\n",
    "\n",
    "    # print(Y)\n",
    "    model.fit(X, Y)\n",
    "    \n",
    "    return model, scaler"
   ]
  },
  {
   "attachments": {},
   "cell_type": "markdown",
   "metadata": {},
   "source": [
    "Function that deletes the outliers based on the zscore`"
   ]
  },
  {
   "cell_type": "code",
   "execution_count": 429,
   "metadata": {},
   "outputs": [],
   "source": [
    "def delete_outliers(event_log):\n",
    "    traces = split_into_traces(event_log)\n",
    "    del_trace = []\n",
    "    trace_len = []\n",
    "    for j in range(1, len(traces)):\n",
    "        trace_len.append(traces[j].size)\n",
    "\n",
    "    df_len = pd.DataFrame(trace_len)\n",
    "    df_len = df_len[(np.abs(stats.zscore(df_len[0])) > 3)]\n",
    "\n",
    "    for ind in df_len.index:\n",
    "        del_trace.append(traces[ind][\"case concept:name\"][0])\n",
    "\n",
    "    for j in range(len(del_trace)):\n",
    "        event_log = event_log[event_log[\"case concept:name\"] != del_trace[j]]\n",
    "    event_log.to_csv(\"db/S2_Remove_Overlap.csv\")\n",
    "    return event_log.reset_index(drop=True)"
   ]
  },
  {
   "cell_type": "markdown",
   "metadata": {},
   "source": [
    "## Aggregation functions"
   ]
  },
  {
   "attachments": {},
   "cell_type": "markdown",
   "metadata": {},
   "source": [
    "Aggregation encoding\n",
    "\n",
    "- encode traces into numerical data for prediction\n",
    "- adds the ground truth at the start of the encoded prefix\n",
    "- adds the hollidays and last_event features at the end of the encoding"
   ]
  },
  {
   "cell_type": "code",
   "execution_count": 430,
   "metadata": {},
   "outputs": [],
   "source": [
    "def create_dict(events):\n",
    "\n",
    "    events_dict = {'ground_truth_activity' : 'truth', 'ground_truth_time' : 'truth'}\n",
    "    for event in events:\n",
    "        events_dict[event] = 0\n",
    "    events_dict['hollidays'] = 0\n",
    "    events_dict['last_event'] = 0\n",
    "    return events_dict\n",
    "\n",
    "def aggregation_encoding(prefixes, event_log):\n",
    "    events = get_all_Activities()\n",
    "    event_dict = create_dict(events)\n",
    "    last_event_dict = get_IV_dict()\n",
    "    aggregation_encoding = pd.DataFrame(event_dict, index=[0])\n",
    "    aggregation_encoding = aggregation_encoding.drop(0)\n",
    "    #new_encoding = ['truth', 0, 0, 0, 0, 0, 0, 0, 0, 0, 0, 0, 0, 0, 0, 0, 0, 0, 0, 0, 0, 0, 0, 0, 0]\n",
    "    index = 0\n",
    "    for prefix in prefixes:\n",
    "        current_dict = create_dict(events)\n",
    "        current_dict['ground_truth_activity'] = prefix['ground_truth_activity'][len(prefix.index) - 1]\n",
    "        current_dict['ground_truth_time'] = prefix['ground_truth_time'][len(prefix.index) - 1]\n",
    "        current_dict['last_event'] = last_event_dict[prefix[\"event concept:name\"][len(prefix.index) - 1]]\n",
    "        for j in range (prefix.shape[0]):\n",
    "            if isHoliday(prefix[\"event time:timestamp\"][j]):\n",
    "                current_dict['hollidays'] = current_dict['hollidays'] + 1\n",
    "            current_dict[prefix[\"event concept:name\"][j]] = current_dict[prefix[\"event concept:name\"][j]] + 1\n",
    "        aggregation_encoding.loc[index] = current_dict.values()\n",
    "        index += 1\n",
    "    return aggregation_encoding"
   ]
  },
  {
   "attachments": {},
   "cell_type": "markdown",
   "metadata": {},
   "source": [
    "Apply the necesary changes to the event log and do all the steps in order to aggregate a file"
   ]
  },
  {
   "cell_type": "code",
   "execution_count": 431,
   "metadata": {},
   "outputs": [],
   "source": [
    "def get_aggregation_encoding(path, type):\n",
    "    event_log = format_event_log(path)\n",
    "    if type == \"train\":\n",
    "        time_split = pd.to_datetime(\"02-01-2012 15:28:39.244\",format=\"%d-%m-%Y %H:%M:%S.%f\")\n",
    "        event_log = delete_overlapping_traces(event_log, pd.Timestamp(time_split, tz='GMT+0'))\n",
    "        event_log = delete_outliers(event_log)\n",
    "        event_log = format_event_log(\"db/S2_Remove_Overlap.csv\")\n",
    "    traces = split_into_traces(event_log)\n",
    "    prefix_lengths = []\n",
    "    if type == \"train\":\n",
    "        prefix_lengths = [1, 3, 5, 7, 9, 11, 13, 15, 17, 19, 21, 23, 25, 27, 29]\n",
    "    if type == \"test\":\n",
    "        prefix_lengths = [x for x in range(1, find_longest_trace(traces) + 1)]\n",
    "    prefixes = prefix_extraction(traces, prefix_lengths)\n",
    "    aggregation = aggregation_encoding(prefixes, event_log)\n",
    "    if type == \"train\":\n",
    "        aggregation.to_csv(\"db/aggregation_encoding_train.csv\")\n",
    "    if type == \"test\":\n",
    "        aggregation.to_csv(\"db/aggregation_encoding_test.csv\")\n",
    "    return aggregation\n",
    "     "
   ]
  },
  {
   "attachments": {},
   "cell_type": "markdown",
   "metadata": {},
   "source": [
    "Create the aggregations for the train and the test files"
   ]
  },
  {
   "cell_type": "code",
   "execution_count": 432,
   "metadata": {},
   "outputs": [],
   "source": [
    "def write_aggregation():\n",
    "    train_file_path = 'db/S1_GroundTruth.csv'\n",
    "    test_file_path = 'db/S2_Aggregation_Estimator.csv'\n",
    "    train_aggregation = get_aggregation_encoding(train_file_path, \"train\")\n",
    "    test_aggregation = get_aggregation_encoding(test_file_path, \"test\")"
   ]
  },
  {
   "attachments": {},
   "cell_type": "markdown",
   "metadata": {},
   "source": [
    "# Naive Estimator (S1)\n",
    "- used indications on canvas\n",
    "- order train and test set by \"case concept:name\" and \"event time:timestamp\" columns \n",
    "- split train set into traces\n",
    "- find the length of the longest trace (N)\n",
    "- for each position i (from 1..N) find out the most commun activity that happened in each trace at position i at the most commun time difference between position i and position i-1 in each trace\n",
    "- add this data to the test set"
   ]
  },
  {
   "cell_type": "code",
   "execution_count": 433,
   "metadata": {},
   "outputs": [],
   "source": [
    "def naive_estimators():\n",
    "    df_train = format_event_log(training_file_path)\n",
    "    df_train = writeGroundtruth(df_train)\n",
    "\n",
    "    df_test = format_event_log(testing_file_path)\n",
    "    df_test = writeGroundtruth(df_test)\n",
    "\n",
    "    traces = split_into_traces(df_train)\n",
    "    N = find_longest_trace(traces)\n",
    "    \n",
    "    common_activities = []\n",
    "    common_times = []\n",
    "    for i in range (0, N):\n",
    "        activity_at_position_i = defaultdict(int)\n",
    "        for trace in traces:\n",
    "            if (i < trace.shape[0]):\n",
    "                activity_at_position_i[trace[\"event concept:name\"][i]] += 1\n",
    "        common_activities.append(max(activity_at_position_i, key=lambda k: activity_at_position_i[k]))\n",
    "\n",
    "        time_at_position_i = defaultdict(int)\n",
    "        for trace in traces:\n",
    "            if (i < trace.shape[0]):\n",
    "                time_at_position_i[trace[\"ground_truth_time\"][i]] += 1\n",
    "                \n",
    "        common_times.append(max(time_at_position_i, key=lambda k: time_at_position_i[k]))\n",
    "\n",
    "    activity_predictions = []\n",
    "    time_predictions = []\n",
    "    index = 0\n",
    "    for j in range (0, df_test.shape[0] - 1):\n",
    "        if df_test[\"case concept:name\"][j] == df_test[\"case concept:name\"][j + 1]:\n",
    "            activity_predictions.append(common_activities[index])\n",
    "            time_predictions.append(common_times[index])\n",
    "            index += 1\n",
    "        else:\n",
    "            activity_predictions.append(common_activities[index])\n",
    "            time_predictions.append(common_times[index])\n",
    "            index = 0\n",
    "    activity_predictions.append(common_activities[index])\n",
    "    time_predictions.append(common_times[index])\n",
    "    df_test[\"S_1_Activity\"] = activity_predictions\n",
    "    df_test[\"S_1_Time\"] = time_predictions\n",
    "    df_train.to_csv(\"db/S1_GroundTruth.csv\")\n",
    "    df_test.to_csv(\"db/S1_Naive_estimator.csv\")\n"
   ]
  },
  {
   "cell_type": "markdown",
   "metadata": {},
   "source": [
    "# Mode Estimator (S2)\n",
    "1. for each row find next activity of the case and its timestamp\n",
    "2. compute the time it take for the next event to be log in the db\n",
    "3. for each activity find the most common next activity (mode)\n",
    "4. for each activity find the average time between next activity\n",
    "5. Have 3. and 4. in a DataFrame\n",
    "6. base on the current activity write the prediction of the next activity and time it will take"
   ]
  },
  {
   "cell_type": "code",
   "execution_count": 434,
   "metadata": {},
   "outputs": [],
   "source": [
    "def mode_estimators():\n",
    "\n",
    "    s2_train_file_path = \"db/S1_GroundTruth.csv\"\n",
    "    s2_test_file_path = \"db/S1_Naive_estimator.csv\"\n",
    "\n",
    "    df_train = format_event_log(s2_train_file_path)\n",
    "    df_test = format_event_log(s2_test_file_path)\n",
    "\n",
    "    holiday_train = []\n",
    "    for index in range (df_train.shape[0]): \n",
    "        if isHoliday(df_train[\"event time:timestamp\"][index]):\n",
    "            holiday_train.append(1)\n",
    "        else:\n",
    "            holiday_train.append(0)\n",
    "\n",
    "    holiday_test = []\n",
    "    for index in range (df_test.shape[0]): \n",
    "        if isHoliday(df_test[\"event time:timestamp\"][index]):\n",
    "            holiday_test.append(1)\n",
    "        else:\n",
    "            holiday_test.append(0)\n",
    "\n",
    "    df_train['isHoliday'] = holiday_train\n",
    "    df_test['isHoliday'] = holiday_test\n",
    "\n",
    "    df_look_up_dict_activity =  df_train.groupby(['event concept:name', 'isHoliday']).agg(\n",
    "        Activity_Pretiction = ('ground_truth_activity', pd.Series.mode)\n",
    "    ).unstack()\n",
    "    df_look_up_dict_time = df_train.copy().groupby(['event concept:name', 'isHoliday']).agg(\n",
    "        Time_Pretiction = ('ground_truth_time', 'mean')\n",
    "    ).unstack()\n",
    "\n",
    "\n",
    "    df_test = df_test.assign(S_2_Activity='')\n",
    "    df_test = df_test.assign(S_2_Time=0)\n",
    "    for i, r in df_test.iterrows():\n",
    "        this_activity = r['event concept:name']\n",
    "        this_isHoliday = r['isHoliday']\n",
    "        next_event = df_look_up_dict_activity.loc[this_activity, ('Activity_Pretiction', this_isHoliday)]\n",
    "        next_time = df_look_up_dict_time.loc[this_activity, ('Time_Pretiction', this_isHoliday)]\n",
    "\n",
    "        df_test.at[i,'S_2_Activity'] = next_event\n",
    "        df_test.at[i,'S_2_Time'] = next_time\n",
    "\n",
    "    df_test = df_test.drop('isHoliday', axis = 1)\n",
    "    df_test.to_csv('db/S2_Aggregation_Estimator.csv')\n",
    "\n",
    "\n",
    "    "
   ]
  },
  {
   "attachments": {},
   "cell_type": "markdown",
   "metadata": {},
   "source": [
    "# Multivalue Regression (S3)"
   ]
  },
  {
   "cell_type": "code",
   "execution_count": 435,
   "metadata": {},
   "outputs": [],
   "source": [
    "def regression_estimator():\n",
    "    df_encoded_train = pd.read_csv('db/aggregation_encoding_train.csv')\n",
    "    df_encoded_test = pd.read_csv('db/aggregation_encoding_test.csv')\n",
    "    \n",
    "    df_output = format_event_log('db/S2_Aggregation_Estimator.csv')\n",
    "    \n",
    "    independent_Variable = get_all_Activities().tolist()\n",
    "    dict_IV_index_activities = {\n",
    "        a: independent_Variable.index(a) for a in independent_Variable\n",
    "    }\n",
    "    dict_IV_invert = {v: k for k, v in dict_IV_index_activities.items()}\n",
    "    # ========================================================================================== \n",
    "    X_train_activity, Y_train_activity = process_X_Y(df_encoded_train, \"ground_truth_activity\", dict_IV_index_activities)\n",
    "    X_test_activity, Y_test_activity = process_X_Y(df_encoded_test, \"ground_truth_activity\", dict_IV_index_activities)\n",
    "\n",
    "    model_activity, scaler_activity = get_Regression_model_and_scaler(\n",
    "        X_train_activity, \n",
    "        Y_train_activity, \n",
    "        \"Logistic\"\n",
    "    )\n",
    "\n",
    "    X_test_activity = scaler_activity.transform(X_test_activity)\n",
    "\n",
    "    predicts_activity = model_activity.predict(X_test_activity)\n",
    "    predicts_activity = [dict_IV_invert[p] for p in predicts_activity]\n",
    "\n",
    "    # ===========================================================================================\n",
    "    X_train_time, Y_train_time = process_X_Y(df_encoded_train, \"ground_truth_time\", dict_IV_index_activities)\n",
    "    X_test_time, Y_test_time = process_X_Y(df_encoded_test, \"ground_truth_time\", dict_IV_index_activities)\n",
    "    model_time, scaler_time = get_Regression_model_and_scaler(\n",
    "        X_train_time,\n",
    "        Y_train_time,\n",
    "        \"Linear\"\n",
    "    )\n",
    "    X_test_time = scaler_time.transform(X_test_time)\n",
    "    predicts_time = model_time.predict(X_test_time)\n",
    "\n",
    "    df_output['S_3_activities'] = predicts_activity\n",
    "    df_output['S_3_time'] = predicts_time\n",
    "    df_output.to_csv(\"db/S3_Regression_Estimator.csv\")\n",
    "\n"
   ]
  },
  {
   "attachments": {},
   "cell_type": "markdown",
   "metadata": {},
   "source": [
    "# Decision Tree Estimator (S4)"
   ]
  },
  {
   "cell_type": "code",
   "execution_count": 436,
   "metadata": {},
   "outputs": [],
   "source": [
    "def decision_tree_estimator():\n",
    "    df_encoded_train = pd.read_csv('db/aggregation_encoding_train.csv')\n",
    "    df_encoded_test = pd.read_csv('db/aggregation_encoding_test.csv')\n",
    "    \n",
    "    df_output = format_event_log('db\\S3_Regression_Estimator.csv')\n",
    "    \n",
    "    independent_Variable = get_all_Activities().tolist()\n",
    "    dict_IV_index_activities = get_IV_dict()\n",
    "    dict_IV_invert = get_IV_dict_invert()\n",
    "    # ========================================================================================== \n",
    "    X_train_activity, Y_train_activity = process_X_Y(df_encoded_train, \"ground_truth_activity\", dict_IV_index_activities)\n",
    "    X_test_activity, Y_test_activity = process_X_Y(df_encoded_test, \"ground_truth_activity\", dict_IV_index_activities)\n",
    "\n",
    "    model_activity, scaler_activity = get_Decision_tree_model_and_scaler(\n",
    "        X_train_activity, \n",
    "        Y_train_activity,\n",
    "        'activity'\n",
    "    )\n",
    "\n",
    "    X_test_activity = scaler_activity.transform(X_test_activity)\n",
    "\n",
    "    predicts_activity = model_activity.predict(X_test_activity)\n",
    "    predicts_activity = [dict_IV_invert[p] for p in predicts_activity]\n",
    "    \n",
    "    df_output['S_4_activities'] = predicts_activity\n",
    "\n",
    "\n",
    "    # ========================================================================================== \n",
    "    X_train_time, Y_train_time = process_X_Y(df_encoded_train, \"ground_truth_time\", dict_IV_index_activities)\n",
    "    X_test_time, Y_test_time = process_X_Y(df_encoded_test, \"ground_truth_time\", dict_IV_index_activities)\n",
    "\n",
    "    model_time, scaler_time = get_Decision_tree_model_and_scaler(\n",
    "        X_train_time, \n",
    "        Y_train_time,\n",
    "        'time'\n",
    "    )\n",
    "\n",
    "    X_test_time = scaler_activity.transform(X_test_time)\n",
    "\n",
    "    predicts_time = model_activity.predict(X_test_time)\n",
    "\n",
    "    df_output['S_4_time'] = predicts_time\n",
    "\n",
    "    df_output.to_csv(\"db/S4_Decision_Tree_Estimator.csv\")\n"
   ]
  },
  {
   "cell_type": "markdown",
   "metadata": {},
   "source": [
    "# Other Functionalities"
   ]
  },
  {
   "cell_type": "markdown",
   "metadata": {},
   "source": [
    "## Visualisation"
   ]
  },
  {
   "cell_type": "markdown",
   "metadata": {},
   "source": [
    "Scatterplot representation of the entire data set in chronological order"
   ]
  },
  {
   "cell_type": "code",
   "execution_count": 437,
   "metadata": {},
   "outputs": [],
   "source": [
    "def plot_all_data():\n",
    "    df_BPI_train = pd.read_csv(training_file_path)\n",
    "    df_BPI_test = pd.read_csv(testing_file_path)\n",
    "    df_BPI = pd.concat([df_BPI_train, df_BPI_train])\n",
    "    \n",
    "    df_BPI['event time:timestamp'] = pd.to_datetime(df_BPI['event time:timestamp'],format=\"%d-%m-%Y %H:%M:%S.%f\")\n",
    "    \n",
    "    ax = sns.relplot(data=df_BPI, x='event time:timestamp', y='case concept:name', hue='event concept:name', height=10, aspect=1.5)\n",
    "    plt.ylim(max(df_BPI['case concept:name']), min(df_BPI['case concept:name']))\n",
    "    plt.show()"
   ]
  },
  {
   "cell_type": "markdown",
   "metadata": {},
   "source": [
    "Scatterplot representation of the data set split into training and test sets, after the removal of unusable traces from the training set"
   ]
  },
  {
   "cell_type": "code",
   "execution_count": 438,
   "metadata": {},
   "outputs": [],
   "source": [
    "def plot_split_data():\n",
    "    df_BPI_train = pd.read_csv(training_file_path)\n",
    "    df_BPI_test = pd.read_csv(testing_file_path)\n",
    "    df_BPI = pd.concat([df_BPI_train, df_BPI_train])\n",
    "    \n",
    "    df_BPI['event time:timestamp'] = pd.to_datetime(df_BPI['event time:timestamp'],format=\"%d-%m-%Y %H:%M:%S.%f\")\n",
    "    df_BPI['case REG_DATE'] = pd.to_datetime(df_BPI['case REG_DATE'],format=\"%d-%m-%Y %H:%M:%S.%f\")\n",
    "    splittime = pd.to_datetime(\"02-01-2012 15:28:39.244\",format=\"%d-%m-%Y %H:%M:%S.%f\")\n",
    "    plt_splitline = df_BPI.copy()\n",
    "    plt_splitline['event time:timestamp'] = splittime\n",
    "    plt_splitline['event concept:name'] = \"test/training split\"\n",
    "    \n",
    "    df_BPI = df_BPI.sort_values(by=['case concept:name','event time:timestamp'], ignore_index=True)\n",
    "    df_BPI_train = delete_overlapping_traces(df_BPI.copy(), splittime)\n",
    "    df_BPI_test = df_BPI[df_BPI['case REG_DATE'] >= splittime]\n",
    "    \n",
    "    df_BPI = pd.concat([df_BPI_train, df_BPI_test])\n",
    "    df_BPI = df_BPI.sort_values(by='event time:timestamp', ignore_index=True)\n",
    "    df_BPI = pd.concat([df_BPI, plt_splitline])\n",
    "    \n",
    "    ax = sns.relplot(data=df_BPI, x='event time:timestamp', y='case concept:name', hue='event concept:name', height=10, aspect=1.5)\n",
    "    plt.ylim(max(df_BPI['case concept:name']), min(df_BPI['case concept:name']))\n",
    "    plt.show()"
   ]
  },
  {
   "cell_type": "markdown",
   "metadata": {},
   "source": [
    "Scatterplot representation of the data set with time arrangement of events relative to the start of their respective case"
   ]
  },
  {
   "cell_type": "code",
   "execution_count": 439,
   "metadata": {},
   "outputs": [],
   "source": [
    "def plot_case_relative():\n",
    "    df_BPI_train = pd.read_csv(training_file_path)\n",
    "    df_BPI_test = pd.read_csv(testing_file_path)\n",
    "    df_BPI = pd.concat([df_BPI_train, df_BPI_train])\n",
    "    \n",
    "    df_BPI['event time:timestamp'] = pd.to_datetime(df_BPI['event time:timestamp'],format=\"%d-%m-%Y %H:%M:%S.%f\")\n",
    "    df_BPI['case REG_DATE'] = pd.to_datetime(df_BPI['case REG_DATE'],format=\"%d-%m-%Y %H:%M:%S.%f\")\n",
    "    \n",
    "    df_BPI['event time:case relative'] = pd.to_datetime(df_BPI['event time:timestamp'], format=\"%Y-%m-%d %H:%M:%S.%f\") - pd.to_datetime(df_BPI['case REG_DATE'], format=\"%Y-%m-%d %H:%M:%S.%f\")\n",
    "    \n",
    "    ax = sns.relplot(data=df_BPI, x='event time:case relative', y='case concept:name', hue='event concept:name', markers=\"x\", height=7, aspect=1.5)\n",
    "    plt.ylim(max(df_BPI['case concept:name']), min(df_BPI['case concept:name']))\n",
    "    plt.xlim(0, )\n",
    "    plt.show()"
   ]
  },
  {
   "cell_type": "markdown",
   "metadata": {},
   "source": [
    "## Error model"
   ]
  },
  {
   "attachments": {},
   "cell_type": "markdown",
   "metadata": {},
   "source": [
    "Scatter Plot representation of the time error of the currently checked model"
   ]
  },
  {
   "cell_type": "code",
   "execution_count": 440,
   "metadata": {},
   "outputs": [],
   "source": [
    "def error_visualisation_time(df, prediction_time):\n",
    "    df['ground_truth_time'] = df['ground_truth_time'] / 3600\n",
    "    df[prediction_time] = df[prediction_time] / 3600\n",
    "    \n",
    "    x1 = df['ground_truth_time']\n",
    " \n",
    "    y1 = df.index\n",
    " \n",
    "    x2 = df[prediction_time]\n",
    " \n",
    "    y2 = df.index\n",
    " \n",
    "    plt.scatter(x1, y1, c =\"green\",\n",
    "                linewidths = 2,\n",
    "                marker =\"s\",\n",
    "                s = 10)\n",
    "    \n",
    "    plt.scatter(x2, y2, c =\"red\",\n",
    "                linewidths = 2,\n",
    "                marker =\"^\",\n",
    "                s = 10)\n",
    "    \n",
    "    plt.xlabel(\"Time (Hours)\")\n",
    "    plt.ylabel(\"EventID\")\n",
    "    plt.ylim(200, 300)\n",
    "    plt.xlim(-2, 200)\n",
    "    plt.show()"
   ]
  },
  {
   "attachments": {},
   "cell_type": "markdown",
   "metadata": {},
   "source": [
    "Calculates the Root Mean Square Error"
   ]
  },
  {
   "cell_type": "code",
   "execution_count": 441,
   "metadata": {},
   "outputs": [],
   "source": [
    "def root_mean_square_error(df, prediction_time):\n",
    "    rms = mean_squared_error(df['ground_truth_time'], df[prediction_time])\n",
    "    print(f'RMS = {rms:.1f}')"
   ]
  },
  {
   "attachments": {},
   "cell_type": "markdown",
   "metadata": {},
   "source": [
    "Heatmap Representing a Confusion Matrix for our activity predictions"
   ]
  },
  {
   "cell_type": "code",
   "execution_count": 442,
   "metadata": {},
   "outputs": [],
   "source": [
    "def get_amount_activity(df, prediction_activity):\n",
    "    event_names = pd.read_csv('db/aggregation_encoding_train.csv')\n",
    "    event_names = event_names['ground_truth_activity'].unique()\n",
    "    event_names[13] = 'None'\n",
    "    df['error_activity'] = df['ground_truth_activity'] == df[prediction_activity]\n",
    "    print(df['error_activity'].size)\n",
    "    for x in event_names:\n",
    "        print(x)\n",
    "        df[x] = df['event concept:name'] == x\n",
    "        df[x + 'correct pred'] = df[x] == df['error_activity']\n",
    "        correct_predictions = df[x + 'correct pred'].count()\n",
    "        print(correct_predictions)"
   ]
  },
  {
   "cell_type": "code",
   "execution_count": 443,
   "metadata": {},
   "outputs": [],
   "source": [
    "def error_visualisation_activity(df, prediction_activity):\n",
    "    cm = confusion_matrix(df['ground_truth_activity'], df[prediction_activity])\n",
    "    sns.heatmap(cm,\n",
    "            annot=True, \n",
    "            annot_kws={\"size\":5},\n",
    "            fmt='g')\n",
    "    plt.ylabel('Prediction',fontsize=7)\n",
    "    plt.xlabel('Actual',fontsize=7)\n",
    "    plt.title('Confusion Matrix',fontsize=10)\n",
    "    plt.show()"
   ]
  },
  {
   "attachments": {},
   "cell_type": "markdown",
   "metadata": {},
   "source": [
    "Finds the Accuracy of the activity prediction model"
   ]
  },
  {
   "cell_type": "code",
   "execution_count": 444,
   "metadata": {},
   "outputs": [],
   "source": [
    "def error_activity(df, prediction_activity):\n",
    "    df['error_activity'] = df['ground_truth_activity'] == df[prediction_activity]\n",
    "    correct_predictions = df['error_activity'].value_counts()\n",
    "    percentage = correct_predictions[True] / len(df['error_activity']) * 100\n",
    "    print(f'Percentage of True values: {percentage:.1f}%')"
   ]
  },
  {
   "attachments": {},
   "cell_type": "markdown",
   "metadata": {},
   "source": [
    "Find the absolute mean error of the time prediction model"
   ]
  },
  {
   "cell_type": "code",
   "execution_count": 445,
   "metadata": {},
   "outputs": [],
   "source": [
    "def error_time(df, prediction_time):\n",
    "    df['error_time'] = df[prediction_time] - df['ground_truth_time']\n",
    "    mean_absolute_error = df['error_time'].mean()\n",
    "    print(abs(mean_absolute_error))"
   ]
  },
  {
   "attachments": {},
   "cell_type": "markdown",
   "metadata": {},
   "source": [
    "Runs all the methods to see error of each model"
   ]
  },
  {
   "cell_type": "code",
   "execution_count": 446,
   "metadata": {},
   "outputs": [],
   "source": [
    "def error_model(predictor_path, prediction_activity, prediction_time):\n",
    "    df_error_model = pd.read_csv(predictor_path)\n",
    "    df_error_model = df_error_model.fillna('None')\n",
    "    # error_activity(df_error_model, prediction_activity)\n",
    "    # error_time(df_error_model, prediction_time)\n",
    "    # root_mean_square_error(df_error_model, prediction_time)\n",
    "    # error_visualisation_time(df_error_model, prediction_time)\n",
    "    get_amount_activity(df_error_model, prediction_activity)\n",
    "    error_visualisation_activity(df_error_model, prediction_activity)"
   ]
  },
  {
   "cell_type": "markdown",
   "metadata": {},
   "source": [
    "## Memory and CPU Usage"
   ]
  },
  {
   "cell_type": "code",
   "execution_count": 447,
   "metadata": {},
   "outputs": [],
   "source": [
    "def check_memory_cpu() : \n",
    "    print('The CPU usage is: ', pu.cpu_percent(4))\n",
    "    print('RAM memory % used:', pu.virtual_memory()[2])\n",
    "    print('RAM Used (GB):', pu.virtual_memory()[3]/1000000000)"
   ]
  },
  {
   "cell_type": "markdown",
   "metadata": {},
   "source": [
    "# Main class\n",
    "1. All functions that are needed all called in this cell.\n",
    "2. No other cell runs code other than the main cell."
   ]
  },
  {
   "cell_type": "code",
<<<<<<< HEAD
   "execution_count": 32,
=======
   "execution_count": 448,
>>>>>>> c54ff7a40f194a3d21bffaca13855aa91c049375
   "metadata": {},
   "outputs": [
    {
     "name": "stdout",
     "output_type": "stream",
     "text": [
      "['A_PARTLYSUBMITTED' 'W_Completeren aanvraag' 'A_ACCEPTED' 'O_SELECTED'\n",
      " 'O_SENT' 'W_Nabellen offertes' 'O_SENT_BACK' 'O_ACCEPTED' 'A_APPROVED'\n",
      " 'W_Valideren aanvraag' 'A_FINALIZED' 'O_CANCELLED' 'O_CREATED' 'None'\n",
      " 'A_CANCELLED' 'W_Afhandelen leads' 'W_Nabellen incomplete dossiers'\n",
      " 'A_REGISTERED' 'A_DECLINED' 'A_ACTIVATED' 'O_DECLINED'\n",
      " 'W_Beoordelen fraude' 'A_SUBMITTED' 'A_PREACCEPTED'\n",
      " 'W_Wijzigen contractgegevens']\n",
      "22414\n",
      "A_PARTLYSUBMITTED\n",
      "22414\n",
      "W_Completeren aanvraag\n",
      "22414\n",
      "A_ACCEPTED\n",
      "22414\n",
      "O_SELECTED\n",
      "22414\n",
      "O_SENT\n",
      "22414\n",
      "W_Nabellen offertes\n",
      "22414\n",
      "O_SENT_BACK\n",
      "22414\n",
      "O_ACCEPTED\n",
      "22414\n",
      "A_APPROVED\n",
      "22414\n",
      "W_Valideren aanvraag\n",
      "22414\n",
      "A_FINALIZED\n",
      "22414\n",
      "O_CANCELLED\n",
      "22414\n",
      "O_CREATED\n",
      "22414\n",
      "None\n",
      "22414\n",
      "A_CANCELLED\n",
      "22414\n",
      "W_Afhandelen leads\n",
      "22414\n",
      "W_Nabellen incomplete dossiers\n",
      "22414\n",
      "A_REGISTERED\n",
      "22414\n",
      "A_DECLINED\n",
      "22414\n",
      "A_ACTIVATED\n",
      "22414\n",
      "O_DECLINED\n",
      "22414\n",
      "W_Beoordelen fraude\n",
      "22414\n",
      "A_SUBMITTED\n",
      "22414\n",
      "A_PREACCEPTED\n",
      "22414\n",
      "W_Wijzigen contractgegevens\n",
      "22414\n"
     ]
    },
    {
     "data": {
      "image/png": "iVBORw0KGgoAAAANSUhEUgAAAiMAAAHDCAYAAAD2hhquAAAAOXRFWHRTb2Z0d2FyZQBNYXRwbG90bGliIHZlcnNpb24zLjcuMCwgaHR0cHM6Ly9tYXRwbG90bGliLm9yZy88F64QAAAACXBIWXMAAA9hAAAPYQGoP6dpAACsOElEQVR4nOzdeXhM1x/H8fdYEgnJRGwRhFBL7UvRoAghYomgiGrse2InhFpKCdoqWrW0JWhRVVutjS2qYi+l9lJrItZEEiKS+f3hl7QhGTOZm8k1vq8+93mamXu+85mbSXLce+45Gp1Op0MIIYQQIpvkyO4AQgghhHizSWdECCGEENlKOiNCCCGEyFbSGRFCCCFEtpLOiBBCCCGylXRGhBBCCJGtpDMihBBCiGwlnREhhBBCZCvpjAghhBAiW0lnRAgz0+l09OvXD0dHRzQaDSdOnDC5ZqlSpZgzZ47JddRs8uTJVK9ePbtjCCGygHRGhPi/yMhIBg8eTOnSpbG2tqZEiRK0adOGXbt2Kfo627dvJyQkhM2bNxMREUHlypVNrnnkyBH69eunQLqM7d27F41GQ/78+Xny5MlLr6/RaNBoNEbVbNy4McOGDTNo31GjRin+vRBCqIN0RoQA/vnnH2rVqsXu3bv59NNPOXXqFNu3b8fd3R1/f39FX+vvv/+maNGi1KtXDycnJ3LlymVyzUKFCmFra6tAulezs7Nj/fr1aR777rvvcHFxyZLX0+l0PHv2jHz58lGgQIEseQ0hRDbTCSF0Xl5eumLFiuliY2Nfeu7Bgwep/3/16lWdt7e3Lm/evDo7Oztdx44ddZGRkanPT5o0SVetWjXd8uXLdSVLltTZ29vrOnfurIuJidHpdDpd9+7ddUDqVrJkSZ1Op9OVLFlS98UXX6R53WrVqukmTZqk0+l0uuTkZN2kSZN0JUqU0FlZWemKFi2qGzx4cOq+L7Y3NWd69uzZowN0H330kc7DwyP18fj4eJ1Wq9VNmDBB999fKXfv3tX5+vrqnJ2ddTY2NrrKlSvrVq5cmfr8i8cC0F25ciX1dbZu3aqrWbOmLnfu3Lo9e/akZtbpdLrHjx/rKlasqOvbt29qvUuXLuny5cun++677zJ8D0IIdZIzI+KNd//+fbZv346/vz958+Z96XkHBwcAkpOTadu2Lffv3ycsLIzQ0FAuX75M586d0+z/999/s2HDBjZv3szmzZsJCwtjxowZAMydO5cpU6ZQvHhxIiIiOHLkiEEZf/75Z7744gsWLVrExYsX2bBhA1WqVEl3XyVy6uPn58dvv/3GtWvXUrOVKlWKmjVrptnvyZMn1KpViy1btnD69Gn69euHn58fhw8fTj0Wbm5u9O3bl4iICCIiIihRokRq+7FjxzJjxgzOnj1L1apV09TOkycPP/zwA8uWLWPjxo0kJSXx4Ycf0qxZM3r16vXqAyqEUBXTzw8L8Zq7dOkSOp2OChUq6N1v165dnDp1iitXrqT+0Vy+fDmVKlXiyJEj1K5dG3jeGQgJCcHOzg54/sd7165dTJs2Da1Wi52dHTlz5sTJycngjNeuXcPJyQkPDw9y586Ni4sLderUybKc+hQuXBgvLy9CQkKYOHEiS5YsSbcDUKxYMUaNGpX69eDBg9mxYwdr1qyhTp06aLVarKyssLW1TfdYTJkyhWbNmmWYo3r16nzyySf06dMHX19frl69yubNm/VmF0Kok5wZEW88nU5n0H5nz56lRIkSaf71XrFiRRwcHDh79mzqY6VKlUr9Aw9QtGhRoqKiTMrYsWNHHj9+TOnSpenbty/r16/n2bNn2ZazV69ehISEcPnyZcLDw+natetL+yQlJTF16lSqVKmCo6Mj+fLlY8eOHalnVF7lnXfeeeU+I0eOpFy5cnz11VcsWbJExpQI8ZqSzoh445UtWxaNRsO5c+cUqZc7d+40X2s0GpKTk/W2yZEjx0udosTExNT/L1GiBOfPn+frr7/GxsaGQYMG0bBhwzT7mCNnCi8vLx4/fkzv3r1p06ZNup2ATz/9lLlz5zJmzBj27NnDiRMn8PT05OnTpwa9RnqXzF4UFRXFhQsXyJkzJxcvXjSorhBCfaQzIt54jo6OeHp6Mn/+fOLi4l56/uHDhwC8/fbbXL9+nevXr6c+d+bMGR4+fEjFihVNylCoUCEiIiJSv46JieHKlStp9rGxsaFNmzbMmzePvXv3Eh4ezqlTp16qlZU5U+TKlYtu3bqxd+/eDMdo/P7777Rt25YPP/yQatWqUbp0aS5cuJBmHysrK5KSkjKdo1evXlSpUoVly5YxZsyYNGd+hBCvD+mMCAHMnz+fpKQk6tSpw88//8zFixc5e/Ys8+bNw83NDQAPDw+qVKlC165dOX78OIcPH6Zbt240atTIoEsK+jRp0oQVK1bw22+/cerUKbp3707OnDlTnw8JCeG7777j9OnTXL58me+//x4bGxtKliz5Uq2szPlfU6dO5c6dO3h6eqb7fNmyZQkNDeXAgQOcPXuW/v37c/v27TT7lCpVikOHDvHPP/9w9+5dg8/MwPPvWXh4OMuWLaNr1674+PjQtWtXg8+8CCHUQzojQgClS5fm+PHjuLu7M3LkSCpXrkyzZs3YtWsXCxYsAJ5fxti4cSP58+enYcOGeHh4ULp0aX788UeTXz8oKIhGjRrRunVrWrVqhY+PD2XKlEl93sHBgW+++Yb69etTtWpVdu7cyS+//JLu5ZGszPlfVlZWFCxYMMOJzj766CNq1qyJp6cnjRs3xsnJCR8fnzT7jBo1ipw5c1KxYkUKFSpk8HiSc+fOMXr0aL7++uvUsTFff/01d+/eZcKECSa9LyGE+Wl0ho7eE0IIIYTIAnJmRAghhBDZSjojQgghhMhW0hkRQgghRLaSzogQQgghspV0RoQQQgiRraQzIoQQQohsZZEL5eWyKpbdEYQQQvVKa4ua1P5ydMSrd3qFHBnMU2OoZAVmp3j29KbJNV4l8e5lRerkLlhakTpqI2dGhBBCCJGtLPLMiBBCCKEqyZlfg+lNoMozI/Pnz6dUqVLkyZOHunXrcvjw4eyOJIQQQmSeLlmZzUKprjPy448/MmLECCZNmsTx48epVq0anp6eREVFZXc0IYQQQmQB1XVGZs+eTd++fenZsycVK1Zk4cKF2NrasmTJkuyOJoQQQmROcrIym4VS1ZiRp0+fcuzYMYKCglIfy5EjBx4eHoSHhyvyGq6uLgSNHYJWa09n335Gt7e1teGrL4N5+vQpYfvCWbVqvdlrVKjwFoMD+lCwoCO7d+9n0eLlZs+ghuPg7e1JS6+m2NvbsXTpKkJ37jN7Bsj+z5QavhdqyKBEjTc5g41tHr7fuJgvZy0mR44cNHB/l8TEZ3z+yVc0bOLGe03qYa+1Q6fTMaL/+FfWa9TQjY8nj+avMxdYs2YjYfsM+x3esKEbkyeN4szZC6xZswmPpu/RoUNr6tRtQVxcvEE1UihxLJWis+BLLEpQ1ZmRu3fvkpSURJEiRdI8XqRIESIjI9Ntk5CQQExMTJpN30LEV65co1//UZnO2K5dS9at28KAgYG0ad08W2qcO3cJ/4Cx+HbpT71672RLBjUch02bdjBgYCCD/MfSsaN3tmSA7P9MqeF7oYYMStR4kzP0HdydbRt3kjNnTrr27sjj+Cc8fBDN04Sn7NwWxqTRwZw4dop1q38xqJ5OpyM2No48eay5cdPwW4B1Oh2xcfHksbbm5s0IJk6aRXj4UYPb/5cSx1KYh6o6I5kRHByMVqtNs+mSH2XZ6xUvVpTrN24BkJSUudHRStRo3boZv2xczrbtu7Mlg1qOA8D4oKEsWBCSrRlMYQnfCzVkUKLGm5qhXqO6/H3+Cvfu3idvPlvy5rXl0ynziHkYw7sN/v0HT/1Gdfl97yGDMvy2/xCtvf0IGjeNSRNHGpx9//5DeHv7MW78dCZOMLxdetTw851KLtPoparOSMGCBcmZMye3b99O8/jt27dxcnJKt01QUBDR0dFpNk0OuyzLeONmBMWLPZ8oKEeOzB0+JWps3hxKa28/PvBtny0Z1HIcgqePY/uOPfxx4nS2ZTCVJXwv1JBBiRpvaoa69WtR7Z3KtGnfAu/3W3A36h4A0Q9jyJsvLwC16lbj5LHTes88/1fKfg8eRGNtbW1w9rTtrAxulx41/Hynkrtp9NLoDP1kmUndunWpU6cOX375JQDJycm4uLgQEBDA2LFjDaqhbwZWR8f8TJ0yBo+m77Fk6SpmzvrKqHy2tjbMmzuNJ08S+P3A4UxfzzWlRqOGbvj4eGFtbc2pU2dYsHCZ2TOo4TgE+PfCz68jR4+e5OTJv1j8zQqzZ4Ds/0yp4XuhhgxK1HjTMrw4A2s739Y8uPeQEqWK4VKqOHnz5WXS6GASnyYyfe5E5s5YyO2If+9s1DcDq4+PF82bNcbBwZ5Fi5ZnOGbkxRlYfdp60ax5Ixy09ixavIIaNSrTt8+H7N9/mI+nfEZERNp/rOqbgdXQ42COGVifXj2uSB2rkjUVqaM2quuM/Pjjj3Tv3p1FixZRp04d5syZw5o1azh37txLY0kyItPBCyHEq8l08M9JZyT7qepuGoDOnTtz584dJk6cSGRkJNWrV2f79u0Gd0SEEEII1bHgSyxKUN2ZESXImREhhHg1OTPynFnOjFxWZiZxq9J1FKmjNqoawCqEEEKIN4/qLtMIIYQQlkYmPdNPOiMZyGnibWBJFnw/uBDCMihxmcVUSlxmeS3I3wS95DKNEEIIIbKV6joj+/bto02bNjg7O6PRaNiwYUN2RxJCCCFMI5Oe6aW6zkhcXBzVqlVj/vz52R1FCCGEUEZykjKbhVLdmBEvLy+8vLyyO4YQQgghzER1nZGsltklpevXr0MXXx9y5srF2xXKsmDhMho1csPa2orBg8cRH//4lTVeXGp+1MiBlC1bmkKFCtC7zwgePHiYpe9ByRqWkiGlzu5dPzN16my2bN1p9gym1nj77bJMnDCSe/cesHvPftat22L2DGo4DkrUkAzKZShRwpk5X0zl/v2HXLx4mVmfGne2W4nPdYP6dejSpT25cuWk4tvleK9RW6NrKMaCL7EoQXWXaYyVkJBATExMmk3fPG6ZXVL6998PEzB4HNu27uL7H9bS1tuTQYPG8PPazfj4GHYm58Wl5j/7fAH9B4wmLCyct8qUMjjLm7zMudIZAAJH+7N2rWHLomdFBlNrtPBswvz5SwgYHITfh+9nSwY1HAclakgG5TJUqfw2P6/bQt9+I6levbLR7ZX4XO///TD+AWPZsnUny1f8lKkaipFVe/V67TsjwcHBaLXaNJsu+VGG+5u6pHTnzm1ZvXpDaofn6rWbFCuWuVkMc+fOzby502ji3oALFy8b3O5NXeY8KzJ4NH2PM2cvEPX/VUqzI4OpNb7/YS2dOrVlZvBHFHDMny0Z1HAclKghGZTLcPDQcXr16ELojjXs2LHH6PZKfK5TdPFtx6rVmTtzqhgZwKrXa98ZCQoKIjo6Os2myWGX4f6mLCldooQz0TGPiI2NS33MpYQzN29m7l79xMREhgwdz4of1uLt7Wlwuzd1mfOsyNCoUT3q1qlFF18fevf+AI2RU1Or4TjcuXOPIUPHEzR+Onfv3c+WDGo4DkrUkAzKZejRvRMfT/mMZp6daNnSw+j2Snyu4f+/t6Nj0vzeFuqj6rVpNBoN69evx8fHx6h2+tamMXRJ6fQmPZswYQShoWEcPHiMzp19aFC/Dnls8jB06PiXxoykN+nZi0vNOzjYY2NjQ/78WkYHTiEq6q5B7+9NW+Y8KzOk6ObXiXv37mdqzEh2H4eSJYszdsxg8ua1ZdGi5fx+4IjZM6jhOChRQzIol6FSpfJMnDCSu3fvExcbR+DYqUa1V+JzDTBp4kh+/TWM8INHM9zHHGvTJPy5Q5E61lUN/4fr60R1nZHY2FguXboEQI0aNZg9ezbu7u44Ojri4uJiUA0lFsqTGViFEOLNYI7OyJOTWxWpk6daS0XqqI3q7qY5evQo7u7uqV+PGDECgO7duxMSEpJNqYQQQgiRVVTXGWncuLHeu2GEEEKI144FDz5Vguo6I0IIIYTFkUv3er32d9MIIYQQ4vUmZ0YyYOoAVFMHwCqRQQghspJxN8Kn7425KC+XafSSzogQQgiR1Sx4kTslyGUaIYQQQmQr1XVGgoODqV27NnZ2dhQuXBgfHx/Onz+f3bGEEEKIzJPp4PVSXWckLCwMf39/Dh48SGhoKImJiTRv3py4OJnKVwghxGtKFsrTS3UzsL7ozp07FC5cmLCwMBo2bGhQGyVmYDWVDGAVQlg6SxnAapYZWMNXKVInj1sXReqojeoHsEZHRwPg6OioSD1bWxu++jKYp0+fErYv3Og1F7y9PWnp1RR7ezuWLl1F6M59BrXTaDRMnjwae7t8HDv+JwUc89OlSzt69R7OmTPGXYYy9T0oUcNSMmT2+6lkBjUcB0vIoEQNyZC2xu5dPzN16myj1mxydXUhaOwQ7LX2+Pr2IyhoKKVdXXDIr2XYsAmvXFg0pb1Wa09n334ETx+Hvb09derUYPz46fwaGmZwhpQa9evVplOntiQlJTHr0/lERkYZ/H6EeajuMs1/JScnM2zYMOrXr0/lypXT3SchIYGYmJg0m76TPe3atWTdui0MGBhIm9bNjc60adMOBgwMZJD/WDp29Da4XZs2nhQr5kRi4jNu3oxg7rxv2Lwl1OjXB9PfgxI1LCVDZr+fSmZQw3GwhAxK1JAM/woc7c/atb8Y3e7KlWv06z8q9euKFcvRt99I1q79hVq1qhrdPmjcdPwDxnLrZiQ7d/2WqQxDhvQlPj6e+PjH3L//0PA3oyS5TKOXqjsj/v7+nD59mtWrV2e4T3BwMFqtNs2mS36U4f7FixXl+o1bACQlZf5Wq/FBQ1mwIMTg/cuVK83Bg8cIHDOFfn39Mv26oMx7MLWGpWRIYez3U8kMajgOlpBBiRqS4TmPpu9x5uwFoqLuZer1/yts7wF+3bGGvn0+ZPfu/ZmqUfud6vxx4hTJmfxjXLVKRT6aMJMDB47wQZd2maphMumM6KXazkhAQACbN29mz549FC9ePMP9goKCiI6OTrNpcthluP+NmxEUL1YUgByZHNcRPH0c23fs4Y8Tpw1uc/NmBA8ePL/klJRk2gdKifdgag1LyQCZ+34qmUENx8ESMihRQzI816hRPerWqUUXXx969/4AjSbzo0NatW5Gc89OTJw4k149MzfeoVevLiwNyfgfpa9y7vxFkpKSePAgGju7fJmuI7KO6gaw6nQ6Bg8ezPr169m7dy9ly5Y1uoa+Aay2tjbMmzuNJ08S+P3AYaOvpQb498LPryNHj57k5Mm/WPzNinT3e3EAq41NHr74YiqP4x9z/vzfxMbFMWhgTy5fvkrwjHn89de5l2pkNIDV1PegRA1LyWDo9zMrM6jhOFhCBiVqSIa0uvl14t69+xmOGUmvi+LomJ+pU8bQtOl7LFm6Cq3WDgetloKFHJk2bQ5//nkmzf4v/gFKae/x//bzv17K0iVz6Nipr8G5X6zx9+WrNG5Uj7x5bRkd+DF3795Ps785BrA+3heiSB2bhj0UqaM2quuMDBo0iJUrV7Jx40bKly+f+rhWq8XGxsagGnI3jRBCZD25m8Zwj/cuUaSOTeNeitRRG9V1RjI6Hbh06VJ69OhhUA3pjAghRNaTzojhpDOin+pu7VVZ30gIIYQwnQXPnqoE1Q5gFUIIISyGCu6mmTFjBhqNhmHDhqU+9uTJE/z9/SlQoAD58uWjQ4cO3L59O027a9eu0apVK2xtbSlcuDCjR4/m2bNnafbZu3cvNWvWxNramrfeeouQkBCjsklnRAghhLBwR44cYdGiRVStmnaul+HDh/PLL7/w008/ERYWxq1bt2jfvn3q80lJSbRq1YqnT59y4MABli1bRkhICBMnTkzd58qVK7Rq1Qp3d3dOnDjBsGHD6NOnDzt27DA4n+rGjChBDWNGhBBZw1LGKahBDhNu2QVIVuDPhxoymGXMyM6FitSx8RhgdJvY2Fhq1qzJ119/zSeffEL16tWZM2cO0dHRFCpUiJUrV/L+++8DcO7cOd5++23Cw8N599132bZtG61bt+bWrVsUKVIEgIULFzJmzBju3LmDlZUVY8aMYcuWLZw+/e/0CL6+vjx8+JDt27cblFHOjAghhBBZTaHLNOnNOp6QkKD3pf39/WnVqhUeHh5pHj927BiJiYlpHq9QoQIuLi6Eh4cDEB4eTpUqVVI7IgCenp7ExMTw119/pe7zYm1PT8/UGoZQXWdkwYIFVK1aFXt7e+zt7XFzc2Pbtm3ZHUsIIYTIPF2yIlt6s44HBwdn+LKrV6/m+PHj6e4TGRmJlZUVDg4OaR4vUqQIkZGRqfv8tyOS8nzKc/r2iYmJ4fHjxwYdHtXdTVO8eHFmzJhB2bJl0el0LFu2jLZt2/LHH39QqVKl7I4nhBBCZJugoCBGjBiR5jFra+t0971+/TpDhw4lNDSUPHnymCNepqmuM9KmTZs0X0+bNo0FCxZw8OBB6YwIIYR4PSk0b5S1tXWGnY8XHTt2jKioKGrWrJn6WFJSEvv27eOrr75ix44dPH36lIcPH6Y5O3L79m2cnJwAcHJy4vDhw2nqptxt8999XrwD5/bt29jb2xs+WalBe2WTpKQkfvrpJ+Li4nBzc1OkpiUs723qsvdKZFDDcZAMkgH+/Xmw+//Pw86d+xg92p9atarh69vvtXkfashQocJbBAT0pmABR3bv2U+pkiWw19pRp3YNxn8UTGho2CtruLq6EDR2CFqtPZ19+/HtN7N5+jQRK6vc9Os/yqDF7mxtbdi1cy1TP5nNu3Vr0aFDa+rUbUFcXLxB7+O/dUw9lorJhkksmzZtyqlTp9I81rNnTypUqMCYMWMoUaIEuXPnZteuXXTo0AGA8+fPc+3atdS/uW5ubkybNo2oqCgKFy4MQGhoKPb29lSsWDF1n61bt6Z5ndDQUKP+bqtuzAjAqVOnyJcvH9bW1gwYMID169envukXpTeYR98NQpawvLepy94rkUENx0EySAb49+fB338snTp6827dWkRGRpk1g5I1sjPDuXOXCAgIossHA6jnVptx46cTEBDEzVuR7Nr1m0E1rly5Rr/+o1K/7tN3BIP8xxAT8whnZyeDaowe5c/anzcDMHHSLMLDjxr8Hv5LiWP5OrOzs6Ny5cpptrx581KgQAEqV66MVquld+/ejBgxgj179nDs2DF69uyJm5sb7777LgDNmzenYsWK+Pn5cfLkSXbs2MFHH32Ev79/6hmaAQMGcPnyZQIDAzl37hxff/01a9asYfjw4QZnVWVnpHz58pw4cYJDhw4xcOBAunfvzpkzZ9LdN73BPLrkRxnWtoTlvVNkdtl7JTKo4ThIBsnwX+OChhISsprOnduyYsVP2ZJBiRrZnaF162Zs3Lic7dt3A/DOO9U58cdpg85oZKR8+TJYW1tz4/+Z9Gna9D3Onr1AVNTdTL9eCqV+1ypCoQGsSvviiy9o3bo1HTp0oGHDhjg5ObFu3brU53PmzMnmzZvJmTMnbm5ufPjhh3Tr1o0pU6ak7uPq6sqWLVsIDQ2lWrVqfP7553z77bd4enoanEOVnRErKyveeustatWqRXBwMNWqVWPu3Lnp7hsUFER0dHSaTZPDLsPalrC8N5i27L0SGdRwHCSDZEgx/f8/D5ocOXBw0PL5Zx9TtUpF6tap+erGCmVQqkZ2Z9i8ORRvbz98u7QDoFevLoQsW52pHACVKpVnxPABDBs+waD9GzV0o07dmvj6+tC71wcZrldmCCWOpWJUMAMrPJ8pdc6cOalf58mTh/nz53P//n3i4uJYt25d6liQFCVLlmTr1q3Ex8dz584dPvvsM3LlSjvKo3Hjxvzxxx8kJCTw999/G7yWXIrXYtKzJk2a4OLiYvD0svomPbOE5b1NXfZeiQxqOA6S4c3M8OKfpox+HlavXpzhmJGMfum9acfyxQnHGjZ0w8fHC2trK06dOsv3369lyXdz6NS5b7rt05twzNExP1OnjMGj6XuELPuRQQN7sH3HHp4+TWR68Fxu3ozQmyGFn19H7t27T9mypenb50P27z/Mx1M+IyIi7UBJfZOeGXoczDLp2abPFKlj4z3q1Tu9hlTXGQkKCsLLywsXFxcePXrEypUrmTlzJjt27KBZs2YG1ZAZWIWwXDIDq3LUMPupGjKYpTOycZYidWzaBipSR21UdzdNVFQU3bp1IyIiAq1WS9WqVY3qiAghhBCqkw1307xOVNcZ+e6777I7ghBCCCHMSHWdESGEEMLiZMGdMJZEOiNCCCFEVpPLNHpJZ0QI8VqRwafKUWLwpyVkMAvpjOilynlGhBBCCPHmkDMjQgghRFZ7U84AZZKqz4zMmDEDjUbDsGHDsjuKEEIIkXkqmYFVrVTbGTly5AiLFi2iatWq2R1FCCGEEFlIlZ2R2NhYunbtyjfffEP+/PmzO44QQghhGjkzopcqx4z4+/vTqlUrPDw8+OSTTxStbWtrw1dfBvP06VPC9oVnat0IU9pLBskgGdRbQzKkrbF7189MnTqbLVt3GtzO1dWFoLFD0Grt6ezbj2+/mc3Tp4lYWeWmX/9Rr1z919T26dUInj4Oe3t76tSpwfjx0/k1NMzg96MYmWdEL9WdGVm9ejXHjx8nODjYoP0TEhKIiYlJs+lbbqddu5asW7eFAQMDadO6udH5TG0vGSSDZFBvDcnwr8DR/qxd+4vR7a5cuUa//v8u5tan7wgG+Y8hJuYRzs5Oeloq0z69GkHjpuMfMJZbNyPZues3I96NMBdVdUauX7/O0KFD+eGHH8iTJ49BbYKDg9FqtWk2XfKjDPcvXqwo12/cAiApKcnojKa2lwySQTKot4ZkeM6j6XucOXuBqKh7mXr9F5UvXwZra2tu/D+TudsD1H6nOn+cOGXQmZUsIZdp9FJVZ+TYsWNERUVRs2ZNcuXKRa5cuQgLC2PevHnkypUr3R+qoKAgoqOj02yaHHYZvsaNmxEUL1YUgBw5jH/7praXDJJBMqi3hmR4rlGjetStU4suvj707v0BGhNW1q1UqTwjhg9g2PAJ2dI+Ra9eXVgastqkGibR6ZTZLJRGp++ahpk9evSIq1evpnmsZ8+eVKhQgTFjxlC5cmWD6uSyKpbhc7a2NsybO40nTxL4/cDhTF3PNaW9ZJAMkkG9NSRDWt38OnHv3n2jxow4OuZn6pQxeDR9j5BlPzJoYA+279jD06eJTA+ey82bEVna/sUaS5auYv7XS1m6ZA4dO/VNd/9nT28a/P4y6/GysYrUsek+Q5E6aqOqzkh6GjduTPXq1ZkzZ47BbfR1RoQQQoj/MktnZGmgInVses5SpI7aqPJuGiGEEMKiWPB4DyWovjOyd+/e7I4ghBBCmEZu7dVLVQNYhRBCCPHmUf2ZEZG9iuR1MKn97biHiuQQIoW9ta3JNWIS4hVIIoThdMmqHp6Z7aQzIoQQQmQ1GTOil1ymEUIIIUS2Ul1nZPLkyWg0mjRbhQoVsjuWEEIIkXm6ZGU2C6XKyzSVKlVi585/J9nJlUuVMYUQQgjDyJgRvVT5Vz5Xrlw4ORm2IJIQQgghXm+q7IxcvHgRZ2dn8uTJg5ubG8HBwbi4uChS2xKW986ODG+VK02fAR/i6Jif/fsOkidPHtp3as3QgUGcP3uJsuXLMHLMIB48eMj+sENs2fRrlr+PN/V7IRmea9nag+aejbGzy8f3y9dSsVI5XEoWJ3fu3IwYOoFq1SsxMnAQcbHxhO09wOqVr870ph7LF7m6uhA0dgharT2dffsZ/fpKZFDDcVCUDGDVS3VjRurWrUtISAjbt29nwYIFXLlyhffee49Hj9JfiTchIYGYmJg0m74Z7i1hee/syHDpwmXGjphC/54jeKduDRZ/vYxft+1Jfb6JRwOWfPMDQSOn8r6vt1nex5v6vZAMz23dvJNhgz9ixLCJdOjYmqrVKjFm1BTO/HWed+u9wzu1qzP/yyUEDByLe5MGqn0fasxw5co1+vUflanXViqDGo6DomTVXr1U1xnx8vKiY8eOVK1aFU9PT7Zu3crDhw9Zs2ZNuvsHBwej1WrTbLrk9DsuYBnLe2dXhmZe7ixfs4Ddob+99NzaH3+hbfuWfDRlJPkdHbIsg5LtJYNlZBgVOIgVy9Zw7+59AK5fv4WzsxOhv4Yx5ZMx/LLte1b9sC5LMyhZQw0ZlCDHQRhDdZ2RFzk4OFCuXDkuXbqU7vNBQUFER0en2TQ57DKsZwnLe2dXhtBte/DrOID2HVu99Ny9u/cZP/oTpk/+gvv3HmRZBiXbS4bXP8OkKaPZ+es+jh87hWOB/AAUL16UW7ci8R/ci17dh9KyeRe69+ycZRmUrqGGDEqQ4/ACnU6ZzUKpftXe2NhYXFxcmDx5MkOGDDGojb5Vey1heW9zZkiZgdWtfm282nhgbW3Fmb8uEB8bT89+H3D1ynXmfr6I2EdxDB7RD9u8Nixf8iNHDh4H9M/A+jodB8mgngwpM7D2G9AN3w/a8cfxU5z68yy2tnkoUaIYVtZWjBw2kfcavkv3np2JjY3j77+v8uWcb1JrZDQD65t2LDPi6JifqVPG4NH0PZYsXcXMWV+ZPYM5j4M5Vu2Nn91XkTq2I7559U6vIdV1RkaNGkWbNm0oWbIkt27dYtKkSZw4cYIzZ85QqFAhg2ro64wI48h08EJtZDp4oTSzdEY+66NIHdtR3ypSR21UdzfNjRs36NKlC/fu3aNQoUI0aNCAgwcPGtwREUIIIcTrRXWdkdWrV2d3BCGEEEJZFjx7qhJU1xkRQgghLI7MwKqX6u+mEUIIIYRlkzMjQi9TB6BWLeBqcoY/710xuYawHDL4VLyOdBY8YZkSpDMihBBCZDW5TKOX6i7T3Lx5kw8//JACBQpgY2NDlSpVOHr0aHbHEkIIIUQWUdWZkQcPHlC/fn3c3d3Ztm0bhQoV4uLFi+TPnz+7owkhhBCZJ3fT6KWqzsjMmTMpUaIES5cuTX3M1dX0MQdCCCFEtpLLNHqpqjOyadMmPD096dixI2FhYRQrVoxBgwbRt68y0+iCZSxr/Tpm0Gg0DBrTl7z5bDlz8hzPniXxTv0aWFlZMX3MZzx5/IQ8Nnn4dv1XLPpsCb/tPGBQDlOXOn8TvxeWmkGJGpJBPRkqVHiLwQF9KFjQkd2797No8XKjM5j6+0GYj6rGjFy+fJkFCxZQtmxZduzYwcCBAxkyZAjLli3LsE1CQgIxMTFpNn0z3FvCstavY4bGLd6jcNFCPHv2jKiIO7h7NeSTUbMI3bSbpq0aAdAjoCuhm3YblcPUpc7fxO+FpWZQooZkUE+Gc+cu4R8wFt8u/alX751MZTD194OikpOV2SyUqjojycnJ1KxZk+nTp1OjRg369etH3759WbhwYYZtgoOD0Wq1aTZd8qMM97eEZa1fxwwly7jw59HTzJ78Fe9390ntMEbciKRw0ULUbfgOly/8w/27hq34q5Q38XthqRmUqCEZ1JMBoHXrZvyycTnbthv3jxRVStYps1koVXVGihYtSsWKFdM89vbbb3Pt2rUM2wQFBREdHZ1m0+Swy3B/S1jW+nXMEBURRczD553E5KR/e/dOxYoQFXGHd+rVpGqtSrRo34x2Xdug0WiMzpQZb+L3wlIzKFFDMqgnA8DmzaG09vbjA9/2mWqvKrpkZTYLpapVez/44AOuX7/Ob7/9lvrY8OHDOXToEAcOGDaGAPSv2vs6LWttCRlSJj3LY2NN4CfDefL4Cf9cukZM9CNq1K2KdR5rZgTN5snjJwC06eTFw/vRacaM6Jv0zNSlzt+k74WlZ1CihmRQT4ZGDd3w8fHC2tqaU6fOsGBhxpfrM2Lo7wdzrNobN6GTInXyTl2jSB21UVVn5MiRI9SrV4+PP/6YTp06cfjwYfr27cvixYvp2rWrwXX0dUaEeckMrEIItTNLZ2R8R0Xq5J32kyJ11EZVd9PUrl2b9evXExQUxJQpU3B1dWXOnDlGdUSEEEIItZHp4PVTVWcEoHXr1rRu3Tq7YwghhBDCTFTXGRFCCCEsjgXfCaME6YwIIYQQWU06I3pJZ0RkKSUGn+Yw8TbfZPWM0RYiVfn8xU1qf/7BDYWSZC9Tb+KXn27LIJ0RIYQQIqtZ8BwhSpDOiBBCCJHV5DKNXqqagRWgVKlSaDSalzZ/f//sjiaEEEKILKC6MyNHjhxJs47B6dOnadasGR07KjNhjBBCCGFuOjkzopfqOiOFChVK8/WMGTMoU6YMjRo1yqZEQgghhImkM6KX6joj//X06VO+//57RowYodjCaba2Nnz1ZTBPnz4lbF94ptZsMKW9ZFCmhq2tDbt2rmXqJ7Np2dIDgCZN3sPHpxsXLlw26/twdXUhaOwQtFp7Ovv2M7r96/69UEsGJWpkR4ba9WoyeEx/Lp2/zLYNobg1qoNnm6Z09OhGfPxj3nGrQefu7YmLjeeXtds4dvDEKzNk92cSoEH9OnTp0p5cuXJS8e1yvNeorUHtKlR4i8EBfShQ0JE9u/ezaPFyenTvjJ9fR5p6vG/296EYmYFVL9WNGfmvDRs28PDhQ3r06JHhPgkJCcTExKTZ9C23065dS9at28KAgYG0ad3c6EymtpcMytQYPcqftT9vBiAgIIjhwydy9sx5ozoipmZIceXKNfr1H5WptkpkyO7vhVoyKFEjOzLodDri4+Kxtrbi9q0o5gUv5MSRP1Ofb96mCZ9P+ZKpY2bh18/XoAzZ/ZkE2P/7YfwDxrJl606WrzB8PZVz5y7hHzCWLl36U6/eO7i6ulCgoCN37t43OoMS70OYh6o7I9999x1eXl44OztnuE9wcDBarTbNpkt+lOH+xYsV5fqNWwBpxqYYytT2ksH0Gk2bvsfZsxeIirqb+lhbb082/fKr2TIo6XX+XqgpgxI1siPDsYMnGPDBcGZ/Mh//wL4vPf/9N2voN6wng8f2J08e60xlMpaSPxddfNuxarVxZyRat27Gpo3L2bZ9N8OH9WfevG8z9dpq+PlOlaxTZrNQqu2MXL16lZ07d9KnTx+9+wUFBREdHZ1m0+Swy3D/GzcjKF6sKAA5chj/9k1tLxlMr9GooRt16tbE19eH3r0+QKPR0KlTW376aZPZMijpdf5eqCmDEjWyI0PKmdyYhzFYWVm99Py1K9eZEjiTb+YuI/phTKYyGUupn4sSJZyJjo4hNjbOqHabN4fSxtuPLr7tKVDQkRnBH1G1SkVatGhiVB01/Hynks6IXhqdvmsa2Wjy5MksWrSI69evkyuXcUNbclkVy/A5W1sb5s2dxpMnCfx+4HCmrimb0l4yGF8joxlY/fw6cu/efc6evcjIkQMJCAhKdz99M7Aq8T4cHfMzdcoYPJq+x5Klq5g56yuj2r9O3ws1Z1CihjkzpMzA6tGyMfXd38VOm48fQ9ZRsUp5OnZrx7FDJ/hq5mKKFC1E+w+8yWeXlwWff8eVS1cB/TOwZvdnMsWkiSP59dcwwg8ezXCfF3+6GzZ0o52PF9bW1pw6dYYFC5cBsHr1YnzTGf+i7w+Yoe/j2dObr3orJns0oIUidewWblekjtqosjOSnJyMq6srXbp0YcaMGUa319cZEa8fmQ5eWCKZDv45NUwHb47OSEx/T0Xq2C/aoUgdtVHl3TQ7d+7k2rVr9OrVK7ujCCGEEKaz4EssSlBlZ6R58+Z674gRQgghhOVQZWdECCGEsChyZkQv6YwIIYQQWUymg9dPOiNC9UwdgGrqAFglMgjxIksZgGoq+ckSoOJ5RoQQQgiLkQ3zjCxYsICqVatib2+Pvb09bm5ubNu2LfX5J0+e4O/vT4ECBciXLx8dOnTg9u3baWpcu3aNVq1aYWtrS+HChRk9ejTPnj1Ls8/evXupWbMm1tbWvPXWW4SEhBh9eFTVGUlKSmLChAm4urpiY2NDmTJlmDp1qgxmFUII8XpLVmgzQvHixZkxYwbHjh3j6NGjNGnShLZt2/LXX38BMHz4cH755Rd++uknwsLCuHXrFu3bt09tn5SURKtWrXj69CkHDhxg2bJlhISEMHHixNR9rly5QqtWrXB3d+fEiRMMGzaMPn36sGOHcbcgq2qekenTpzN79myWLVtGpUqVOHr0KD179mTatGkMGTLE4Doyz4j4L7lMI4TQxxzzjDzsatzssRlx+GG3Se0dHR359NNPef/99ylUqBArV67k/fefL0B47tw53n77bcLDw3n33XfZtm0brVu35tatWxQpUgSAhQsXMmbMGO7cuYOVlRVjxoxhy5YtnD59OvU1fH19efjwIdu3Gz5Bm6rOjBw4cIC2bdvSqlUrSpUqxfvvv0/z5s05fPhwdkcTQgghsl16i8MmJCS8sl1SUhKrV68mLi4ONzc3jh07RmJiIh4eHqn7VKhQARcXF8LDwwEIDw+nSpUqqR0RAE9PT2JiYlLProSHh6epkbJPSg1DqWoAa7169Vi8eDEXLlygXLlynDx5kv379zN79mzFXiOzS0qntyR3j+6d6ebXkSYGLmv9Yo3g6eOwt7enTp0ajB8/nV9Dw7L0PShZ43XP0LChG5MnjeLM2QusWbOJFp7uFCpUABubPPTsNYzExESzvAclaqQsuV6woCO7/7/kurkzqOE4KFFDMpje/sXfc8OG9uODD9rTs9dQ/vrrvNHtR40cSNmypSlUqAC9+4zgwYOHBmd5++2yTJwwknv3HrB7z37WrdticFvFKXQ3TXBwMB9//HGaxyZNmsTkyZPT3f/UqVO4ubnx5MkT8uXLx/r166lYsSInTpzAysoKBweHNPsXKVKEyMhIACIjI9N0RFKeT3lO3z4xMTE8fvwYGxsbg96Xqs6MjB07Fl9fXypUqEDu3LmpUaMGw4YNo2vXrhm2Sa+XqO/KU2aXlH5xSW5XVxcKGrms9Ys1gsZNxz9gLLduRrJz128G13lTl1pXsr1OpyM2Lp481tbcvBnBuPHT6dtvJDdvRVKgQH6zZFCqRsqS677/X3I9OzKo4TgoUUMymN7+xd9zc+YuZvNmw1fUfrH9Z58voP+A0YSFhfNWmVJGZWnh2YT585cQMDgIvw8N+0djllFozEh6i8MGBaW/LhdA+fLlOXHiBIcOHWLgwIF0796dM2fOZN37zCRVdUbWrFnDDz/8wMqVKzl+/DjLli3js88+Y9myZRm2CQ4ORqvVptl0yY8y3F+JJaU1Gg3Dh/VnbiaXtf6v2u9U548Tp0hONnxk0pu61LqS7ffvP4S3tx/jxk9n4oSRFClSiPnzZ1DM2Yl79x6YJYOSNVq3bsYv/19yPTsyqOU4WML7sJQMSsmdOzfz5k6jiXsDLly8bFTb739YS6dObZkZ/BEFHA3/R4aaWVtbp94dk7JZW1tnuL+VlRVvvfUWtWrVIjg4mGrVqjF37lycnJx4+vQpDx8+TLP/7du3cXJyAsDJyemlu2tSvn7VPvb29gafFQGVdUZGjx6denakSpUq+Pn5MXz4cIKDgzNsk14vUZPDLsP9lVhSunTpkhT8z7LWXkYua/1fvXp1YWnIaqPavKlLrSvZPuXs2YMH0VhbW3H79h38/cfyx4nTvPtuLbNkULLG5s2htPb24wPf9q/eOQsyqOU4WML7sJQMSklMTGTI0PGs+GEt3t7GLTZ35849hgwdT9D46dy9Z/hZ7KygS9YpspkqOTmZhIQEatWqRe7cudm1a1fqc+fPn+fatWu4ubkB4ObmxqlTp4iKikrdJzQ0FHt7eypWrJi6z39rpOyTUsNQqrqbpkCBAnzyyScMHDgw9bHg4GCWLl3KhQsXDK6j726azC6NndGS3D+uXpw6hsTYGvO/XsrSJXPo2KmvQe1NfQ9K1nidMqR3N41PWy+aNW+Eg9aekGU/0qpVM3Q6HXltbRg67CMeP36SZv+M7qZRw3Fo1NANn3SWXDdnBjUcByVqSAbT27/4e+5WxG38B/Xk8uWrTA+ey+nT54xq7+Dw/F/Y+fNrGR04haiouwZnKVmyOGPHDCZvXlsWLVrO7weOpLufOe6medChsSJ18v+81+B9g4KC8PLywsXFhUePHrFy5UpmzpzJjh07aNasGQMHDmTr1q2EhIRgb2/P4MGDgec3k8Dzs2LVq1fH2dmZWbNmERkZiZ+fH3369GH69OnA81t7K1eujL+/P7169WL37t0MGTKELVu24OlpeOdRVZ2RHj16sHPnThYtWkSlSpX4448/6NevH7169WLmzJkG15Fbe8V/ya29Qgh9LLUz0rt3b3bt2kVERARarZaqVasyZswYmjVrBjyf9GzkyJGsWrWKhIQEPD09+frrr1MvwQBcvXqVgQMHsnfvXvLmzUv37t2ZMWMGuXL9e//L3r17GT58OGfOnKF48eJMmDCBHj16GPW+VNUZefToERMmTGD9+vVERUXh7OxMly5dmDhxIlZWVgbXkc6I+C/pjAgh9DFHZ+R+u0aK1HFcb9hdl68bVXVGlCKdEfFf0hkRQuhjls5IW4U6IxstszOiqgGsQgghhHjzqGrSMyGEEMIS6YxcV+ZNI50RYfHkEosQWUOJS6D21rYmtX/4JM7kDGYhnRG9pDMihBBCZDE5M6KfjBkRQgghRLZSXWfk0aNHDBs2jJIlS2JjY0O9evU4ciT9iWqEEEKI14JCa9NYKtV1Rvr06UNoaCgrVqzg1KlTNG/eHA8PD27ezPpbr4QQQoisoEtWZrNUqppn5PHjx9jZ2bFx40ZatWqV+nitWrXw8vLik08+MaiOzDMihBBZz1IGsJpjnpE7zZSZZ6RQqGXOM6KqAazPnj0jKSmJPHnypHncxsaG/fv3K/IatrY2fPVlME+fPiVsX3im1mwwpb1ksKwMJUo4M+eLqdy//5CLFy8z69P5Zs+ghuOghgxK1HjTM7i6uhA0dgharT2dffsRPH0c9vb21KlTg/Hjp/OrAX8IK1R4i4CA3hQs4MjuPfs5ffocnTq1JSkpiU8/nU9kZFS67bxaedDcszF2dvn4fsVP1Ktfh7btWtDkvXbExcVTrXolRoweRFxcPGF7D/Djyle/pwb169ClS3ty5cpJxbfL8V6jtgYdh6xgyWc1lKCqyzR2dna4ubkxdepUbt26RVJSEt9//z3h4eFERESk2yYhIYGYmJg0m76TPe3atWTdui0MGBhIm9bNjc5oanvJYFkZqlR+m5/XbaFvv5FUr145WzKo4TioIYMSNd70DFeuXKNf/1GpXweNm45/wFhu3Yxk567fDKpx7twlAgKC6PLBAOq51WbI4D7Ex8UTHxfP/fsPM2y3bctOhg/5iJHDJ+LTviXTp37B4UN/pD5fq3Z1vv5yCYMHjsW9SX2Dsuz//TD+AWPZsnUny1f8ZFCbrCKXafRTVWcEYMWKFeh0OooVK4a1tTXz5s2jS5cuGS5jHRwcjFarTbPpkh9lWL94saJcv3ELeL4iobFMbS8ZLCvDwUPH6dWjC6E71rBjx55syaCG46CGDErUkAwvq/1Odf44cYrkZMP/ErZu3YyNG5ezfftuqlStyISJMzkQfoQuXdq9su3I0YNY8s0PLz2+89cwJn8SyMat37Pqh3VGvYcuvu1Ytdr4M0zCfFTXGSlTpgxhYWHExsZy/fp1Dh8+TGJiIqVLl053/6CgIKKjo9Nsmhx2Gda/cTOC4sWKAmTYwdHH1PaSwbIy9OjeiY+nfEYzz060bOmRLRnUcBzUkEGJGpLhZb16dWFpyGqj2mzeHIq3tx++Xdpx/txFkpKSePAgGju7fHrbTfx4FDtD9/HnyTMvPTdocC/69BhGa88udOvR2eAsJUo4Ex0dQ2xsNk+OptMos1koVQ1gTc+DBw9wdXVl1qxZ9OvXz6A2+gaw2traMG/uNJ48SeD3A4czdT3XlPaSwbIyVKpUnokTRnL37n3iYuMIHDvV7BnUcBzUkEGJGm96BkfH/EydMgaPpu+xZOkq5n+9lKVL5tCxU990909vAGvDhm74+HhhbW3FqVNnuXvnHo0a1yOvrS2BY6Zw9+79NPunDGDtO+B55+WP46c4feosNjY2dO/VmYMHjjFj2lzKlitNt56diX0Ux+W//+HLud8Crx7AOmniSH79NYzwg0cz3MccA1gjGzZWpI7Tvr2K1FEb1XVGduzYgU6no3z58ly6dInRo0eTJ08efvvtN3Lnzm1QDbmbRgghsp7cTWM46Yzop6q7aQCio6MJCgrixo0bODo60qFDB6ZNm2ZwR0QIIYRQG12y5V5iUYLqzowoQc6MCCFE1pMzI4a7Vc9dkTrOBzI3UF7tVHdmRAghhLA0OgsefKoE6YwIIcQbKleOnCa112H6iXXrnKZdgs+Ty8rkDCL7SWdECCGEyGKWPGGZEqQzIoQQQmQxGcCqn1knPdu3bx9t2rTB2dkZjUbDhg0b0jyv0+mYOHEiRYsWxcbGBg8PDy5evGjOiEIIIYQwM7N2RuLi4qhWrRrz56e/mNisWbOYN28eCxcu5NChQ+TNmxdPT0+ePHlizphCCCGEonQ6ZTZLZdbLNF5eXnh5eaX7nE6nY86cOXz00Ue0bft8ZcXly5dTpEgRNmzYgK+vrzmjCiGEEIqRyzT6qWbMyJUrV4iMjMTD49/1PbRaLXXr1iU8PFyxzsjrvLx3Cm9vT1p6NcXe3o6lS1cRunOf2TO8uNR4ZihxLE3NYWqGRg3d+HjyaP46c4E1azYSti/c7BnU8JlUQwYlarzpGUqUcObzzz/mwYOHXLx4hQMHjtCxYxuSkpL57LOviYyMemWNhg3fZdKk0Zw9c541P21i376DjBo1iFo1q9LlgwEZtnurXGn6DPgQR8f87N93kDx58tC+U2uGDgzi/NlL1HGrSfuOrcmZMyflKpShreeHL9UoVaoEo8f4o7W358OugwDw69aRrl070MLTl3r1atOpszdFnZ1YsXwNm38JNei4iKynmoXyIiMjAShSpEiax4sUKZL6XHoSEhKIiYlJs+mbx+11Xt47xaZNOxgwMJBB/mPp2NE7WzK8uNR4dmRQIoepGXQ6HbGxceTJY82NmxHZkkENn0k1ZFCixpueoVKlCqxfv5X+/UdTrVolAgJ6Exf3mPj4eO7ff2hQDZ0O4mLjsM6Th5s3Iqlbt6ZBnZhLFy4zdsQU+vccwTt1a7D462X8uu3fCb4Ohx9n7Igp7NwRxk+rNqZb459/ruM/cGzq16VKlaBAAcfU9XAOHDjCsKET6N93JE2avGfQ+1GKLlmjyGapVNMZyazg4GC0Wm2aTZf8KMP9LWl57/FBQ1mwICRbM5jCEjL8tv8Qrb39CBo3jUkTR2ZLBjV8JtWQQYkab3qGw4eP06NHZ7ZvX0Vo6F6qVn2bSZNmceDAUbp08TGoxv79h/Bu243x46czbVoQnTu15fvv1xrUtpmXO8vXLGB36G8Z7tPu/VasX7vllbU0Gg1DhvZl/ldL0jze9cMO/LByARvWbzUok1JkzIh+qumMODk5AXD79u00j9++fTv1ufQEBQURHR2dZtPksMtwf0tZ3jt4+ji279jDHydOZ1sGU1lChpSzcA8eRGNtbZ0tGdTwmVRDBiVqvOkZunXrxNSps2nRogstWjTl3LlLJCUl8fBhNPny5TOoxn9/Jhwc7NE62PPZp5OoWrUiderU0Ns2dNse/DoOoH3HVuk+71y8KDExscTFxr8yh6urCwUK5OeTaWOpXKUCzT0bA/DD9z/T1rs7A/17GvR+hHkYvTbN2bNn+fzzz7l69WqaHvfu3buNe2GNhvXr1+Pj4wM8/wA7OzszatQoRo58/i/MmJgYChcuTEhIiFFjRvStTfM6L++dIsC/F35+HTl69CQnT/7F4m9WmD3Di0uNz5z1ldkzKJHD1Aw+Pl40b9YYBwd7Fi1anukxI6/7Z1INGZSo8aZleHEG1ooVy/HRRyO4d+8+sbFxHD16kkaN3Mib15YxY6amXu5Ikd4MrG3btqB5s0ZotVoWf7OcffsOArBq5cJ0x4wUtLEHwK1+bbzaeGBtbcWZvy4QHxtPz34fcPXKdeZ+vohzZy4ycqw/Ybt/5+jhE6ntoxP+7Zg4OjowafIo3Js0YFnIj3z+2QIAvv/haz7sOgjvtp40bOiGjW0eQneEsWHDNgBi46+86pCa7HKVzF1ye1HpU78qUkdtjO6MVK1aleHDh1OrVi1y5vz3g1ypUqVXto2NjeXSpUsA1KhRg9mzZ+Pu7o6joyMuLi7MnDmTGTNmsGzZMlxdXZkwYQJ//vknZ86cIU+ePAZnlIXyhBDi1dQwHXxKZySz/tsZySxzdEb+ruypSJ0yp3coUkdtjL6bxtramp49M3d66+jRo7i7/7ty4YgRIwDo3r07ISEhBAYGEhcXR79+/Xj48CENGjRg+/btRnVEhBBCCLWR6eD1M/rMyNixY7GysqJdu3ZprpFXrFhR8XCZJWdGhBDi1eTMyHPmODNyqaIyZ0beOiNnRgA4dOgQAL/99u9oZ41GY/SYESGEEOJNkayz3NtylWB0Z2TPnj2v3kkIIYQQqXTSGdHL6M7Iw4cPmTx5cuqZkYYNGzJp0iQcHByUziaE+A9Tf5VZ8BQFIpOeJZs2v08Ojel/YKPiHprUXj7XlsHom9h79OiBs7MzmzdvZvPmzTg7O9O9e/esyCaEEEJYBJmBVT+jOyP//PMPgYGBFC1alKJFizJ69GiuXr1qUNt9+/bRpk0bnJ2d0Wg0bNiwIc3z69ato3nz5hQoUACNRsOJEyeMjSeEEEKojszAqp/RnZH8+fPz888/p369bt06gy/RxMXFUa1aNebPn5/h8w0aNGDmzJnGxhJCCCHEa8roMSNLlixhyJAh+Pv7kyNHDt555x2WLl1qUFsvLy+8vLwyfN7Pzw94fvZFCCGEsBSWfIlFCUZ3RlxdXfnll1+yIotZmLo8d4UKbzE4oA8FCzqye/d+Fi1ebnQGU2u86cucK5lBo9Ew5eNA7Ozycez4n6xY8ZPZM2S2RsrnqEBBR/bs3k8+u7yUK1uagoUK0KfPCB48eGi296GGz4MSNSTDc97enrT0aoq9vR1Ll64idOc+g9tWqPAWAQG9KVjAkd179lPAMT+uri7kz+/AsOETuPmK1a1TXtvu/6/dsKEbHTq0pk4dT+LiDJtTxNXVhaCxQ9Bq7ens2w+AHt07082vI0083jf4vShJbu3Vz+DLNHPnzgVg9OjRBAYGvrRll4SEBGJiYtJs+uZxM3V57nPnLuEfMBbfLv2pV++dTGU2tcabvsy5khm8vT0pVqwozxKfcfOG/l+SWZUhszVSPkdd/v85+vzzBfQfMJp9YeG8VaaUWTIo1V4tNSTDc5s27WDAwEAG+Y+lY0dvo9qeO3eJgIAgunwwgHputalYsRz9+o9i7dpfqFWrqsGv7e8/lk4dvZk4cSYHw48aleHKlWv06z8q9WtXVxcKFnTkzgtr6wj1MLgzUrp0aQAqV65MpUqVXtqyS3BwMFqtNs2mS36U4f5KLM/dunUzftm4nG3bMz/Rmyk13vRlzpXMUL5cGcLDjzIq8GP69++WLRlMqdG6dTM2/f9zlDt3bubNnYa7ewMuXLxstgxKtFdLDcmQ1vigoSxYEGJ0u9atm7Fx43K2b9/N3rBwdmz/kT59PmT37v0G1xiXydd+kUajYfiw/syd963JtUyh02kU2SyVwZ2RNm3aAM8/2N27d0+zmfJhN1VQUBDR0dFpNk0Ouwz3V2J57s2bQ2nt7ccHvu0z1d7UGm/6MudKZ3jwMBrI3C/t7D4OmzeH0sbbjy6+7UlMTGTI0PF8/8NavL2Nm3paLd+L7K4hGf4VPH0c23fs4Y8Tp41uu3lzKN7efvh2aUfrVh54tujMxEkz6dnTsNXXp5vw2i8qXbokBQs6MiP4I6pWqYhXiyYm18wMuZtGP6PXpqlZsybHjx9/5WOvfGGNhvXr1+Pj4/PSc//88w+urq788ccfVK9e3ai6oH9tGlOX527U0A0fHy+sra05deoMCxYuMzqfqTXetGXOszKDjU0e5s75hPj4x5w/f0nV34sX/03UsKEb7f7zOSrhUgxbGxvy59cyOnAKUVF30+yv7wddDd8LNdSQDM8F+PfCz68jR4+e5OTJv1j8zYp090tv0rOGqb/frDh16iwlijujdbCnUMECTJv2BX+eOptm/xf/BL342ra2NvTp+yG/7z/E5I8/IyLidtr26eRydMzP1Clj8Gj6HkuWrmLmrK8A+HH14tQxJP/17OlNfYdDESdKGne5KyPVr25SpI7aGNwZ+emnn1izZg27du3Cw8Mj9fGYmBgSExPZtWvXK2vExsZy6dIlAGrUqMHs2bNxd3fH0dERFxcX7t+/z7Vr17h16xatWrVi9erVlC9fHicnJ5ycnAx+U7JQnrBEMgOrUBslZmA18t/DL7c3OYF0RtTA4Ltp6tSpQ6FChYiIiMDf3z/1cTs7O6pWffWgJICjR4/i7u6e+vWIESMA6N69OyEhIWzatImePXumPu/r+/yU3qRJk5g8ebKhUYUQQghVseTxHkow+jLN33//jbOzMzY2NgDEx8cTERFBmTJlsiRgZsiZEWGJ5MyIUBs5M2K44yXaKlKn5vWNitRRG6NHNnXq1Ilcuf49oZI7d+7UMxhCCCGEEMYyetKzpKQkcufOnfp17ty5efr0qaKhhBBCCEsik57pZ3RnpGTJkixZsoRevXoB8O2331KiRAnFgwkh0jL1dHSuHDlNzmDqkvPCsph6iQXAJre1Se3jExNMzmAOMmZEP6Mv0yxevJgdO3bg7OxMsWLF2LlzJ99+m72TyQghhBDi9WX0mZEiRYrw448/ZkUWIYQQwiLJZRr9DO6MzJ07l6FDhzJ69Gg06YygnjVr1itr7Nu3j08//ZRjx44RERGRZtKzxMREPvroI7Zu3crly5fRarV4eHgwY8YMnJ2dDX9HQgghhMrI3Wz6GdwZ+e/aNJkVFxdHtWrV6NWrF+3bp50GPT4+nuPHjzNhwgSqVavGgwcPGDp0KN7e3hw9atwiSUIIIYR4fRg9z4hiL6xnOvgUR44coU6dOly9ehUXFxeDa8s8I0K8TAawCqUpceFBDQNYzTHPyIGiHRSpUy/iZ0XqqI3BZ0YKFSqU7uWZFFFRUYoE+q/o6Gg0Gg0ODg6K1bS1teGrL4N5+vQpYfvCjV6zwdXVhaCxQ9Bq7dNd48AcGby9PWnp1RR7ezuWLl1F6M59Zs9gavvXPcOLn4NhQ/vxwQft6dlrKH/9dd6s78OU9vXr18HX14dcuXJSoUJZduzYg6urCw4OWkaMmMjNm5GvrPHisfj2m9k8fZqIlVVu+vUfRXJycpa/D6VqSIbnGjV04+PJo/nrzAXWrNlI2L5wg9tWqPAWgwP6UKCgI3t27yefXV7KlS1NwUIF6NNnBA8ePEy3XalSJRgV6I+9vR3dPvTn5/VLuHbtFnFxcXw0LhiAIk6F+HXnT/h26sfZMxcyzPDiZ3LUyIGULVuaQoUK0FtPhqwkd9PoZ/DdNHfu3CEqKorevXszZcoU/v77by5dusSUKVPo27ev4sGePHnCmDFj6NKlC/b29hnul5CQQExMTJpN38medu1asm7dFgYMDKRN6+ZG57py5Rr9+o8yup2SGTZt2sGAgYEM8h9Lx46ZW+/A1Aymtn/dM7z4OZgzdzGbN/9q1gxKtP/998MMHjyOrVt38cMPP1OxYjn69x/Nzz9vpmZNw5Z5ePFY9Ok7gkH+Y4iJeYSzs+FrSr3pnyk1ZdDpdMTGxpEnjzU3bkYY1fbcuUv4B4ylS5f+1Kv3Dp9/voD+A0azLyyct8qUyrDdP/9cJ2DQ2NSv4+OfkCOHJs2Cj8OG92fD+m2vzPDiZ/Kz/2cIe0WGrJSs0GapjL61d8uWLQwYMAA7Ozvs7e0ZMGAAv/zyi6KhEhMT6dSpEzqdjgULFujdNzg4GK1Wm2bTJT/KcP/ixYpy/cYtIHNLxitBqQzjg4ayYEFItmRQ4j1YQgYlqOE4dO7sw+rVGwgLC2f79lX06dOVPXt+z1QtgPLly2Btbc2N/+cyhBq+n5Lhud/2H6K1tx9B46YxaeJIo9u3bt2MTRuXs237bnLnzs28udNwd2/AhYuXDa7R7UN/hg4ej5NTYSpVrkBXv/fZsH4bTx4/MTpPSoYmRmYQ5mN0Z6RQoULMmTOHyMhIbt++zdy5cylUqJBigVI6IlevXiU0NFTvWRGAoKAgoqOj02yaHHYZ7n/jZgTFixUFIEcOo9++IpTIEDx9HNt37OGPE6ezJYMS78ESMighu49DiRLOxMQ8IjY2jpYtPWjRoguTJn1Kjx6ZW+ahUqXyjBg+gGHDJxjVTg3fT8nwXMrZ5QcPorG2Nn5Mx+bNobTx9qOLb3sSExMZMnQ83/+wFm9vT6Mz3Llzj7x5balVqxrt2rfEo1lDevXqYlSelAwrjMygJB0aRTZLZfQA1rt37/Lxxx+zf/9+NBoNDRo0YOLEiRQsWNC4F05nAGtKR+TixYvs2bMn050cfQNYbW1tmDd3Gk+eJPD7gcNGX0t1dMzP1Clj8Gj6HkuWrmLmrK+MzmdqhgD/Xvj5deTo0ZOcPPkXi79ZYfYMprZ/3TO8+Dm4FXEb/0E9uXz5KtOD53L69DmzvQ9D22c0gHXChBGEhoZx8OAxpk4di4ODPQULOjJ9+lxOnTqbZt/0BrD+91iELPuRQQN7sH3HHp4+TWR68FxuGnia/03/TKkpg4+PF82bNcbBwZ5Fi5ZnOGYkvT+NDRu60c7HC2tra06dOkMJl2LY2tiQP7+W0YFT0lx2gX8HsDo6OjBh0iiaNKnPsmVrKFeuNPHxT8iVKydDB49P7ZwEjRvKhg3bUseMpDeA9cWfTwcHe2z0ZDDHANa9RToqUqfx7Z8UqaM2mb6b5vbt2xQpUsSoNrGxsVy6dAmAGjVqMHv2bNzd3XF0dKRo0aK8//77HD9+nM2bN6ep7ejoiJWVlcGvI3fTCPEyuZtGKE3upjGcdEb0M/r83c6dO3n77bepW7cuACdPnqRbt24GtT169Cg1atSgRo0aAIwYMYIaNWowceJEbt68yaZNm7hx4wbVq1enaNGiqduBAweMjSmEEEKoRjIaRTZLZfR08EFBQezfvx8PDw8AqlWrxvHjxw1q27hxY713umTTlCdCCCFElrLk8R5KMPrMSI4cOShQoECax3LmNP30rxBCCCHeTEafGalYsSLr1q1Dp9Nx/fp15s6dS506dbIimxBCCGERLHmOECUY3RmZP38+06ZNI3fu3LRr147mzZszd+7crMgmhFCQEoNP6xWqYFL7A3cMv8tIqJ8SF9aVGID6OpDLNPoZ1RlJTk7Gw8ODAwcOMG3atKzKJIQQQlgUOTOin1FjRnLkyEH+/Pm5fft2pl5s3759tGnTBmdnZzQaDRs2bEjz/OTJk6lQoQJ58+Ylf/78eHh4cOjQoUy9lhBCCCFeD0Zfpnny5AkVKlSgfv362Nrapj6+Zs2aV7aNi4ujWrVq9OrVi/bt27/0fLly5fjqq68oXbo0jx8/5osvvqB58+ZcunRJ0VlehRBCCHOSMyP6GT3pWVhYWLqPN2rUyLgXTmcG1hfFxMSg1WrZuXMnTZs2Nbi2THomRNaQMSPCEplj0rMtRYybwj4jrW6vUqSO2hh8mebJkyfMmTOHn376iXPnzlG/fn0aNWqUuint6dOnLF68GK1WS7Vq1RSr6+rqwuJFn/Hj6sWZam9ra8OS7+awcMEsunRply01vL09WbhgFit/WEAzj4bZkkENx0EyZF+GqnWqMHLGMAI/HcnXG+cB0LJzC+atnZ26T4HCjqw+sALX8qVU+z4kQ9ZlaFC/DvO/msGihZ/yW9hGo9sr8XsOnr+Xg+FbadXSI9M1XlfBwcHUrl0bOzs7ChcujI+PD+fPn0+zz5MnT/D396dAgQLky5ePDh06vDQU49q1a7Rq1QpbW1sKFy7M6NGjefbsWZp99u7dS82aNbG2tuatt94iJCTEqKwGd0a6d+/O0aNHqVKlCtu2bWPUqFGvbpQJmzdvJl++fOTJk4cvvviC0NBQveveJCQkEBMTk2bTd7LnxaWljaWG5b03bdrBgIGBDPIfS8eO3tmSQQ3HQTJkX4Y/D5/i87FzOLDzINt/+pWiLkXROmp5eD86dZ8ugzqzd/M+Vb8PyZB1Gfb/fhj/gLFs2bqT5SuMn8Jcid9zAIGj/Vm7VtmV5TMjWaPMZoywsDD8/f05ePAgoaGhJCYm0rx5c+Li4lL3GT58OL/88gs//fQTYWFh3Lp1K80wiqSkJFq1asXTp085cOAAy5YtIyQkhIkTJ6buc+XKFVq1aoW7uzsnTpxg2LBh9OnThx07dhic1eDOyJkzZ/j+++/p378/a9euZd8+w3/JGCPlzRw4cIAWLVrQqVMnoqKiMtw/ODgYrVabZtMlP8qSbKCO5b1TjA8ayoIFIdmSQQ3HQTJkfwaPdk3YtXEPvv078tO3P6c+7tXJk72b95HwxPDbNt/0Y2lpGVJ08W3HqtXGL/aXwpTfcx5N3+PM2QtERd3L9OsrRanp4NP7B3hCQvo/Z9u3b6dHjx5UqlSJatWqERISwrVr1zh27BgA0dHRfPfdd8yePZsmTZpQq1Ytli5dyoEDBzh48CAAv/76a+rf/+rVq+Pl5cXUqVOZP38+T58+BWDhwoW4urry+eef8/bbbxMQEMD777/PF198YfDxMbgzkjt37tT/z5XL6HGvBsubNy9vvfUW7777Lt999x25cuXiu+++y3D/oKAgoqOj02yaHHZZlk8Ny3sDBE8fx/Yde/jjxOlsyaCG4yAZsjdDYefCxMXE4VBAi9bRnoEf9eOtiqV5t0kd3q5RAfc2jajjXhvvD1ur+n1IhqzJAFCihDPR0THExsa9eud0mPp7rlGjetStU4suvj707v0BGs3rP9dHev8ADw4ONqhtdPTzM5eOjo4AHDt2jMTExNTlXQAqVKiAi4sL4eHPV2oODw+nSpUqaRav9fT0JCYmhr/++it1n//WSNknpYYhDO5V/PnnnxQuXBh4vobMw4cPKVy4MDqdDo1Go/fshSmSk5Mz7PUBWFtbY22ddtVHfR+4lKWlq1erxJjAAGbO+sqoPOvXb2Xe3Gl4eTVl85ZQo9oqVSPAvxdNmryHvb09ZcqUYvE3K8yeQQ3HQTJkb4ZWXbzYtmY7N/+5xeSBnwBQqGghDu4+zMHdhwHoOaIbe7cYdhb1TT6WlpgBoFfPLixb9uo7LdOjxO+5CRNnAtDNrxP37t3P1vXPlHrloKAgRowYkeaxF/8Gpic5OZlhw4ZRv359KleuDEBkZCRWVlY4ODik2bdIkSJERkam7vPfjkjK8ynP6dsnJiaGx48fY2Nj88p8Rt9NY4rY2FguXboEQI0aNZg9ezbu7u44OjpSoEABpk2bhre3N0WLFuXu3bvMnz+flStXcuzYMSpVqmTw68jdNEJkDbmbRlgic9xNs87pA0XqtI9cmal2AwcOZNu2bezfv5/ixYsDsHLlSnr27PnSP/jr1KmDu7s7M2fOpF+/fly9ejXN+I/4+Hjy5s3L1q1b8fLyoly5cvTs2ZOgoKDUfbZu3UqrVq2Ij483qDOS+fNvmXD06FFq1KhBjRo1ABgxYgQ1atRg4sSJ5MyZk3PnztGhQwfKlStHmzZtuHfvHr/99ptRHREhhBBC/CsgIIDNmzezZ8+e1I4IgJOTE0+fPuXhw4dp9r99+zZOTk6p+7x4d03K16/ax97e3qCOCGRi0jNTNG7cWO9psnXr1pkxjRBCCGEeydkwXkWn0zF48GDWr1/P3r17cXV1TfN8rVq1yJ07N7t27aJDhw4AnD9/nmvXruHm5gaAm5sb06ZNIyoqKnWoRmhoKPb29lSsWDF1n61bt6apHRoamlrDEGbtjAghhBBvouwYreLv78/KlSvZuHEjdnZ2qWM8tFotNjY2aLVaevfuzYgRI3B0dMTe3p7Bgwfj5ubGu+++C0Dz5s2pWLEifn5+zJo1i8jISD766CP8/f1Tx6oMGDCAr776isDAQHr16sXu3btZs2YNW7ZsMTirdEaEEEKILJYd08EvWLAAeH5V4r+WLl1Kjx49APjiiy/IkSMHHTp0ICEhAU9PT77++uvUfXPmzMnmzZsZOHAgbm5u5M2bl+7duzNlypTUfVxdXdmyZQvDhw9n7ty5FC9enG+//RZPT0+Ds5p1AKu5yABWoTRTT7Ba3A+ZEBbEHANYfyzaVZE6nSN+UKSO2siZESGEECKLGTt76ptGOiNCCCFEFks2+fyqZTPrrb379u2jTZs2ODs7o9Fo2LBhQ4b7DhgwAI1Gw5w5c8yWTwghhBDmZ9bOSFxcHNWqVWP+/Pl691u/fj0HDx7E2dnZTMmEEEKIrKNTaLNUZr1M4+XlhZeXl959bt68yeDBg9mxYwetWrUyUzIhhBAi68iYEf1UNWYkOTkZPz8/Ro8enWWzrtra2vDVl8E8ffqUsH3hrFpl3GqSpraXDJaRwdXVhaCxQ7DX2uPr24+goKGUdnXBIb+WYcMmcPNmhNneh6V8Lxo1dOPjyaP568wF1qzZSNg+wxfZUiqHpRxLNWRoUL8OXbq0J1eunFR8uxzvNWprVHslPg+mZhDmY9bLNK8yc+ZMcuXKxZAhQwxuk95yyvruVm7XriXr1m1hwMBA2rRubnRGU9tLBsvIcOXKNfr1H5X6dcWK5ejbbyRr1/5CrVpVzZJBqfZqyaDT6YiNjSNPHmtuGNGZUzKHpRxLNWTY//th/APGsmXrTpav+Mno9kp8HkzNoKRkhTZLpZrOyLFjx5g7dy4hISFGLfOc3nLKuuRHGe5fvFhRrt+4BUBSUpLROU1tLxksK0OKsL0H+HXHGvr2+ZDdu/ebNYMajoMSGX7bf4jW3n4EjZvGpIkjM1VDDe9DMqTVxbcdq1Ybf2ZFic+DqRmUJGNG9FNNZ+S3334jKioKFxcXcuXKRa5cubh69SojR46kVKlSGbYLCgoiOjo6zabJYZfh/jduRlC8WFEAcuQw/u2b2l4yWFaGFK1aN6O5ZycmTpxJr55dzJpBDcdBiQwpZzQfPIg2aEn0rMhhKcdSDRkASpRwJjo6htjYOKPbKvF5MDWDMJ9sm4FVo9Gwfv16fHx8ALh37x4REWlPxXl6euLn50fPnj0pX768wbX1zcBqa2vDvLnTePIkgd8PHM7UtVRT2kuG1zPDi+fqHB3zM3XKGJo2fY8lS1eh1drhoNVSsJAj06bN4c8/z6TZX98P2et0HLIyg4+PF82bNcbBwZ5Fi5ZnesxIdr8PyfCvSRNH8uuvYYQfPGp0WyU+D4ZmMMcMrN8V/1CROr1vfK9IHbUxa2ckNjaWS5cuAVCjRg1mz56Nu7s7jo6OuLi4vLR/qVKlGDZsGMOGDTPqdWQ6eKE0mQ5eCMtljs7INwp1RvpaaGfErHfTHD16FHd399SvR4wYAUD37t0JCQkxZxQhhBDCbCx58KkSzNoZady4sd47XV70zz//ZF0YIYQQQqiCquYZEUIIISyRTiY900s6I0IvGSvxnKW8D0tQybGkyTX+un9VgSRCib+vVrlym9Q+4VmiAimynlym0U81t/YKIYQQ4s0kZ0aEEEKILCZnRvQz65mRffv20aZNG5ydndFoNGzYsCHN8z169ECj0aTZWrRoYc6IQgghhOJkBlb9zNoZiYuLo1q1asyfPz/DfVq0aEFERETqtmrVKjMmFEIIIYS5mfUyjZeXF15eXnr3sba2xsnJyUyJhBBCiKyXLHfT6KW6MSN79+6lcOHC5M+fnyZNmvDJJ59QoEABxeqrYWltU2tk51Lr3t6etPRqip29HUuXrqJy5bdxLVWC3LlzM8h/jFkyKNVeMrzeGd6pVwP/wL78ff4KoZv30Kz18wkV6zasTcCHo4iPjWf4RH+Sk5PZuHoLR34/rsr3ocYMFSq8xeCAPhQs6Mju3ftZtHi5wW3/+zsiJGQ1Pm2f/wM0Pv4xowM/zrBdqVIlCBwTgL29HR92HcTgwb3x7dKOvn1GcObMBYoXd+azzyfz4MFDLl28wuefL8iwlqurC0Fjh6DV2tPZtx+bN63g6rWbxMXGETh2quEHQkEyZkQ/Vd1N06JFC5YvX86uXbuYOXMmYWFheHl56V01MiEhgZiYmDSbvonV1LC0tqk1snOp9U2bdjBgYCD+/mPx7exDzRqVGTrsI06fPkv9+nXMkkGp9pLh9c6g0+mIj3+MVR4rbl2P4JMxnzLjoy/4+/wVrv59jXYftGbJlyuYMOQT2nf1Vu37UGOGc+cu4R8wFt8u/alX7x2j2v73d0TnTm3JnTsX/gFjibwdRf16tTNs988/1xk08N9/0Hz55Xds2bIz9etKlcuzYf1WBg4IpGq1SnozXLlyjX79R6V+Hf/4MTlyaLgddceo9yLMR1WdEV9fX7y9valSpQo+Pj5s3ryZI0eOsHfv3gzbBAcHo9Vq02y65EcZ7q+GpbVNraGGpdbHBQ1lyZKV3LlzH4Cr125SvHhRs2ZQw/dCMmRfhuMHT+L/wUjmTP2agaP7ANDEqyF7d+wDoEjRwty+FWXUrM9v6rFMT+vWzfhl43K2bd+dqfbjgoYyf/4Szpy5wOeffUyliuUpZuTviP86cvgPunXvzNatK9kZGmZU286+/Rk4aAxFnYpQpcrbmc5gimSFNkulqs7Ii0qXLk3BggVTF9dLT1BQENHR0Wk2TQ67DPdXw9LaptbI7qXWp08fx/Ydezhy9CQFC+YHwKWEMzduGHeWxhK+F5Ih+zKk/BzERD/CytoKgBZtPdixcRcAtyOiKOJcGI3G8Iv1b+qxTM/mzaG09vbjA9/2RrdN+R3xx4nTzJm7mJGjJnHt+k3On/87U1kA/Pw6Mu2TL2jZ8gM8W7i/usF/pHxWou7cJV/evJnOYAq5m0Y/s67am+aFNRrWr1+Pj49PhvvcuHEDFxcXNmzYgLe3YadZQf+qvWpYWtvUGuZcav3FX+MB/r3w8+vI0aMnOXnyL2xtbXBxKYa1tTX+AWNfaq/vw2UJ3wvJYP4MKTOwNm3ZiHqN62KnzceaZeuJuHGbnv5d+WTMpwAUKlKQoR8NJOlZElvW7uDw78dSa2Q0A+ubdiwz0qihGz4+XlhbW3Pq1BkWLFyW7n7pdfNe/B3hXMyJggUcibpzlylTPn9p/5QZWB0dHZg0eTRNmjRgWciPRETcZsDA7ly+fI1ZM79Ep9Mxbvww7t17QFxsHOPGTQfSn4HV0TE/U6eMwaPpeyxZuory5d8iPv4xuXLlZOCgMS+dLTPHqr2zSiqzam/gVctctdesnZHY2NjUsxw1atRg9uzZuLu74+joiKOjIx9//DEdOnTAycmJv//+m8DAQB49esSpU6eMOgOgrzMijCPTwQu1keng1cNSpoOXzkj2M+vdNEePHsXd/d/TayNGjACge/fuLFiwgD///JNly5bx8OFDnJ2dad68OVOnTs30pQghhBBCDSx5vIcSzNoZady4sd7BZDt27DBjGiGEEMI85CyxfqoewCqEEEIIy6e6Sc+EEEIIS5Ms50b0ks6I0Et+fITaKDH41K1QBZPah985Z3IGS6DE7wclBqC+DmTMiH5ymUYIIYQQ2cqsnZF9+/bRpk0bnJ2d0Wg0bNiw4aV9zp49i7e3N1qtlrx581K7dm2uXbtmzphCCCGEomTSM/3M2hmJi4ujWrVqzJ8/P93n//77bxo0aECFChXYu3cvf/75JxMmTCBPnjzmjCmEEEIoSqaD18+sY0a8vLzw8vLK8Pnx48fTsmVLZs2alfpYmTJlzBFNCCGEENlENQNYk5OT2bJlC4GBgXh6evLHH3/g6upKUFCQ3injjfXi0tLGUsPy3ik1du/6malTZ7Nl685XN1A4gxqOg2SQDKbWqFqnCs3aNyVXzpyULFeS/dt/p0Tp4mgLaAke8SnV61bFrWldbO1s2bJqG0f2HdNbT4n3oYZjqUSGChXeYnBAHwoWdGT37v0sWrzcoHbp/Y7u0b0z3fw60sTjfaMyaDQapnwciJ1dPo4d/5MVK34y+n0oJVmJ6WotmGoGsEZFRREbG8uMGTNo0aIFv/76K+3ataN9+/aEhWW8QmNCQgIxMTFpNn0Tq724tLSx1LC8N0DgaH/Wrv0lU22VyKCG4yAZJIOpNf48fIrPx87hwM6DbP/pV1Yu+JGZoz/nRPhJipdy5rcdvzMrcDafjZ1DE2/DFmezhGOpRIZz5y7hHzAW3y79qVfvHYPbvfg72tXVhYIFHblz977RGby9PSlWrCjPEp9x08iFPJWWjE6RzVKppjOSnPz8aljbtm0ZPnw41atXZ+zYsbRu3ZqFCxdm2C44OBitVptm0yU/yrKcalje26Ppe5w5e4GoqHuZen0lMqjhOEgGyaBUDY92TQhdv4tcuXMxfNoQajWoyfXLN1Kf7z70Q9aHbMzSDEq1V0sGgNatm/HLxuVs2747U+01Gg3Dh/Vn7rxvM9W+fLkyhIcfZVTgx/Tv3y1TNZQiA1j1U01npGDBguTKlYuKFSumefztt9/WezdNUFAQ0dHRaTZNDrssy6mG5b0bNapH3Tq16OLrQ+/eHxi1RLpSGdRwHCSDZFCiRmHnwsTFxPE47jHPEp/xxfh5bF/7Kw086wMwYFxfDu45zIXTF7Msg5Lt1ZIBYPPmUFp7+/GBb/tMtS9duiQFCzoyI/gjqlapiFeLJka1v3EzggcPowHTOlUi65l11d40L6zRsH79+jTjQerVq0eZMmVYsWJF6mPt2rXDxsaGlStXGlxb36q9Ly4tPXPWV0blVsPy3im6+XXi3r37mR4z8rovcy4ZJENma/x30rNeI7tzOOwIp4+eYcC4vuSxscZOa8dXUxbSxLsxXh2bc/bkeS79dYmNKzYD+ic9s4RjqUSGRg3d8PHxwtramlOnzrBg4TKD2mX0O/rH1YuNHudnY5OHuXM+IT7+MefPX8owgzlW7Q0q9YEidYL/Mfxv4evErJ2R2NhYLl26BECNGjWYPXs27u7uODo64uLiwvr16+ncuTPz58/H3d2d7du3M2zYMPbu3UuDBg0Mfh19nREhhJAZWMV/maMzMqZUF0XqzPxnlSJ11Masd9McPXoUd/d/B4GNGDECgO7duxMSEkK7du1YuHAhwcHBDBkyhPLly/Pzzz8b1RERQgghxOvFrJ2Rxo0b673TBaBXr1706tXLTImEEEKIrGfJg0+VoJp5RoQQQghLZcmzpypBNXfTCCGEEOLNJGdGhBBvHBmAqgwlJhV1sMlnUvsHj2MVSJH1LHnCMiVIZ0QIIYTIYtIV0U8u0wghhBAiW5m1M7Jv3z7atGmDs7MzGo2GDRs2pHleo9Gku3366afmjCmEEEIoKlmhzVKZtTMSFxdHtWrVmD9/frrPR0REpNmWLFmCRqOhQ4cO5owphBBCKEqn0H+WyqxjRry8vPDy8srweScnpzRfb9y4EXd3d0qXLp3V0YQQQogsY8lnNZSg2gGst2/fZsuWLSxbZth6BoaytbXhqy+Defr0KWH7wjO1ZoMp7SWDZWXw9vakpVdT7O3tWLp0FaE795k9gxqOgxoyKFFDiQyuri4EjR2CVmtv9FoqSmXIbI0Xs48aOZCyZUtTqFABevcZwYMHD19ZI+Vnws7ejpCQ1fi0ff4P0Pj4x4wO/DjDdl6tmtLMszF2dvn4YcVa3mvkRqGCjuSxyYN//zF06Niatu28uHEjgiXf/MDZMxdemaVB/Tp06dKeXLlyUvHtcrzXqK1Bx0GYn2oHsC5btgw7Ozvat9e/2mNCQgIxMTFpNn2zvLZr15J167YwYGAgbVo3NzqXqe0lg2Vl2LRpBwMGBjLIfywdO3pnSwY1HAc1ZFCihhIZrly5Rr/+ozLVVqkMma3xYvbPPl9A/wGjCQsL560ypQyqkfIz4e8/ls6d2pI7dy78A8YSeTuK+vVqZ9hu25ZdjBgygVHDJ+HTviVTJ33GEP9xRNy6jaOjA8nJyTx+/JicOXNwJ+quQVn2/34Y/4CxbNm6k+UrfjKoTVZJRqfIZqlU2xlZsmQJXbt2JU+ePHr3Cw4ORqvVptl0yY8y3L94saJcv3ELyNyS0qa2lwyWlSHF+KChLFgQki0Z1HAc1JBBiRpKfR5MoYbjkCJ37tzMmzuNJu4NuHDxslFtxwUNZf78JZw5c4HPP/uYShXLU6x40Ve2GzFqIEu++YHChQvy2ZyPKepchPv3H/LTj5vo1W0o3y76niHDjTvj1MW3HatWZ251dKXoFNoslSo7I7/99hvnz5+nT58+r9w3KCiI6OjoNJsmh12G+9+4GUHxYs9/IHLkMP7tm9peMlhWBoDg6ePYvmMPf5w4nS0Z1HAc1JBBiRpKZDCVGo5DisTERIYMHc+KH9bi7e1pcLvp//mZmDN3MSNHTeLa9ZucP/+33nYTPh7Frp37+PPkGaKi7jJq2CT+PHmG2nWqp57xvnvnHnnz2RqcpUQJZ6KjY4iNjTO4jTA/je5VK9dl1QtrNKxfvx4fH5+XnuvRowenT5/m6NGjmaqdy6pYhs/Z2towb+40njxJ4PcDhzN1TdmU9pLBsjIE+PfCz68jR4+e5OTJv1j8zQqzZ1DDcVBDBiVqKJHB0TE/U6eMwaPpeyxZuoqZs74ye4bM1ngxu4ODPTY2NuTPr2V04BSiXrg8kt4MrC/+TDgXc6JgAUei7txlypTPX9o/ZQbWvv396PyBD38cP83F839TukxJdDodtra2jB09hfc7e1O1WiUcHR34dMZXnDt7EXj1DKyTJo7k11/DCD+Y8d+TZ09vvuLImK5/qY6K1Fn0T/ZebsoqZu2MxMbGcunSJQBq1KjB7NmzcXd3x9HRERcXFwBiYmIoWrQon3/+OQMGDMjU6+jrjAghhFCGpUwHb47OSF+FOiPfWGhnxKx30xw9ehR3d/fUr0eMGAFA9+7dCQkJAWD16tXodDq6dOlizmhCCCGEyCbZdpkmK8mZESGEyHpyZsRwfUq9r0idb/9Zq0gdtVHtPCNCCCGEpZBJz/RT5d00QgghhHhzyJkRoXqmngq2uOuQwiIUsytgUvubj+6ZnCGvlf55nF4l7ukTkzNEP3kzbrm15HVllCCdESGEECKLyWUa/cx6mWbfvn20adMGZ2dnNBoNGzZsSPN8bGwsAQEBFC9eHBsbGypWrMjChQvNGVEIIYRQXLJOp8hmqczaGYmLi6NatWrMnz8/3edHjBjB9u3b+f777zl79izDhg0jICCATZs2mTOmEEIIIczIrJdpvLy88PLyyvD5AwcO0L17dxo3bgxAv379WLRoEYcPH8bbO3OLkAkhhBDZzXLPaShDVWNG6tWrx6ZNm+jVqxfOzs7s3buXCxcu8MUXXyj2GmpYYlwymFbjv0uUr1+/Fa8WTUhMTOTRozi9S5Rn1ftQw5Lx2Z1BDZ9JJWpkR4a3yrnSs19XHAvk5/d9hyju4oydXT5q1KrCjClzefz4CT7vtyRXrlyULV+a9l7dXpmhUUM3Pp48mr/OXGDNmo2E7QvXu3+pUiUYNXoQ9lo7un0YwLtutejwfmuSkpL54vOFlC1XmvEThnPu7EV+XruZ/b8demWGzH4mK1R4i4CA3hQs4MjuPfs5ffocnTq1JSkpiU8/nU9kZJTBtUz9uVCSJa+4qwRV3dr75ZdfUrFiRYoXL46VlRUtWrRg/vz5NGzYMMM2CQkJxMTEpNn0zeOmhiXGJYNpNf67RHnzZo3o3Wc4AwYGUrzE87FI5sjwX2pYMj67M6jhM6lEjezIcOnCFcaP+oRBvUbxTt3qzPh4DuNHfUJkRBT7ww5y5OBxxo/6hF2/hrF2tWGXrHU6HbGxceTJY82NmxGv3P+ff64T4B+U+vUg/57Exz0mPi6eBw+i0el0xMXGY21tza2bkQZlyOxn8ty5SwQEBNHlgwHUc6vNkMF9iI+LJz4unvv3HxpVy9SfC2E+quuMHDx4kE2bNnHs2DE+//xz/P392blzZ4ZtgoOD0Wq1aTZd8qMM91fDEuOSQZka44KGsmBBCAD169fh/PlLejuiWZFBCZaQQQ2fByVqZFcGjxaNCVk9nz2h+wGoVrMyp/88S3Lyv/dgtO3Qko0/bzWo3m/7D9Ha24+gcdOYNHGkke8AKld+mykff87Bg8fo1NmbA78f4f32vZg0cSZB44caXc9YrVs3Y+PG5WzfvpsqVSsyYeJMDoQfoUuXdln+2llFp9B/lko1nZHHjx8zbtw4Zs+eTZs2bahatSoBAQF07tyZzz77LMN2QUFBREdHp9k0Oewy3F8NS4xLBtNr/HeJ8oYN3Wjr3YLJkz81awalWEKG7P48KFUjuzLs3L6X7p0H4fN+SwB8P2zPmh82pD7vXMyJRzGxxMXGG1QvpVP+4EE01tbWRqR/7vz5SyQlJfHwYQz57PKl1nv4IAZrayuj6xlr8+ZQvL398O3SjvPnLpKUlMSDB9HY2Zk2dXx2SlZoM8ar7mDV6XRMnDiRokWLYmNjg4eHBxcvXkyzz/379+natSv29vY4ODjQu3dvYmPTTsH/559/8t5775EnTx5KlCjBrFmzjEyqojEjiYmJJCYmvvTDmzNnzjT/OniRtbX1Sz9s+k7Vr1+/lXlzp+Hl1ZTNW0KNzmlqe8lgeo0A/140bfIeWnt76tV7hwH9u7Np0w7mfzWDkaMm8+SJ4RMxKfE+UpZdr16tEmMCA4xeMt4SMqjhM6lEjezI8G79d2jRuilWVlbs2fkbefPZ4ljAgRvXb6Xu0/nD9vy0coPBGXx8vGjerDEODvZ8/fXSV+6f39GBiZNGUrVqRUaMHMCaHzcye84UbG1tGT9uOm28m9PUoyFarT2LF60wKENmP5MNG7rh4+OFtbUV27fv5u6de3z55XTy2toSOGaKQTVMzWApUu5g7dWrF+3bt3/p+VmzZjFv3jyWLVuGq6srEyZMwNPTkzNnzpAnz/MJ8bp27UpERAShoaEkJibSs2dP+vXrx8qVKwGIiYmhefPmeHh4sHDhQk6dOkWvXr1wcHCgXz/Dx+mYdaG82NhYLl26BECNGjWYPXs27u7uODo64uLiQuPGjbl79y5fffUVJUuWJCwsjIEDBzJ79mwGDhxo8OvIQnmWRWZgFZZIZmB9LoeR47xepMTcG+ZYKK9jybaK1Pnp6sZMtdNoNKxfvx4fHx/g+VkRZ2dnRo4cyahRz8fVREdHU6RIEUJCQvD19eXs2bNUrFiRI0eO8M477wCwfft2WrZsyY0bN3B2dmbBggWMHz+eyMhIrKyenzUbO3YsGzZs4Ny5cwbnM+s54aNHj1KjRg1q1KgBPJ9XpEaNGkycOBGA1atXU7t2bbp27UrFihWZMWMG06ZNY8CAAeaMKYQQQihKqTEj6d20kZCQYHSeK1euEBkZiYeHR+pjWq2WunXrEh7+/O6r8PBwHBwcUjsiAB4eHuTIkYNDhw6l7tOwYcPUjgiAp6cn58+f58GDBwbnMetlmsaNG+sdYOjk5MTSpa8+pSiEEEK8iYKDg/n447RTGEyaNInJkycbVScy8vldUUWKFEnzeJEiRVKfi4yMpHDhwmmez5UrF46Ojmn2cXV1falGynP58+c3KI9qxowIIYQQlkqptWmCgoIYMWJEmscyM0hZbaQzIoQQQmQxpYZnpnfTRmY4OTkBcPv2bYoWLZr6+O3bt6levXrqPlFRaSeZe/bsGffv309t7+TkxO3bt9Psk/J1yj6GkM6IUD0ZgCoskRIDUE2lxABUU1ny4m//pbYZWF1dXXFycmLXrl2pnY+YmBgOHTqUesOIm5sbDx8+5NixY9SqVQuA3bt3k5ycTN26dVP3GT9+PImJieTOnRuA0NBQypcvb/AlGlDRPCNCCCGEUE5sbCwnTpzgxIkTwPNBqydOnODatWtoNBqGDRvGJ598wqZNmzh16hTdunXD2dk59Y6bt99+mxYtWtC3b18OHz7M77//TkBAAL6+vjg7OwPwwQcfYGVlRe/evfnrr7/48ccfmTt37kuXkl5FzowIIYQQWUypMSPGOHr0KO7u7qlfp3QQunfvTkhICIGBgcTFxdGvXz8ePnxIgwYN2L59e+ocIwA//PADAQEBNG3alBw5ctChQwfmzZuX+rxWq+XXX3/F39+fWrVqUbBgQSZOnGjUHCNg5nlG9u3bx6effsqxY8eIiIhIc88zPL/ONGbMGH799VcePnxIw4YN+fLLLylbtqxRryPzjAghhDCUOeYZae3SSpE6m69tUaSO2pj1Mk3KbHDz589/6TmdToePjw+XL19m48aN/PHHH5QsWRIPDw/i4uLMGVMIIYQQZmTWyzReXl54eXml+9zFixc5ePAgp0+fplKlSgAsWLAAJycnVq1aRZ8+fcwZVQghhFCM2gawqo1qxoykzCD332tVOXLkwNramv379yvWGbG1teGrL4N5+vQpYfvCWbVqvVnbSwbJIBnUW0MNGSpUeIvBAX0oWNCR3bv3s2jxcoPburq6EDR2CFqtPZ19+zFsaD8++KA9PXsN5a+/zpslQwpvb09aejXF3t6OpUtXEbpzn1HtlcigxPdTKWYcEfFaUs3dNBUqVMDFxYWgoCAePHjA06dPmTlzJjdu3CAiIiLDdulNjavvm96uXUvWrdvCgIGBtGnd3OicpraXDJJBMqi3hhoynDt3Cf+Asfh26U+9eu+8usF/XLlyjX79R6V+PWfuYjZv/tWsGVJs2rSDAQMDGeQ/lo4dvbMlgxLfT2EequmM5M6dm3Xr1nHhwgUcHR2xtbVlz549eHl56V2GOzg4GK1Wm2bTJT/KcP/ixYpy/cbz1TCTkpKMzmlqe8kgGSSDemuoIQNA69bN+GXjcrZt352p9kpQKsP4oKEsWBCSLRmU+F4oJVmhzVKppjMCUKtWLU6cOMHDhw+JiIhg+/bt3Lt3j9KlS2fYJigoiOjo6DSbJoddhvvfuBlB8WLPZ5vT18nJqvaSQTJIBvXWUEMGgM2bQ2nt7ccHvi8v+24uSmQInj6O7Tv28MeJ09mSQYnvhVKUWijPUpn11t40L/zCcsbpuXjxIhUqVGDbtm00b274KTZ9t/ba2towb+40njxJ4PcDhzN1TdmU9pJBMkgG9dZQQ4ZGDd3w8fHC2tqaU6fOsGDhMoPbOjrmZ+qUMXg0fY8lS1dxK+I2/oN6cvnyVaYHz+X0acOWdDclQ4oA/174+XXk6NGTnDz5F4u/WWFUeyUyGPq9MMetvc1LtFCkzq/XtytSR23M2hmJjY3l0qVLANSoUYPZs2fj7u6Oo6MjLi4u/PTTTxQqVAgXFxdOnTrF0KFDqVWrFj///LNRryPzjAghhDCUOTojHiU8Famz8/oOReqojVnvpnnVbHARERGMGDEideGebt26MWHCBHNGFEIIIRQnd9Pol22XabKSnBkRQghhKHOcGXEv3kyROntuhCpSR21UNYBVCCGEEG8e1Ux6Jl6mMbG9xZ3yEgLIoTH1J+PNWbb+VWL3zTapvX2jkSZn6OxUx6T2qyIOmZzBHCz5ThglSGdECCGEyGLSAdZPLtMIIYQQIluZtTMSHBxM7dq1sbOzo3Dhwvj4+HD+fNr1Ep48eYK/vz8FChQgX758dOjQgdu3b5szphBCCKEonUKbpTJrZyQsLAx/f38OHjxIaGgoiYmJNG/enLi4uNR9hg8fzi+//MJPP/1EWFgYt27don377JuFUAghhDBVMjpFNktl1jEj27ennTkuJCSEwoULc+zYMRo2bEh0dDTfffcdK1eupEmTJgAsXbqUt99+m4MHD/Luu++aM64QQgghzCBbB7BGR0cD4OjoCMCxY8dITEzEw8MjdZ+U1XzDw8MV6YxoNBqmfByInV0+jh3/kxUrfjKqfXYuMZ6yJLfd/5fk3rlzH6NH+1OrVjV8ffuZJYNSS5SbkiFFdi4x/uJxGDVyIGXLlqZQoQL07jOCBw8eZnkGpdq/7hkqVHiLgIDeFCzgyO49+ynm7EShwgVJSkoiMHAKjx8/eS3eR4oXP1uZYWiN+ISn9J6+hAHt3Pnz0nV+PfwXP04ZgG0ea+KfJPD1+j0kPkvCrXIZapR14bNV28mVMye2eawY/YFXujVtbW3YtXMtUz+ZTYP6dSlUqAA2Nnno2WsYiYmJL+1fqEQR2g7ugI1dXr4c+Ckt+rShfrtGLBo+jxsXrr30PJBmH9K5m0bJ31NKseSzGkrItgGsycnJDBs2jPr161O5cmUAIiMjsbKywsHBIc2+RYoUITIyMt06CQkJxMTEpNn0zePm7e1JsWJFeZb4jJs3IozOnZ1LjKcsye3vP5ZOHb15t24tIiOjzJpBqSXKTcmQIjuXGH/xOHz2+QL6DxhNWFg4b5UpZZYMSrV/3TOcO3eJgIAgunwwgHputalUqTyDBo0hbO8B2vm0NEsGJWu8+NnKDENrLN3yG83rVAJg8PseVC9bIvW5n/ceIykpmRwaDU6OWrT5bJnatz2TerXl9v0YkpPTX0N29Ch/1v68GYBx46fTt99Ibt6KpECB/Onuf+f6bb4N/Dr16+3f/sLx0CMZPp/ePi9S8veUUnQ6nSKbpcq2zoi/vz+nT59m9erVJtUJDg5Gq9Wm2XTJjzLcv3y5MoSHH2VU4Mf079/N6NdTwxLj44KGEhKyms6d2xp9ZkepDEpQw1LrSh2H3LlzM2/uNJq4N+DCxctmzaCGz2R2Z2jduhkbNy5n+/bdbNiwjS++mEr9BnUp9v8VW82RQcka5mCTJyelnQvjaJ8v3ef/ibxLg2plGeHryZItv6U+fvz8P5QqWjDdVXCbNn2Ps2cvEBV1F4AiRQoxf/4Mijk7ce/eg6x5I8IiZEtnJCAggM2bN7Nnzx6KFy+e+riTkxNPnz7l4cOHafa/ffs2Tk5O6dYKCgoiOjo6zabJYZfha9+4GcGDh88vD2XmF0V2LzE+/f9Lcmty5MDBQcvnn31M1SoVqVunptkyKEUNS60rdRwSExMZMnQ8K35Yi7e3cQtiWcKy99mdYfPmULy9/fDt0o7vf/iZ4cMncPLkX5y/cMlsGZSsYQ42Njk59fd1tob/ybq9x14601Ekvz32tjbkzpWTlH+QHzl7hd3Hz+Hfvkm6NRs1dKNO3Zr4+vrQu9cHREXdxd9/LH+cOM2779bK6rekajKAVT+zrk2j0+kYPHgw69evZ+/evZQtWzbN89HR0RQqVIhVq1bRoUMHAM6fP0+FChWMGjOib20aG5s8zJ3zCfHxjzl//pLRy1Kbc4nxF+eZzGhJ7tWrF6c7ZkTfNzaz70OpJcpNyZDCnEuMv+jF4+DgYI+NjQ3582sZHTgl9V+GWZlBqfavW4YXZ2BtmPo5sOLUqbPkzp2LsmVLk5SUzIgRE9M9tZ3RBFRqOJYvfrZmzvrK6AyG1ojdN5uNv/2Bg50tVyPvsnbPUWqWK8mg9k3IodEwZ00oVrlzUa9yGWqUK8n7H83HvebbaDQw+gMvCjcbm25dP7+OPHwYTdOmDdHpdOS1tWHosI/SHb/Tu0IT3h/dlcrvVSNs9U4e3L5Psx4tibp6m41f/sTD2/fTPP/L1+to0KFx6j4DJk186feOsb+nzLE2TW3nhorUOXJrnyJ11MasnZFBgwaxcuVKNm7cSPny5VMf12q12NjYADBw4EC2bt1KSEgI9vb2DB48GIADBw4Y/DqWslCeTAcvxMtkOnjlyHTwz5mjM/JO0fcUqXM04rdX7/QaMuvdNAsWLACgcePGaR5funQpPXr0AOCLL74gR44cdOjQgYSEBDw9Pfn6668RQgghhGUya2fEkJMwefLkYf78+cyfP98MiYQQQoisZ8njPZQgC+UJIYQQWcySb8tVgnqHegshhBDijSBnRlRM+tFCvEwGnyonX8MRJrXflr+ByRk63M148jJDuNgXNjmDOchlGv2kMyKEEEJkMZ10RvQy62Wa4OBgateujZ2dHYULF8bHx4fz59OuE7B48WIaN26Mvb09Go3mpQnQhBBCCGFZzNoZCQsLw9/fn4MHDxIaGkpiYiLNmzcnLi4udZ/4+HhatGjBuHHjzBlNCCGEyDLJOp0im6Uy62Wa7du3p/k6JCSEwoULc+zYMRo2fD473bBhwwDYu3evOaMJIYQQWUYu0+iXrWNGoqOfrxHj6Ohottf09vakpVdT7O3tWLp0FaE7jZtaVw1LjCuRwRKOg6nvQYkMGo2GKR8HYmeXj2PH/8zUwoVq+DxYQgYlarzuGVxdXQgaOwSt1p7Ovv3YvGkFV6/dJC42jsCxU41uP2rkQMqWLU2hQgXo3WcEDx48TLN/Ia93KOhRk1x2Ntz8YQ/5671NkTbvcshjLEnxCdjXKEPJga15cvMeFz/+Hk3OHFQI7gWAY8Mq/NF1Bpx8XqtUqRKMCvTH3t6Obh/68/P6JVy7dou4uDg+GheMk1NhPpkeRFJSEt+vWMtv+w6+lN/GNg+rN33H3FkLqfFOVVq2bUabJl2Ij3tMYadCBE0eRlJSMmtXbeTg/qMGH1eR9bLt1t7k5GSGDRtG/fr1qVy5cqbrJCQkEBMTk2bTdz/3pk07GDAwkEH+Y+nY0dvo11PDEuNKZLCE42Dqe1Aig7e3J8WKFeVZ4jNu3ojIlgxq+F6oIYMSNV73DFeuXKNf/1GpX8c/fkyOHBpuR93JVPvPPl9A/wGjCQsL560ypV7a/862o5wduZizo7/FyceNv4N/JPrIhdTnY/74m4tTV6Z+rUtK5mzgt5wbv5TY89eJ//vfn5l//rlOwKB/17qJj39Cjhya1HWeunXvxOzPFzKg32h69PRNN3//IT3ZsvFXAD6fPp9jh0+mPtepqw8L5y5ldMBEfP0yt7CmKeQyjX7Z1hnx9/fn9OnTrF692qQ6wcHBaLXaNJsu+dEr240PGsqCBSFGv54alhhXcony1/k4pMjse1AiQ/lyZQgPP8qowI/p379btmRQw/dCDRmUqGEpGVJ09u3PwEFjKOpUhCpV3ja6fe7cuZk3dxpN3Btw4eLlDPcrPbw915f8anDdwl61ubNd/5mJbh/6M3TweJycClOpcgWcizlx88atDP+x2aBRXS6dv8y9O/fTfd7JuTC3bkZm2+RjOoX+s1TZ0hkJCAhg8+bN7Nmzh+LFi5tUKygoiOjo6DSbJoed3jbB08exfcce/jhx2ujXU8MS40otUf66Hwcw7T0okeHGzQgePHx+uTGzfzjU8HmwhAxK1LCUDClS/vBG3blLvrx5jW6fmJjIkKHjWfHDWry9PdPd562PPuDu7hM8OnXF4LpFfOoTuTFc7z4p2e/cuUfevLbcuhmJc7GiaDJYKLFu/XeoUasK3h286OzX/qX9Im9FUdS5SIbts5qcGdHPrKv26nQ6Bg8ezPr169m7dy9ly5bNcN+9e/fi7u7OgwcPcHBwMOp19K3aG+DfCz+/jhw9epKTJ/9i8TcrjKqthiXGlchgCcfB1PegRAYbmzzMnfMJ8fGPOX/+EgsWLjN7BjV8L9SQQYkar3sGR8f8TJ0yBo+m77Fk6SrKl3+L+PjH5MqVk4GDxrzyrMCL7R0c7LGxsSF/fi2jA6ekXjJJcXr0Jzh3akTMib95dPofcthYU7ybBw8PnePvmWvImTcPpUe9T77yxbke8is3V+zCpmRhSvl7czbwWwA6xB75/2s7MGHSKJo0qc+yZWsoV6408fFPyJUrJ0MHj6dIkUJ8PDWQZ8+S+HH1BvaFPe/MFLTRpsnUwbcND+4/xLVMSbp078CRg3/wxYzni7QGThhC0rNnbFi7lfDf/p1s7fLdPww+xplVrtA7itS5cMcyx7qYtTMyaNAgVq5cycaNGylfvnzq41qtFhsbGwAiIyOJjIzk6NGj9O3bl3379mFnZ4eLi4vBA131dUaEEEIoQ5EZWGNNm4H1xc5IZpijM1K2UC1F6ly8c0yROmpj1ss0CxYsIDo6msaNG1O0aNHU7ccff0zdZ+HChdSoUYO+ffsC0LBhQ2rUqMGmTZvMGVUIIYRQjFym0c+sZ0bMRc6MCCFE1pMzI4YrU7CmInX+vntckTpqI2vTCCGEEFnMku+EUYJ0RoQQQogsptMlZ3cEVZPOiBBCvKGK5HUwqX27R4dNzvDg2i6T2hculbnJ6YS6SGdECCGEyGLJcplGL+mMCCGEEFnMAu8VUZRZb+0NDg6mdu3a2NnZUbhwYXx8fDh//nzq8/fv32fw4MGUL18eGxsbXFxcGDJkSOqCekIIIYSwPGbtjISFheHv78/BgwcJDQ0lMTGR5s2bExcXB8CtW7e4desWn332GadPnyYkJITt27fTu3dvc8YUQgghFJWMTpHNUmXrPCN37tyhcOHChIWF0bBhw3T3+emnn/jwww+Ji4sjVy7DrirJPCNCCPFqpg5gjU6INzmDGgawPoi9ZHKNVymWv5IidW4++EuROmqTrWNGUi6/6JvmPTo6Gnt7e4M7Iq9ia2vDV18G8/TpU8L2hWdq3QhT2ptSw9XVhaCxQ9Bq7ens249vv5nN06eJWFnlpl//USQnG37r2Ot8HFJ4e3vS0qsp9vZ2LF26itCd+8yeQaPRMOXjQOzs8nHs+J+sWPGT2TOo4XuhhgxK1FBDhpQau3f9zNSps9mydafR7Y2t8Va50vQZ8CGOjvnZv+8gMTGx1GtQB2vr3IwdOZXiJZwZOWYQDx48ZH/YIbZsenmF3lKlSjB6jD9ae3s+7DqIYcP781ZZVwoWdGRg/9EULlyQQf49KVDAkb17f+fbb34AIP7xE3r4BzKod1d0yToOHD5Orlw5GTagJ9Exj/h8/rfkyJmTdi2bUb5saWbNW0yuXLnIa2tD4JB+aTKULFWCkaMHYa+1o8eHAYwMHESpUiVwyK9lzMgp5LPLy4BB3XEs4Mi+vQdY8u3KTB3bzLDk2VOVkC2r9gIkJyczbNgw6tevT+XKldPd5+7du0ydOpV+/fql+zxAQkICMTExaTZ9J3vatWvJunVbGDAwkDatje9Rm9relBpXrlyjX/9RqV/36TuCQf5jiIl5hLOzk1kyKNVeiRqbNu1gwMBABvmPpWNH72zJ4O3tSbFiRXmW+IybNyKyJYMavhdqyKBEDTVkAAgc7c/atb9kqm1maly6cJmxI6bQv+cI3qlbA69WTQkcNolfNuygZRsPmng0YMk3PxA0cirv+6b/s/bPP9fxHzg29es5XywiYNBYftt3kNJlSnH+/N8MHfIRfh/68+67/y4at+T7NbRo+h7JycmsWvcLefJY46C1x9rainWbd9DbrxPTxo9g7S/b0drbMe2jkXw8diiRUXde+gfY1X+uM8Q/KPXrt98uy+BBQWxYt5XqNStz4fzfjBg6kZ5+g6n7rjJrxQhlZFtnxN/fn9OnT7N69ep0n4+JiaFVq1ZUrFiRyZMnZ1gnODgYrVabZtMlP8pw/+LFinL9xi0gc0u+m9peqRopypcvg7W1NTf+X89cGdR0HMYHDWXBgpBsyVC+XBnCw48yKvBj+vfvli0Z1PC9UEMGJWqoIYNH0/c4c/YCUVH3MvX6ma3RzMud5WsWsDv0t9R/0N24fouizkVY++MvtG3fko+mjCS/o4NB9XLnzs3sL6bQ2L0ely5eBqBlKw9+Xr+EHTv2AGBtraG0qwuODg7ExT8mLv4xI/17Y2+Xj0PHTnD7zl2cChciR460f6qOnTiNq0uJlx5/0W/7DrJxywp69OrCvr3PV/n1atmUNT9/S+iOvQYfGyXoFPrPUmVLZyQgIIDNmzezZ88eihcv/tLzjx49okWLFtjZ2bF+/Xpy586dYa2goCCio6PTbJocdhnuf+NmBMWLFQV45Qc5K9orVQOgUqXyjBg+gGHDJ5g9g1qOQ/D0cWzfsYc/TpzOlgw3bkbw4OHzy42Z/eNlCd8LNWRQooYaMjRqVI+6dWrRxdeH3r0/QKPRmKVG6LY9+HUcQPuOrVIfK1a8KBG3bnPv7n3Gj/6E6ZO/4P69BwZlSExMZMTwiaz6YT2tWjcDYOuWnbT36Uln37YAWOfJwZ+nz7EldA9bft1DQcf8ANjb5SMu/jFFChXk9p27ac6AHD7+J7t/Cyegr98rM7TwakrbVn588vHnfNitIwDbtu6iY/vedOycubOpmaXT6RTZLJVZB7DqdDoGDx7M+vXr2bt3L2XLln1pn5iYGDw9PbG2tmbr1q3Y2toa/Tr6BrDa2towb+40njxJ4PcDhzN1TdmU9qbUcHTMz9QpY/Bo+h4hy35k0MAebN+xh6dPE5kePJebNw2/TPA6H4cUAf698PPryNGjJzl58i8Wf7PC7BlsbPIwd84nxMc/5vz5SyxYuMzsGdTwvVBDBiVqqCFDim5+nbh3736mx4wYUiNlAKtb/dp4tfHA2tqKM39dIPphDHXdapInTx7Gjf6EAgXyM3hEP2zz2rB8yY8cOfh8sbb/DmB1dHRg0uRRuDdpwLKQH9Fq7bG1tcHBQcu4oGmUL18G77YtsLa24vTpcyxe9Pzn9cG1XWzYEoqDgz03bkVy/WYEcfHxTBwVwMPoR3yxcCk5c+agjWcTyriWpH23QTRt6AZoGDO0Hy7l26RmyO/owIRJI2js3oAVy9Zgb2+H1sGOAgUd+TT4K7T5tbTxbo61tRV/nT7Pt4u/f57BDANYi2grKFLndvQ5ReqojVk7I4MGDWLlypVs3LiR8uXLpz6u1WqxsbEhJiaG5s2bEx8fz/r168mbN2/qPoUKFSJnzpwGvY7cTSOEEK8md9P8P4MZOiOFtOVfvZMB7kSff/VOryGz3k2zYMECABo3bpzm8aVLl9KjRw+OHz/OoUOHAHjrrbfS7HPlyhVKlSpljphCCCGEoiz5EosSzNoZedU3o3HjxvINE0IIId4wsjaNEEIIkcVknhH9pDMihBBCZDE566+fdEaEEOINFRX30KT27xYy/Q6RGpU+MKm9nZWNyRlE9pPOiBBCCJHFLHmROyWYddKz4OBgateujZ2dHYULF8bHx4fz59PeptS/f3/KlCmDjY0NhQoVom3btpw7Z5n3VQshhHgzyKRn+pm1MxIWFoa/vz8HDx4kNDSUxMREmjdvTlxcXOo+tWrVYunSpZw9e5YdO3ag0+lo3ry5ydOmCyGEENklWadTZLNUZp307EV37tyhcOHChIWF0bBhw3T3+fPPP6lWrRqXLl2iTJkyBtWVSc+EEOLVjJ9oPi0lxow8eBb36p30iEk0rT3AtfunTK7xKvlsXRWpExt/RZE6apOtY0aio5+v6eHo6Jju83FxcSxduhRXV1dKlCihyGu6uv6vvTuPaurc/ga+kwAJAlJGhQIBFQUWIJYhBVGpPyoOFbStqK1FbZ1wQGoHh1bRa0Vs7231asWr1zrdqqhFrVqoA6Ji60QV9TpBEUURimIDMgQx3/cPX3KNkEEFgnZ/1jprGZ48O/vEc052nvPkHBeaOSOOLC3b0tBhmu8GrElruMX4s65DU8RoDe8D58A5NHWMFyWH0O5BNHz4m2RkJCIvz87Uo1eUXv08PDrRlMljyMbWmg5mZJG8vJzCeoWQWCymSZNnUFVVdaP9fIN86PU3/4+MRCKSdpZSVvpRcu7gRJY2lrRw2ld0T36Pxnw6mszM29Cls1cofeveBjECQ16hydPH0e+X8+mXzBMUFtGD6urqqPJeFX2VsIT6RoVTz/AQqquro7XLN1J+boFa/06d3ej98SPI2uYlyjp0nF7v9xrdLCyiysoqWjDnH9T1FW8aN2kkFd0spgVz/vHE7+mzepFvctcUDHbXXqVSSfHx8dS9e3fy9vZWa1u+fDmZm5uTubk5paWl0b59+8jExKTROAqFgsrLy9UWbYM9V69ep3HjP37qvFvDLcafdR2aIkZreB84B86hqWO8KDlkHT1BkybPoD0/7af1G7bq3e/SpTyaNHkGDR8+nkJCAigqqh9NiP2Utm7bRYMH99fY7+yJc/SPGYvpl/3HKH3rXtqYnEKLPvkHnfk1h5xcHSk0IoTsHOyoru4Bld4qbTQGAKqqrCYTsZguX8ijz6fOp7kfLaT2jvYkEAgofEAYzflwAS1ekEwjYxv+AifvylWa9dF8ih39MQXIulF1dTUJhUK6XfrwzsU5v52nhXO/0fu9aGp8mkY7gxUjkyZNovPnz9PmzZsbtL377rt0+vRpOnToEHXu3Jmio6Oppqam0TgLFy4kS0tLtQXKimbLuzXcYrw1aA3vA+fAOTR1jBclh3rDhw2mTZufbGTljTdepx93rqe09AzVF7vr12/Qy///TsTahA/uTfu2HyAjYyP6cEEc+Ye+QoX5N8ilozOdP/VfWjYvmQbFNH633OxjZyj2nQ/pmy++pUmfjiUioldkXelq3jUCQGuTN9KsxI9o2Ki3qK1l43dmf71vGK1NWU4H9x2h2FEf0YwP55F9Ozvy8Or8RO8Ba3kGKUYmT55Mu3fvpoMHD5KTk1ODdktLS3J3d6eePXvStm3b6NKlS7R9e+M71MyZM0kul6stAmHjG2pTaA23GG8NWsP7wDlwDk0d40XJgYjI2dmR5PJyunfvyeZU7N69jwZGvkfDh735SKyXdd4V3N7RnirLK6m6sprq7tfRN5/9k9K37aXQiO5Ueus2VcgffknUVGDVFz7yP8vJxMSYAkNeod79etGyRSuJiOj86Qv0t0+/pF3b0qm4qKTRGPvSM2lkdCwNGjJAFe9OaRmZmRv+WiT8axrtWnQCKwCaMmUKbd++nTIzM8nd3V1nH4VCQVZWVrR8+XIaNWqUXq+jbQKrtbUVzf/bdAr/vx703ZpNtOjLZfqmT0St4xbjz7oOTRGjNbwPnAPn0NQxXpQciIgS5nxEe/ceol+PndL4nMcnsPbsGUyDB/UjsVhM585doLt/yim0u4xMTSU0JW5Wgzkjj05gff+jkXTi0Ek6f+oCTZg1liSmYrKwtKBlf1tBVfeqKP6LKaSorqFreYW0fd1OVb/6Cazh/cMo5DUZtbW0oP17Mmnmgml0IO0QEUCL5iyhoO6vUFifHtTGzJT+Pm8p3SktI6L/TWB9tXsA9XsjnEzEJnTxv1fI7xVvqq6uISMjEc348G/k2sGF4j+Npc4eHWnDdym0cd02VQ4tMYFVLGmaeY+KmsImidPatGgxMnHiRNq4cSPt3LmTunT53+2ULS0tydTUlPLz8yklJYX69OlDdnZ2dOPGDUpKSqKjR4/SxYsXyd7eXq/X4V/TMMaYbvxrmoe4GDG8Fj1HkJycTHK5nMLCwsjBwUG1pKSkEBGRRCKhI0eOUP/+/alTp040dOhQsrCwoF9++UXvQoQxxhhrbQx5mubbb78lV1dXkkgkJJPJ6MSJE028ds+uRX/aq+uNdHR0pJ9++qmFsmGMMcZahqHme6SkpNC0adNoxYoVJJPJaPHixRQREUGXL19uVV/yn8/Zk4wxxhjT6euvv6axY8fS6NGjycvLi1asWEFt2rSh7777ztCpqeFihDHGGGtmaKKlsWtrKRSKRl+ztraWsrOzKTw8XPU3oVBI4eHh9OuvvzbPij4t/MXU1NQgISEBNTU1BovBObSeHJoiBufAOXAOrTOHporRmiQkJDSoURISEhp97s2bN0FE+OWXX9T+/sknnyAoKKgFstXfX64YkcvlICLI5XKDxeAcWk8OTRGDc+AcOIfWmUNTxWhNampqIJfL1RZNhdbzVIwY9N40jDHGGNOfWCwmsVis13NtbW1JJBJRSYn6ReJKSkqoffv2zZHeU+M5I4wxxtgLyMTEhPz9/enAgQOqvymVSjpw4AAFBwcbMLOGeGSEMcYYe0FNmzaNRo4cSQEBARQUFESLFy+myspKGj16tKFTU/OXK0bEYjElJCToPczVHDE4h9aTQ1PE4Bw4B86hdebQVDGeZ0OHDqXS0lKaM2cOFRcXk5+fH6Wnp1O7du0MnZqaFr0cPGOMMcbY43jOCGOMMcYMiosRxhhjjBkUFyOMMcYYMyguRhhjjDFmUFyM/IXx3GXGGGOtwQv/097bt2/Td999R7/++isVFxcTEVH79u0pJCSERo0aRXZ2dgbO0HDEYjHl5OSQp6enoVNhjDH2F/ZC/7T35MmTFBERQW3atKHw8HDV76pLSkrowIEDVFVVRT///DMFBAQ0ax7V1dWUnZ1N1tbW5OXlpdZWU1NDW7ZsoZiYGK0xLl68SMeOHaPg4GDy8PCgS5cu0ZIlS0ihUNCIESOod+/eGvtOmzat0b8vWbKERowYQTY2NkT08FbT+qqsrKQtW7ZQXl4eOTg40PDhw1VxmsuUKVMoOjqaevTo0ayvo8utW7coOTmZsrKy6NatWyQUCqlDhw40aNAgGjVqFIlEIoPmx9jTOnHiRIMvbsHBwRQUFPRMce/evUu7du3SeZwjeniFUKGw4aC9UqmkGzdukIuLi9b+AKigoICcnZ3JyMiIamtrafv27aRQKKh///5ka2v71OvBmpEhb4zT3GQyGcaNGwelUtmgTalUYty4cXj11Vef6TWuX7+O0aNHa2y/fPkypFIpBAIBhEIhevbsiaKiIlV7cXExhEKh1tdIS0uDiYkJrK2tIZFIkJaWBjs7O4SHh6N3794QiUQ4cOCAxv4CgQB+fn4ICwtTWwQCAQIDAxEWFobXXntNaw6enp64c+eOap1dXV1haWmJwMBAWFtbw97eHvn5+Rr7Z2dnq7WvX78eISEhcHJyQvfu3bFp0yatr1+/HkKhEO7u7khKSsKtW7d09mnM0qVL8d5776lec/369fD09ESXLl0wc+ZM3L9/X2PfkydPwtLSEv7+/ggNDYVIJMJ7772HoUOH4qWXXkJISAjKy8t15qBQKJCSkoL4+HgMGzYMw4YNQ3x8PLZs2QKFQvFU6/Wo4uJizJs3T+fzCgsLUVFR0eDvtbW1OHTokM7+t2/fRkZGhmrbKC0tRVJSEubNm4cLFy48eeIA3NzccOXKlafqq1QqkZGRgZUrV2LXrl2ora3V+vzCwkKUlpaqHh8+fBjvvPMOQkND8e677za4wVhj/v73v6OgoOCp8q23a9cuzJ49G1lZWQCAAwcOoF+/foiIiMC//vUvvWJUVVVh9erVGD16NPr27Yv+/ftj8uTJ2L9/v86+JSUlCA0NhUAggFQqRVBQEIKCglTHrtDQUJSUlDz1+p05c0bncU4ul2PIkCGQSCSwt7fH7NmzUVdXp2rX51h56dIlSKVSCIVCdOrUCfn5+fD394eZmRnatGkDW1vbp962WPN6oYsRiUSCixcvamy/ePEiJBLJM72Grp1s0KBBGDBgAEpLS5Gbm4sBAwbAzc0N165dA6DfDhYcHIzPPvsMALBp0yZYWVlh1qxZqvYZM2bg9ddf19h/4cKFcHNza1CwGBkZ4b///a/OdQQeFgL1B6N3330XISEh+PPPPwEAFRUVCA8Px/DhwzX29/X1xb59+wAAq1atgqmpKeLi4pCcnIz4+HiYm5tj9erVOnPYv38/pk6dCltbWxgbGyMyMhK7du3CgwcP9FqP+fPnw8LCAm+99Rbat2+PpKQk2NjY4IsvvkBiYiLs7OwwZ84cjf27d++OuXPnqh5v2LABMpkMAFBWVgY/Pz/ExcVpzSE3NxcdOnSARCJBr169EB0djejoaPTq1QsSiQSdOnVCbm6uXuujia7tsqioCIGBgRAKhaqC6tGiRJ/t8vjx47C0tIRAIICVlRVOnToFNzc3uLu7o2PHjjA1NUV2drbG/kuWLGl0EYlEmDlzpuqxNv369VNth3fu3IFMJoNAIICdnR2EQiE8PDzwxx9/aOwfFBSEXbt2AQB27NgBoVCIyMhITJ8+HYMHD4axsbGqXROBQACRSITw8HBs3rz5iYvJFStWwMjICP7+/mjbti02bNgACwsLjBkzBuPHj4epqSkWL16sNUZubi6kUins7e3h7OwMgUCAAQMGQCaTQSQSYciQIVqL7LfeegvBwcG4dOlSg7ZLly4hJCQEb7/9tsb+j99F9vHlyJEjOrenuLg4dO7cGVu3bsWqVasglUoxYMAA1ftZXFwMgUCgNUZUVBQiIyNx9uxZxMfHw9PTE1FRUaitrUVNTQ0GDhyIESNGaI3BDOOFLkZcXV2xbt06je3r1q2DVCrVGmPnzp1al2+++UbrTmZvb4+zZ8+qHiuVSkyYMAEuLi74/fff9Trot23bVvXh9ODBAxgZGeG3335TtZ87dw7t2rXTGuPEiRPo3LkzPvroI9W3xactRjp06IC9e/eqtR89ehTOzs4a+5uamqq+PXbr1g0rV65Ua//+++/h5eWldw61tbVISUlBREQERCIRHB0dMWvWLJ0f4h07dsQPP/wA4OEHtkgkwn/+8x9Ve2pqKjp16qR1PX7//XfV4wcPHsDY2BjFxcUAgL1798LR0VFrDuHh4YiKimr0luZyuRxRUVHo06eP1hg5OTlal5SUFK3bVUxMDGQyGU6ePIl9+/bB398fAQEBKCsrA6DfgT88PBxjxoxBeXk5vvrqKzg5OWHMmDGq9tGjR2PQoEEa+wsEAjg5OcHV1VVtEQgEePnll+Hq6go3NzetOTy6TcTGxsLLy0s1AldYWAh/f39MmDBBY38zMzPV82UyGZKSktTaly5dim7duunMYc2aNYiKioKxsTFsbGwwdepUnDt3Tmu/el5eXqr9ISMjAxKJBN9++62qfc2aNfD09NQao1+/fhg/frxqFDgpKQn9+vUDAFy5cgWurq5ISEjQ2N/c3FztmPK4U6dOwdzcXGN7/ailpqW+XRsXFxccPHhQ9bi0tBRBQUHo06cPampq9DpW2tnZ4fTp0wCAe/fuQSAQ4MiRI6r2o0ePwsXFRWsMZhgvdDGybNkyiMVixMXFYefOnTh27BiOHTuGnTt3Ii4uDqampmo7fWPqdyKBQKBx0baDWFhYNDpcPWnSJDg5OeHw4cN6FSN5eXmqx+bm5mofiAUFBXqN8FRUVCAmJga+vr44d+4cjI2Nn6gYqf+G6ejo2OBAqysHGxsbnDp1CsDDAu3MmTNq7Xl5eTA1NdWZQ2NDxdeuXUNCQoJqeFYbU1NT1agUABgbG+P8+fNq69GmTRuN/aVSqWooHXg4wiAQCFBVVQUAuHr1qs7/C1NTU60fVGfPntXrvdC0Xepz8Hd0dMTx48dVj+u/Nfr5+eHOnTt6HfitrKxU23ZtbS2EQqFazOzsbLz88ssa+48fPx5+fn4N9o+nLZK7dOmCnTt3qrXv379fa0FjaWmJnJwcAA+3y/p/18vLy9O6PTyeQ0lJCRYtWgQPDw8IhUIEBgZi5cqVWk/dNbZNPrp9XL16VWcObdq0UTv9oFAoYGxsjNu3bwN4OOrj6uqqsb+NjQ0yMzM1th88eBA2NjYa29u2bYtFixYhMzOz0WXVqlV67ZuPn+otLy9HcHAwevfujfz8/Cfev83NzdWOndevX4dYLNYagxnGC12MAMDmzZshk8lgZGSkOlgbGRlBJpMhJSVFZ39HR0fs2LFDY/vp06e17iCBgYFYv359o22TJk3CSy+9pHMH8/X1RVpamurxuXPn1IZcDx8+rPMb5KM2bdqEdu3aQSgUPtFB38fHB926dYO5uTm2bdum1n7o0CGtHzwjRozABx98AAAYMmQIPv/8c7X2xMRE+Pj46MxB23lrpVLZYMTmcW5ubqr38sqVKxAKhdiyZYuqfc+ePVoP2lOnToW3tzfS0tKQkZGB1157DWFhYar29PR0dOzYUWsODg4OWof+f/zxRzg4OGiNYWNjg9WrV6OgoKDRZc+ePVq3KzMzswbnzu/fv49BgwbB19cXZ8+e1bldmpmZ4erVq6rHjxfJ165d01mYpaamwtnZGUuXLlX97UmLkfoi2d7eXq2wBB4Wl9o+fCIjIzFjxgwAQERERIPTQqtWrYK7u7vOHBrbLg8fPoyRI0fCzMwMZmZmGvvXfykBgJs3b0IgEGDPnj2q9szMTDg5OWnNwdHRUe2U2N27dyEQCFRFUH5+vtb3YeLEiZBKpUhNTVUbsZPL5UhNTYWrqysmT56ssX9YWBgWLVqksf3MmTM6R9q6dOmitt71KioqEBwcjK5du+rcJjt27Kg2ErJ8+XK1QjA7Oxvt27fXGoMZxgtfjNSrra1FUVERioqKdE5qe9TAgQMxe/Zsje26drLExETVcGljYmNjde6kycnJ2L17t8b2mTNnqj7o9VVYWIgdO3bg3r17ej1/7ty5akt6erpa+8cff4xhw4Zp7H/z5k24urqiZ8+emDZtGkxNTREaGoqxY8eiZ8+eMDExafRA9ChXV1fVN72n9fnnn8POzg5jxoyBm5sbZsyYARcXFyQnJ2PFihVwdnbGhx9+qLF/RUUFoqOjVcVtSEiI2re5n3/+Wa24aczs2bNhZWWFr7/+Gjk5OSguLkZxcTFycnLw9ddfw9raWuuQOgD06dMH8+fP19iua7v08fFpUFAC/ytIXFxcdB74PTw81OYh7d69WzVCBADHjh3T+SEKADdu3EDv3r3Rt29f3Lp164mLkf79+2Pw4MGwsrJqUOQdO3ZM6ynMCxcuwMbGBjExMZg/fz7Mzc0xYsQILFiwADExMRCLxVizZo3WHIRCodYiWS6XNzgt+ahJkybB3d0dX3zxBYKCgjBy5Eh4eHggLS0N6enp8PHxwfvvv681h5EjR6JXr164ePEi8vPzMXToULXTS5mZmVpPo9bU1GDChAkwMTGBUCiERCKBRCKBUCiEiYkJYmNjUVNTo7H/ypUrtc7vKS4uVptr1ZgpU6ZonJdSXl4OmUymc5scP348Vq1apbF94cKF6N+/v9YYzDD+MsXI0zp8+LDaqMTj7t27p3V4k/3P3bt3MX36dHh5eUEikcDExARSqRTvvPMOTp482SI5PHjwAAsWLMAbb7yBxMREKJVKbNq0Cc7OzrCxscGoUaP0KtCqq6sb/RWKvpKSkuDg4KB2rl0gEMDBwUHrN8x6qamp2LBhg8b2srIyrF27VmP7p59+qnFeyv379xEZGamzSJ47d67WX0HNmjULb775ptYY9ZRKJRITE9G+fXuIRCK9i5FRo0apLY+Pdn7yySeIiIjQGiMvLw/Dhg2DhYWFavTU2NgYISEh2L59u84cdI3Y6XLv3j2MHTsW3t7eGDduHBQKBb766iuYmJhAIBAgLCxMZ/ySkhK8+uqrqu1JKpWqzQHZunUr/vnPf+rMRS6XIyMjAxs3bsTGjRuRkZHR6Nym5lBWVtZgZOtR5eXlz3yszc/PV/s1I2s9XujrjDDW2l29elXtmg5ubm4t8rp1dXVUVVVFbdu21dh+8+ZNkkqlT/0aVVVVJBKJSCwW690nOzubsrKyKCYmhqysrJ76tetVVlaSSCQiiUSi87kA6I8//iClUkm2trZkbGz8zK//LGpqauj+/ftkYWGhd5/c3FxSKBTk4eFBRkYv/DUt2QuELwfPmAG5ublRcHAwBQcHqwqRwsJCev/9958prq4YRkZGGgsRoocXdps3b94z5XDnzh2KjY19oj7+/v40depUsrKyapL3oaysjCZOnKjXcwUCAbVr144cHBxUhUhL/F9oIpFIyMLC4on6u7u7k7e3d4NCRJ8Y1dXVlJWVRRcuXGjQVlNTQ+vXr2/W/q0pBjMAA4/MMMYeo88Fopo7Bufw18qhsYsz3rx5U9Wu69dVTXFxx9YSgxkGj+Mx1sJ+/PFHre35+fnNHoNz4BweNX36dPL29qZTp07Rn3/+SfHx8RQaGkqZmZk6L7+uqX/37t317t+aYjDD4DkjjLUwoVBIAoFA612TBQIBPXjwoNlicA6cw6PatWtH+/fvJx8fHyJ6OH9m4sSJ9NNPP9HBgwfJzMyMHB0dm61/a4rBDIPnjDDWwhwcHCg1NZWUSmWjy2+//dbsMTgHzuFR1dXVavNMBAIBJScn08CBA6lXr1505cqVZu3fmmIww+BihLEW5u/vT9nZ2RrbdX3DbYoYnAPn8CgPDw86depUg78vW7aMoqKiKDIyUuvrP2v/1hSDGUhLTU5hjD3UFNeuedYYnAPn8KhnvThjU1zcsbXEYIbBc0YYY4wxZlB8moYxxhhjBsXFCGOMMcYMiosRxhhjjBkUFyOMMcYYMyguRhh7Dq1bt45MTEzo7t27Gp9TUFBAW7ZseerXKCgooICAgKfuzxhj+uJihLHnUEpKCgUGBtL27ds1PudZixHGGGspXIww9pwpKyujK1eu0JdffkkpKSlERFRcXEyRkZHUtWtX6tatG+Xm5tJnn31G+/fvJz8/P/r3v/9Na9eupY8//lgVJyAggAoKCoiI6I033iB/f3/y9vam77//3hCrxRj7C+Mb5TH2nElNTaWoqCgKCQmh3Nxcun37NsXFxdHAgQNp7NixpFAoqK6ujhYsWEDLli2jbdu2ERHR2rVrNcZcv349WVtbU2VlJQUGBtLbb7/dQmvDGGM8MsLYcyclJYWio6NJIBDQ4MGD6YcffqAjR47QBx98QEREYrGYzMzMnijmN998Q127dqWQkBC6fv06Xb9+vTlSZ4yxRvHICGPPkT/++IOysrJo6NChRERUW1tLHh4eevU1MjIipVKpeqxQKIiI6ODBg3T06FE6fvw4SSQSCggIIIVCQcbGxk2/Aowx1ggeGWHsOfLDDz/QhAkTqKCggAoKCqioqIgKCgrIx8eHVq9eTUQPC5TKykqysLCgiooKVV+pVEo5OTlERHThwgW6fPkyERGVl5eTjY0NSSQSOnPmjOo5jDHWUrgYYew5kpKSQoMGDVL728CBA6lHjx60Y8cO8vX1peDgYCoqKiJfX1+6f/++agJraGgo2drakqenJyUmJpKnpycREfXt25cqKirIy8uLFixYQP7+/gZYM8bYXxnfKI8xxhhjBsUjI4wxxhgzKC5GGGOMMWZQXIwwxhhjzKC4GGGMMcaYQXExwhhjjDGD4mKEMcYYYwbFxQhjjDHGDIqLEcYYY4wZFBcjjDHGGDMoLkYYY4wxZlD/D/A+gWL5dj0nAAAAAElFTkSuQmCC",
      "text/plain": [
       "<Figure size 640x480 with 2 Axes>"
      ]
     },
     "metadata": {},
     "output_type": "display_data"
    },
    {
     "name": "stdout",
     "output_type": "stream",
     "text": [
      "['A_PARTLYSUBMITTED' 'W_Completeren aanvraag' 'A_ACCEPTED' 'O_SELECTED'\n",
      " 'O_SENT' 'W_Nabellen offertes' 'O_SENT_BACK' 'O_ACCEPTED' 'A_APPROVED'\n",
      " 'W_Valideren aanvraag' 'A_FINALIZED' 'O_CANCELLED' 'O_CREATED' 'None'\n",
      " 'A_CANCELLED' 'W_Afhandelen leads' 'W_Nabellen incomplete dossiers'\n",
      " 'A_REGISTERED' 'A_DECLINED' 'A_ACTIVATED' 'O_DECLINED'\n",
      " 'W_Beoordelen fraude' 'A_SUBMITTED' 'A_PREACCEPTED'\n",
      " 'W_Wijzigen contractgegevens']\n",
      "22414\n",
      "A_PARTLYSUBMITTED\n",
      "22414\n",
      "W_Completeren aanvraag\n",
      "22414\n",
      "A_ACCEPTED\n",
      "22414\n",
      "O_SELECTED\n",
      "22414\n",
      "O_SENT\n",
      "22414\n",
      "W_Nabellen offertes\n",
      "22414\n",
      "O_SENT_BACK\n",
      "22414\n",
      "O_ACCEPTED\n",
      "22414\n",
      "A_APPROVED\n",
      "22414\n",
      "W_Valideren aanvraag\n",
      "22414\n",
      "A_FINALIZED\n",
      "22414\n",
      "O_CANCELLED\n",
      "22414\n",
      "O_CREATED\n",
      "22414\n",
      "None\n",
      "22414\n",
      "A_CANCELLED\n",
      "22414\n",
      "W_Afhandelen leads\n",
      "22414\n",
      "W_Nabellen incomplete dossiers\n",
      "22414\n",
      "A_REGISTERED\n",
      "22414\n",
      "A_DECLINED\n",
      "22414\n",
      "A_ACTIVATED\n",
      "22414\n",
      "O_DECLINED\n",
      "22414\n",
      "W_Beoordelen fraude\n",
      "22414\n",
      "A_SUBMITTED\n",
      "22414\n",
      "A_PREACCEPTED\n",
      "22414\n",
      "W_Wijzigen contractgegevens\n",
      "22414\n"
     ]
    },
    {
     "data": {
      "image/png": "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",
      "text/plain": [
       "<Figure size 640x480 with 2 Axes>"
      ]
     },
     "metadata": {},
     "output_type": "display_data"
    }
   ],
   "source": [
<<<<<<< HEAD
    "naive_estimators()\n",
    "mode_estimators()\n",
    "write_aggregation()\n",
    "regression_estimator()\n",
    "decision_tree_estimator()\n",
    "# error_model('db/S3_Regression_Estimator.csv', 'S_3_activities', 'S_3_time')\n",
    "# error_model('db/S2_Aggregation_Estimator.csv', 'S_2_Activity', 'S_2_Time')\n",
=======
    "# naive_estimators()\n",
    "# mode_estimators()\n",
    "# write_aggregation()\n",
    "# regression_estimator()\n",
    "# decision_tree_estimator()\n",
    "error_model('db/S3_Regression_Estimator.csv', 'S_3_activities', 'S_3_time')\n",
    "error_model('db/S2_Aggregation_Estimator.csv', 'S_2_Activity', 'S_2_Time')\n",
>>>>>>> c54ff7a40f194a3d21bffaca13855aa91c049375
    "\n"
   ]
  }
 ],
 "metadata": {
  "kernelspec": {
   "display_name": "Python 3",
   "language": "python",
   "name": "python3"
  },
  "language_info": {
   "codemirror_mode": {
    "name": "ipython",
    "version": 3
   },
   "file_extension": ".py",
   "mimetype": "text/x-python",
   "name": "python",
   "nbconvert_exporter": "python",
   "pygments_lexer": "ipython3",
   "version": "3.10.10"
  },
  "vscode": {
   "interpreter": {
    "hash": "6c57489fe19794b56e8aa35d040b5ad0fe5f8282e54818702f4c4eecc6496688"
   }
  }
 },
 "nbformat": 4,
 "nbformat_minor": 2
}
