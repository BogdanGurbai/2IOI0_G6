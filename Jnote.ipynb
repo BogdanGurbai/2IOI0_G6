{
 "cells": [
  {
   "attachments": {},
   "cell_type": "markdown",
   "metadata": {},
   "source": [
    "### import CSV & query basic infomation\n",
    "Include #event, #cases, the start activities and the end activities"
   ]
  },
  {
   "cell_type": "code",
   "execution_count": 19,
   "metadata": {},
   "outputs": [
    {
     "name": "stderr",
     "output_type": "stream",
     "text": [
      "C:\\Users\\linyu\\AppData\\Local\\Temp\\ipykernel_4124\\352961896.py:7: DeprecatedWarning: format_dataframe is deprecated as of 2.3.0 and will be removed in 3.0.0. the format_dataframe function does not need application anymore.\n",
      "  event_log = pm.format_dataframe(\n"
     ]
    },
    {
     "name": "stdout",
     "output_type": "stream",
     "text": [
      "Number of events: 239786\n",
      "Number of cases: 12478\n",
      "=======================================================\n",
      "Start activities: {'A_SUBMITTED': 10097, 'W_Nabellen offertes': 1484, 'W_Completeren aanvraag': 391, 'W_Valideren aanvraag': 299, 'W_Nabellen incomplete dossiers': 124, 'W_Afhandelen leads': 65, 'O_CANCELLED': 9, 'W_Beoordelen fraude': 6, 'A_CANCELLED': 3}\n",
      "End activities: {'A_DECLINED': 3429, 'W_Completeren aanvraag': 2428, 'W_Afhandelen leads': 2269, 'W_Nabellen offertes': 2033, 'W_Valideren aanvraag': 1417, 'W_Nabellen incomplete dossiers': 399, 'A_CANCELLED': 324, 'O_CANCELLED': 117, 'W_Beoordelen fraude': 59, 'W_Wijzigen contractgegevens': 3}\n",
      "=======================================================\n",
      "events: \n",
      "['A_SUBMITTED' 'A_PARTLYSUBMITTED' 'A_PREACCEPTED'\n",
      " 'W_Completeren aanvraag' 'A_ACCEPTED' 'A_FINALIZED' 'O_SELECTED'\n",
      " 'O_CREATED' 'O_SENT' 'W_Nabellen offertes' 'O_SENT_BACK'\n",
      " 'W_Valideren aanvraag' 'O_ACCEPTED' 'A_REGISTERED' 'A_APPROVED'\n",
      " 'A_ACTIVATED' 'O_CANCELLED' 'W_Wijzigen contractgegevens' 'A_DECLINED'\n",
      " 'A_CANCELLED' 'W_Afhandelen leads' 'O_DECLINED'\n",
      " 'W_Nabellen incomplete dossiers' 'W_Beoordelen fraude']\n"
     ]
    }
   ],
   "source": [
    "import pandas as pd\n",
    "import pm4py as pm\n",
    "\n",
    "training_file_path = '12689204\\BPI_Challenge_2012.XE\\BPI_Challenge_2012.XE-training.csv'\n",
    "\n",
    "event_log = pd.read_csv(training_file_path, sep=',')\n",
    "event_log = pm.format_dataframe(\n",
    "    event_log, \n",
    "    case_id='case concept:name', \n",
    "    activity_key='event concept:name', \n",
    "    timestamp_key='event time:timestamp'\n",
    ")\n",
    "num_events = len(event_log)\n",
    "num_cases = len(event_log['case concept:name'].unique())\n",
    "print(\"Number of events: {}\\nNumber of cases: {}\".format(num_events, num_cases))\n",
    "print('=======================================================')\n",
    "\n",
    "start_activities = pm.get_start_activities(event_log)\n",
    "end_activities = pm.get_end_activities(event_log)\n",
    "print(\"Start activities: {}\\nEnd activities: {}\".format(start_activities, end_activities))\n",
    "print('=======================================================')\n",
    "\n",
    "print('events: ')\n",
    "print(event_log['event concept:name'].unique())\n"
   ]
  }
 ],
 "metadata": {
  "kernelspec": {
   "display_name": "Python 3",
   "language": "python",
   "name": "python3"
  },
  "language_info": {
   "codemirror_mode": {
    "name": "ipython",
    "version": 3
   },
   "file_extension": ".py",
   "mimetype": "text/x-python",
   "name": "python",
   "nbconvert_exporter": "python",
   "pygments_lexer": "ipython3",
   "version": "3.10.10"
  },
  "orig_nbformat": 4,
  "vscode": {
   "interpreter": {
    "hash": "8b70c613820eb82f44088773ffc2add453462ad8308f78b60a549bce82e221db"
   }
  }
 },
 "nbformat": 4,
 "nbformat_minor": 2
}
