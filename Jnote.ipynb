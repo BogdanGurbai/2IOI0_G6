{
 "cells": [
  {
   "attachments": {},
   "cell_type": "markdown",
   "metadata": {},
   "source": [
    "### import CSV & query basic infomation\n",
    "Include #event, #cases, the start activities and the end activities"
   ]
  },
  {
   "cell_type": "code",
   "execution_count": 3,
   "metadata": {},
   "outputs": [
    {
     "name": "stderr",
     "output_type": "stream",
     "text": [
      "C:\\Users\\Yu-Hsuan Lin\\AppData\\Local\\Temp\\ipykernel_15664\\352961896.py:7: DeprecatedWarning: format_dataframe is deprecated as of 2.3.0 and will be removed in 3.0.0. the format_dataframe function does not need application anymore.\n",
      "  event_log = pm.format_dataframe(\n"
     ]
    },
    {
     "name": "stdout",
     "output_type": "stream",
     "text": [
      "Number of events: 239786\n",
      "Number of cases: 12478\n",
      "=======================================================\n",
      "Start activities: {'A_SUBMITTED': 10097, 'W_Nabellen offertes': 1484, 'W_Completeren aanvraag': 391, 'W_Valideren aanvraag': 299, 'W_Nabellen incomplete dossiers': 124, 'W_Afhandelen leads': 65, 'O_CANCELLED': 9, 'W_Beoordelen fraude': 6, 'A_CANCELLED': 3}\n",
      "End activities: {'A_DECLINED': 3429, 'W_Completeren aanvraag': 2428, 'W_Afhandelen leads': 2269, 'W_Nabellen offertes': 2033, 'W_Valideren aanvraag': 1417, 'W_Nabellen incomplete dossiers': 399, 'A_CANCELLED': 324, 'O_CANCELLED': 117, 'W_Beoordelen fraude': 59, 'W_Wijzigen contractgegevens': 3}\n",
      "=======================================================\n",
      "events: \n",
      "['A_SUBMITTED' 'A_PARTLYSUBMITTED' 'A_PREACCEPTED'\n",
      " 'W_Completeren aanvraag' 'A_ACCEPTED' 'A_FINALIZED' 'O_SELECTED'\n",
      " 'O_CREATED' 'O_SENT' 'W_Nabellen offertes' 'O_SENT_BACK'\n",
      " 'W_Valideren aanvraag' 'O_ACCEPTED' 'A_REGISTERED' 'A_APPROVED'\n",
      " 'A_ACTIVATED' 'O_CANCELLED' 'W_Wijzigen contractgegevens' 'A_DECLINED'\n",
      " 'A_CANCELLED' 'W_Afhandelen leads' 'O_DECLINED'\n",
      " 'W_Nabellen incomplete dossiers' 'W_Beoordelen fraude']\n"
     ]
    }
   ],
   "source": [
    "import pandas as pd\n",
    "import pm4py as pm\n",
    "\n",
    "training_file_path = '12689204\\BPI_Challenge_2012.XE\\BPI_Challenge_2012.XE-training.csv'\n",
    "\n",
    "event_log = pd.read_csv(training_file_path, sep=',')\n",
    "event_log = pm.format_dataframe(\n",
    "    event_log, \n",
    "    case_id='case concept:name', \n",
    "    activity_key='event concept:name', \n",
    "    timestamp_key='event time:timestamp'\n",
    ")\n",
    "num_events = len(event_log)\n",
    "num_cases = len(event_log['case concept:name'].unique())\n",
    "print(\"Number of events: {}\\nNumber of cases: {}\".format(num_events, num_cases))\n",
    "print('=======================================================')\n",
    "\n",
    "start_activities = pm.get_start_activities(event_log)\n",
    "end_activities = pm.get_end_activities(event_log)\n",
    "print(\"Start activities: {}\\nEnd activities: {}\".format(start_activities, end_activities))\n",
    "print('=======================================================')\n",
    "\n",
    "print('events: ')\n",
    "print(event_log['event concept:name'].unique())\n"
   ]
  },
  {
   "cell_type": "code",
   "execution_count": 8,
   "metadata": {},
   "outputs": [
    {
     "name": "stdout",
     "output_type": "stream",
     "text": [
      "               eventID  case concept:name                    case REG_DATE  \\\n",
      "0                    0             173688 2011-01-10 00:38:44.546000+00:00   \n",
      "1                    1             173688 2011-01-10 00:38:44.546000+00:00   \n",
      "2                    2             173688 2011-01-10 00:38:44.546000+00:00   \n",
      "3                    3             173688 2011-01-10 00:38:44.546000+00:00   \n",
      "4                    4             173688 2011-01-10 00:38:44.546000+00:00   \n",
      "...                ...                ...                              ...   \n",
      "239781  56203942035460             214376 2012-02-29 23:51:16.799000+00:00   \n",
      "239782  56203942035461             214376 2012-02-29 23:51:16.799000+00:00   \n",
      "239783  56203942035456             214376 2012-02-29 23:51:16.799000+00:00   \n",
      "239784  56203942035457             214376 2012-02-29 23:51:16.799000+00:00   \n",
      "239785  56203942035458             214376 2012-02-29 23:51:16.799000+00:00   \n",
      "\n",
      "        case AMOUNT_REQ  event org:resource      event concept:name  \\\n",
      "0                 20000               112.0             A_SUBMITTED   \n",
      "1                 20000               112.0       A_PARTLYSUBMITTED   \n",
      "2                 20000               112.0           A_PREACCEPTED   \n",
      "3                 20000               112.0  W_Completeren aanvraag   \n",
      "4                 20000                 NaN  W_Completeren aanvraag   \n",
      "...                 ...                 ...                     ...   \n",
      "239781            15000             11169.0              A_DECLINED   \n",
      "239782            15000             11169.0      W_Afhandelen leads   \n",
      "239783            15000               112.0             A_SUBMITTED   \n",
      "239784            15000               112.0       A_PARTLYSUBMITTED   \n",
      "239785            15000               112.0      W_Afhandelen leads   \n",
      "\n",
      "       event lifecycle:transition             event time:timestamp  \\\n",
      "0                        COMPLETE 2011-01-10 00:38:44.546000+00:00   \n",
      "1                        COMPLETE 2011-01-10 00:38:44.880000+00:00   \n",
      "2                        COMPLETE 2011-01-10 00:39:37.906000+00:00   \n",
      "3                        SCHEDULE 2011-01-10 00:39:38.875000+00:00   \n",
      "4                           START 2011-01-10 11:36:46.437000+00:00   \n",
      "...                           ...                              ...   \n",
      "239781                   COMPLETE 2012-01-03 09:27:37.118000+00:00   \n",
      "239782                   COMPLETE 2012-01-03 09:27:41.325000+00:00   \n",
      "239783                   COMPLETE 2012-02-29 23:51:16.799000+00:00   \n",
      "239784                   COMPLETE 2012-02-29 23:51:17.423000+00:00   \n",
      "239785                   SCHEDULE 2012-02-29 23:52:01.287000+00:00   \n",
      "\n",
      "       case:concept:name            concept:name  \\\n",
      "0                 173688             A_SUBMITTED   \n",
      "1                 173688       A_PARTLYSUBMITTED   \n",
      "2                 173688           A_PREACCEPTED   \n",
      "3                 173688  W_Completeren aanvraag   \n",
      "4                 173688  W_Completeren aanvraag   \n",
      "...                  ...                     ...   \n",
      "239781            214376              A_DECLINED   \n",
      "239782            214376      W_Afhandelen leads   \n",
      "239783            214376             A_SUBMITTED   \n",
      "239784            214376       A_PARTLYSUBMITTED   \n",
      "239785            214376      W_Afhandelen leads   \n",
      "\n",
      "                         time:timestamp  @@index  @@case_index  \n",
      "0      2011-01-10 00:38:44.546000+00:00        0             0  \n",
      "1      2011-01-10 00:38:44.880000+00:00        1             0  \n",
      "2      2011-01-10 00:39:37.906000+00:00        2             0  \n",
      "3      2011-01-10 00:39:38.875000+00:00        3             0  \n",
      "4      2011-01-10 11:36:46.437000+00:00        4             0  \n",
      "...                                 ...      ...           ...  \n",
      "239781 2012-01-03 09:27:37.118000+00:00   239781         12477  \n",
      "239782 2012-01-03 09:27:41.325000+00:00   239782         12477  \n",
      "239783 2012-02-29 23:51:16.799000+00:00   239783         12477  \n",
      "239784 2012-02-29 23:51:17.423000+00:00   239784         12477  \n",
      "239785 2012-02-29 23:52:01.287000+00:00   239785         12477  \n",
      "\n",
      "[239786 rows x 13 columns]\n"
     ]
    }
   ],
   "source": [
    "test_time_range_filtered_log = pm.filter_time_range(event_log, \"2011-01-01 00:00:00\", \"2013-01-01 00:00:00\", mode='events')\n",
    "# print(test_time_range_filtered_log)\n",
    "\n"
   ]
  }
 ],
 "metadata": {
  "kernelspec": {
   "display_name": "base",
   "language": "python",
   "name": "python3"
  },
  "language_info": {
   "codemirror_mode": {
    "name": "ipython",
    "version": 3
   },
   "file_extension": ".py",
   "mimetype": "text/x-python",
   "name": "python",
   "nbconvert_exporter": "python",
   "pygments_lexer": "ipython3",
   "version": "3.9.13"
  },
  "orig_nbformat": 4,
  "vscode": {
   "interpreter": {
    "hash": "ad2bdc8ecc057115af97d19610ffacc2b4e99fae6737bb82f5d7fb13d2f2c186"
   }
  }
 },
 "nbformat": 4,
 "nbformat_minor": 2
}
