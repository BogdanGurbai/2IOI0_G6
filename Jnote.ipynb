{
 "cells": [
  {
   "cell_type": "markdown",
   "metadata": {},
   "source": [
    "# Import"
   ]
  },
  {
   "cell_type": "code",
   "execution_count": 716,
   "metadata": {},
   "outputs": [],
   "source": [
    "# %pip install holidays\n",
    "import pandas as pd\n",
    "import pm4py as pm\n",
    "import numpy as np\n",
    "import psutil as pu\n",
    "\n",
    "import matplotlib.pyplot as plt\n",
    "import seaborn as sns\n",
    "\n",
    "import datetime\n",
    "import holidays\n",
    "\n",
    "from sklearn.preprocessing import MinMaxScaler\n",
    "from sklearn.linear_model import LinearRegression\n",
    "from sklearn.linear_model import LogisticRegression\n",
    "from sklearn.model_selection import train_test_split\n",
    "from sklearn.metrics import mean_squared_error  \n",
    "\n",
    "from sklearn import tree\n",
    "from sklearn.tree import DecisionTreeClassifier, export_graphviz\n",
    "from sklearn.ensemble import RandomForestClassifier\n",
    "from sklearn.metrics import accuracy_score, confusion_matrix, r2_score\n",
    "\n",
    "\n",
    "from collections import defaultdict\n",
    "\n",
    "from scipy import stats\n",
    "\n",
    "training_file_path = 'db/BPI_Challenge_2012.XE-training.csv'\n",
    "testing_file_path = 'db/BPI_Challenge_2012.XE-test.csv'\n",
    "nl_holidays = holidays.country_holidays('NL')\n",
    "holidays_keys = nl_holidays.keys()\n",
    "holiday_list = [i for i in nl_holidays.keys()]"
   ]
  },
  {
   "cell_type": "markdown",
   "metadata": {},
   "source": [
    "# load CSV with pandas and pm4py\n",
    "\n",
    "pm4py gives two extra columns: @@index and @@case_index"
   ]
  },
  {
   "cell_type": "code",
   "execution_count": 717,
   "metadata": {},
   "outputs": [],
   "source": [
    "def format_event_log(path):\n",
    "    event_log = pd.read_csv(path, sep=',')\n",
    "    event_log = pm.format_dataframe(\n",
    "        event_log, \n",
    "        case_id='case concept:name', \n",
    "        activity_key='event concept:name', \n",
    "        timestamp_key='event time:timestamp'\n",
    "    )\n",
    "    event_log = event_log.drop(\"case:concept:name\", axis = 1)\n",
    "    event_log = event_log.drop(\"concept:name\", axis = 1)\n",
    "    event_log = event_log.drop(\"time:timestamp\", axis = 1)\n",
    "    return event_log\n",
    "#event_log"
   ]
  },
  {
   "cell_type": "markdown",
   "metadata": {},
   "source": [
    "# Helper methods"
   ]
  },
  {
   "cell_type": "markdown",
   "metadata": {},
   "source": [
    "## Genernal"
   ]
  },
  {
   "cell_type": "markdown",
   "metadata": {},
   "source": [
    "Function that finds the length of the longest trace in a list of traces"
   ]
  },
  {
   "cell_type": "code",
   "execution_count": 718,
   "metadata": {},
   "outputs": [],
   "source": [
    "def find_longest_trace(traces):\n",
    "    max = 0\n",
    "    for trace in traces:\n",
    "        if trace.shape[0] > max:\n",
    "            max = trace.shape[0]\n",
    "    return max\n",
    "\n",
    "def get_all_Activities():\n",
    "    df = format_event_log(training_file_path)\n",
    "    arr = df['event concept:name'].unique()\n",
    "    return arr"
   ]
  },
  {
   "cell_type": "markdown",
   "metadata": {},
   "source": [
    "## Sprint 1"
   ]
  },
  {
   "cell_type": "markdown",
   "metadata": {},
   "source": [
    "Function that adds the Ground truth columns for event and time of the event\n",
    "- Every value in the ground truth columns is the actual next event or time of the next evet in the data set\n",
    "- Used for naive simulator\n",
    "- Used for verification purposes"
   ]
  },
  {
   "cell_type": "code",
   "execution_count": 719,
   "metadata": {},
   "outputs": [],
   "source": [
    "# assume sorted by caseID and time\n",
    "def caseHasNextEvent(df, index):\n",
    "    if index >= len(df) - 1:\n",
    "        return False\n",
    "    if df.loc[index, 'case concept:name'] == df.loc[index+1, 'case concept:name']:\n",
    "        return True\n",
    "    return False\n",
    "\n",
    "\n",
    "def computeTimeDifference(df):\n",
    "    # df['time_until_next_event'] = 0  # initialize new column with zeros\n",
    "    df = df.assign(ground_truth_time=0) # initialize new column\n",
    "\n",
    "    # iterate over each row of the dataframe\n",
    "    for i, row in df.iterrows():        \n",
    "        # check if there is a next row with the same case\n",
    "        if caseHasNextEvent(df, i):\n",
    "            nextTime = df.loc[i+1, 'event time:timestamp']\n",
    "            currentTime = row['event time:timestamp']\n",
    "            timeDiff = nextTime - currentTime\n",
    "            df.at[i, 'ground_truth_time'] = timeDiff.total_seconds()\n",
    "    \n",
    "    return df\n",
    "\n"
   ]
  },
  {
   "cell_type": "code",
   "execution_count": 720,
   "metadata": {},
   "outputs": [],
   "source": [
    "\n",
    "def writeGroundtruth(df):\n",
    "    df = df.sort_values(by=['case concept:name','event time:timestamp'])\n",
    "    #add new columns containing the name of the next event in the case and the time when it happens\n",
    "    df = df.assign(ground_truth_activity='')\n",
    "    df = df.assign(ground_truth_time='')\n",
    "\n",
    "    for ind in df.index:\n",
    "        if caseHasNextEvent(df, ind):\n",
    "            df.at[ind,'ground_truth_activity'] = df.loc[ind+1,'event concept:name']\n",
    "            #df.at[ind,'ground_truth_time'] = df.loc[ind+1, 'event time:timestamp']\n",
    "        else:\n",
    "            df.at[ind,'ground_truth_activity'] = None\n",
    "            #df.at[ind,'ground_truth_time'] = None\n",
    "    df = computeTimeDifference(df)\n",
    "    return df\n",
    "\n",
    "#df_event = writeGroundtruth(event_log)\n",
    "#df_event.to_csv('check_writeGroundtruth_out.csv')"
   ]
  },
  {
   "cell_type": "markdown",
   "metadata": {},
   "source": [
    "## Sprint 2"
   ]
  },
  {
   "cell_type": "markdown",
   "metadata": {},
   "source": [
    "Function that splits the data set into separate traces\n",
    "- Parameter $traces$ is a list containing all the individual traces\n",
    "- Each trace in traces is a list containing all the events in the trace in the order that they happen\n",
    "- Helper method for prefix extraction"
   ]
  },
  {
   "cell_type": "code",
   "execution_count": 721,
   "metadata": {},
   "outputs": [],
   "source": [
    "def split_into_traces(event_log):\n",
    "    traces = []\n",
    "    last_location = 0\n",
    "    for j in range (0, event_log.shape[0] - 1):\n",
    "        if not event_log[\"case concept:name\"][j] == event_log[\"case concept:name\"][j + 1]:\n",
    "            traces.append(event_log.loc[last_location : j].reset_index())\n",
    "            last_location = j + 1\n",
    "    traces.append(event_log.loc[last_location : event_log.shape[0] - 1].reset_index())\n",
    "    return traces"
   ]
  },
  {
   "cell_type": "markdown",
   "metadata": {},
   "source": [
    "Function that deletes traces from an event log that do not end before a specified time"
   ]
  },
  {
   "cell_type": "code",
   "execution_count": 722,
   "metadata": {},
   "outputs": [],
   "source": [
    "def delete_overlapping_traces(event_log, end_time):\n",
    "    traces = split_into_traces(event_log)\n",
    "    del_tr = []\n",
    "    for j in range(len(traces)):\n",
    "        for k in traces[j].index:\n",
    "            trace_ts = traces[j][\"event time:timestamp\"][k]\n",
    "        if trace_ts > end_time:\n",
    "            del_tr.append(traces[j][\"case concept:name\"][0])\n",
    "    \n",
    "    for j in range(len(del_tr)):\n",
    "        event_log = event_log[event_log[\"case concept:name\"] != del_tr[j]]\n",
    "    event_log.to_csv(\"db/S2_Remove_Overlap.csv\")\n",
    "    return event_log.reset_index(drop=True)"
   ]
  },
  {
   "cell_type": "markdown",
   "metadata": {},
   "source": [
    "Prefix extraction\n",
    "- extract event lists of odd length like 1, 3, 5, 7, 9, 11, 13, 15 from the traces for prediction\n",
    "- and the ground truth\n",
    "- store them in a list of prefixes"
   ]
  },
  {
   "cell_type": "code",
   "execution_count": 723,
   "metadata": {},
   "outputs": [],
   "source": [
    "def prefix_extraction(traces, prefix_lengths):\n",
    "    prefixes = []\n",
    "    for trace in traces:\n",
    "        for length in prefix_lengths:\n",
    "            if trace.shape[0] >= length:\n",
    "                prefixes.append(trace.loc[:length - 1])\n",
    "    return prefixes"
   ]
  },
  {
   "cell_type": "markdown",
   "metadata": {},
   "source": [
    "Regression helper methods"
   ]
  },
  {
   "cell_type": "code",
   "execution_count": 724,
   "metadata": {},
   "outputs": [],
   "source": [
    "# dict_independent_variable should have index as activities\n",
    "# and with a value of a discrete number.\n",
    "def process_X_Y(df, str_DV_col, dict_independent_variable):\n",
    "    independent_Variable = get_all_Activities()\n",
    "    independent_Variable = np.append(['hollidays', 'last_event'], independent_Variable)\n",
    "    dependent_Variable = str_DV_col\n",
    "\n",
    "    \n",
    "    X = df[independent_Variable]\n",
    "    if str_DV_col == \"ground_truth_activity\":\n",
    "        Y = df[dependent_Variable].replace(dict_independent_variable)\n",
    "    elif str_DV_col == \"ground_truth_time\":\n",
    "        Y = df[dependent_Variable]\n",
    "\n",
    "    return X, Y\n",
    "\n",
    "def get_Regression_model_and_scaler(X, Y, type):\n",
    "\n",
    "    scaler = MinMaxScaler()\n",
    "    X = scaler.fit_transform(X)\n",
    "    if type == \"Logistic\":\n",
    "        model = LogisticRegression()\n",
    "        Y = Y.fillna(0.0)\n",
    "    elif type == \"Linear\":\n",
    "        model = LinearRegression()\n",
    "        Y = Y.fillna(0.0)\n",
    "\n",
    "\n",
    "    print(Y)\n",
    "    model.fit(X, Y)\n",
    "    \n",
    "    intercept = model.intercept_\n",
    "\n",
    "    return model, scaler\n"
   ]
  },
  {
   "cell_type": "markdown",
   "metadata": {},
   "source": [
    "## Sprint 3"
   ]
  },
  {
   "cell_type": "markdown",
   "metadata": {},
   "source": [
    "isHolliday helper method"
   ]
  },
  {
   "cell_type": "code",
   "execution_count": 725,
   "metadata": {},
   "outputs": [],
   "source": [
    "def isHoliday(timestamp):\n",
    "    if timestamp.weekday() in [5, 6] or timestamp.date() in holiday_list:\n",
    "        return 1\n",
    "    else: return 0"
   ]
  },
  {
   "cell_type": "code",
   "execution_count": 726,
   "metadata": {},
   "outputs": [],
   "source": [
    "def get_IV_dict():\n",
    "    IV_list = get_all_Activities().tolist()\n",
    "    return {\n",
    "        a: IV_list.index(a) for a in IV_list\n",
    "    }\n",
    "\n",
    "def get_IV_dict_invert():\n",
    "    IV_dict = get_IV_dict()\n",
    "    return {v: k for k, v in IV_dict.items()}\n"
   ]
  },
  {
   "cell_type": "code",
   "execution_count": 727,
   "metadata": {},
   "outputs": [],
   "source": [
    "def get_Decision_tree_model_and_scaler(X, Y):\n",
    "    scaler = MinMaxScaler()\n",
    "    X = scaler.fit_transform(X)\n",
    "\n",
    "    model = DecisionTreeClassifier(criterion='entropy', max_depth=10, random_state=1)\n",
    "    # model = RandomForestClassifier(n_estimators=50, criterion='entropy')\n",
    "    Y = Y.fillna(0.0)\n",
    "\n",
    "    # print(Y)\n",
    "    model.fit(X, Y)\n",
    "    \n",
    "    return model, scaler"
   ]
  },
  {
   "cell_type": "code",
   "execution_count": 728,
   "metadata": {},
   "outputs": [],
   "source": [
    "def delete_outliers(event_log):\n",
    "    traces = split_into_traces(event_log)\n",
    "    del_trace = []\n",
    "    trace_len = []\n",
    "    for j in range(1, len(traces)):\n",
    "        trace_len.append(traces[j].size)\n",
    "\n",
    "    df_len = pd.DataFrame(trace_len)\n",
    "    df_len = df_len[(np.abs(stats.zscore(df_len[0])) > 3)]\n",
    "\n",
    "    for ind in df_len.index:\n",
    "        del_trace.append(traces[ind][\"case concept:name\"][0])\n",
    "\n",
    "    for j in range(len(del_trace)):\n",
    "        event_log = event_log[event_log[\"case concept:name\"] != del_trace[j]]\n",
    "    event_log.to_csv(\"db/S2_Remove_Overlap.csv\")\n",
    "    return event_log.reset_index(drop=True)"
   ]
  },
  {
   "cell_type": "markdown",
   "metadata": {},
   "source": [
    "## Aggregation functions"
   ]
  },
  {
   "cell_type": "markdown",
   "metadata": {},
   "source": [
    "Aggregation encoding\n",
    "\n",
    "- encode traces into numerical data for prediction\n",
    "- adds the ground truth at the end of the encoded prefix"
   ]
  },
  {
   "cell_type": "code",
   "execution_count": 729,
   "metadata": {},
   "outputs": [],
   "source": [
    "def create_dict(events):\n",
    "\n",
    "    events_dict = {'ground_truth_activity' : 'truth', 'ground_truth_time' : 'truth'}\n",
    "    for event in events:\n",
    "        events_dict[event] = 0\n",
    "    events_dict['hollidays'] = 0\n",
    "    events_dict['last_event'] = 0\n",
    "    return events_dict\n",
    "\n",
    "def aggregation_encoding(prefixes, event_log):\n",
    "    events = get_all_Activities()\n",
    "    event_dict = create_dict(events)\n",
    "    last_event_dict = get_IV_dict()\n",
    "    aggregation_encoding = pd.DataFrame(event_dict, index=[0])\n",
    "    aggregation_encoding = aggregation_encoding.drop(0)\n",
    "    #new_encoding = ['truth', 0, 0, 0, 0, 0, 0, 0, 0, 0, 0, 0, 0, 0, 0, 0, 0, 0, 0, 0, 0, 0, 0, 0, 0]\n",
    "    index = 0\n",
    "    for prefix in prefixes:\n",
    "        current_dict = create_dict(events)\n",
    "        current_dict['ground_truth_activity'] = prefix['ground_truth_activity'][len(prefix.index) - 1]\n",
    "        current_dict['ground_truth_time'] = prefix['ground_truth_time'][len(prefix.index) - 1]\n",
    "        current_dict['last_event'] = last_event_dict[prefix[\"event concept:name\"][len(prefix.index) - 1]]\n",
    "        for j in range (prefix.shape[0]):\n",
    "            if isHoliday(prefix[\"event time:timestamp\"][j]):\n",
    "                current_dict['hollidays'] = current_dict['hollidays'] + 1\n",
    "            current_dict[prefix[\"event concept:name\"][j]] = current_dict[prefix[\"event concept:name\"][j]] + 1\n",
    "        aggregation_encoding.loc[index] = current_dict.values()\n",
    "        index += 1\n",
    "    return aggregation_encoding"
   ]
  },
  {
   "cell_type": "code",
   "execution_count": 730,
   "metadata": {},
   "outputs": [],
   "source": [
    "def get_aggregation_encoding(path, type):\n",
    "    event_log = format_event_log(path)\n",
    "    if type == \"train\":\n",
    "        time_split = pd.to_datetime(\"02-01-2012 15:28:39.244\",format=\"%d-%m-%Y %H:%M:%S.%f\")\n",
    "        event_log = delete_overlapping_traces(event_log, pd.Timestamp(time_split, tz='GMT+0'))\n",
    "        event_log = delete_outliers(event_log)\n",
    "        event_log = format_event_log(\"db/S2_Remove_Overlap.csv\")\n",
    "        print(\"done remove\")\n",
    "    traces = split_into_traces(event_log)\n",
    "    print(\"done traces\")\n",
    "    prefix_lengths = []\n",
    "    if type == \"train\":\n",
    "        prefix_lengths = [1, 3, 5, 7, 9, 11, 13, 15, 17, 19, 21, 23, 25, 27, 29]\n",
    "    if type == \"test\":\n",
    "        prefix_lengths = [x for x in range(1, find_longest_trace(traces) + 1)]\n",
    "    prefixes = prefix_extraction(traces, prefix_lengths)\n",
    "    print(\"done prefixes\")\n",
    "    aggregation = aggregation_encoding(prefixes, event_log)\n",
    "    if type == \"train\":\n",
    "        aggregation.to_csv(\"db/aggregation_encoding_train.csv\")\n",
    "    if type == \"test\":\n",
    "        aggregation.to_csv(\"db/aggregation_encoding_test.csv\")\n",
    "    return aggregation\n",
    "     "
   ]
  },
  {
   "cell_type": "code",
   "execution_count": 731,
   "metadata": {},
   "outputs": [],
   "source": [
    "\n",
    "# df = pd.read_csv(\"db/S2_Aggregation_Estimator.csv\")\n",
    "# df[df['ground_truth_activity'].map(type) != str]\n",
    "\n",
    "def write_aggregation():\n",
    "    train_file_path = 'db/S1_GroundTruth.csv'\n",
    "    test_file_path = 'db/S2_Aggregation_Estimator.csv'\n",
    "    train_aggregation = get_aggregation_encoding(train_file_path, \"train\")\n",
    "    test_aggregation = get_aggregation_encoding(test_file_path, \"test\")"
   ]
  },
  {
   "cell_type": "markdown",
   "metadata": {},
   "source": [
    "# Naive Estimator (S1)\n",
    "- used indiations on canvas"
   ]
  },
  {
   "cell_type": "code",
   "execution_count": 732,
   "metadata": {},
   "outputs": [],
   "source": [
    "def naive_estimators():\n",
    "    df_train = format_event_log(training_file_path)\n",
    "    df_train = writeGroundtruth(df_train)\n",
    "\n",
    "    df_test = format_event_log(testing_file_path)\n",
    "    df_test = writeGroundtruth(df_test)\n",
    "\n",
    "    traces = split_into_traces(df_train)\n",
    "    N = find_longest_trace(traces)\n",
    "    \n",
    "    common_activities = []\n",
    "    common_times = []\n",
    "    for i in range (0, N):\n",
    "        activity_at_position_i = defaultdict(int)\n",
    "        for trace in traces:\n",
    "            if (i < trace.shape[0]):\n",
    "                activity_at_position_i[trace[\"event concept:name\"][i]] += 1\n",
    "    \n",
    "        common_activities.append(max(activity_at_position_i.keys()))\n",
    "\n",
    "        time_at_position_i = defaultdict(int)\n",
    "        for trace in traces:\n",
    "            if (i < trace.shape[0]):\n",
    "                time_at_position_i[trace[\"ground_truth_time\"][i]] += 1\n",
    "    \n",
    "        common_times.append(max(time_at_position_i.keys()))\n",
    "\n",
    "    activity_predictions = []\n",
    "    time_predictions = []\n",
    "    index = 0\n",
    "    for j in range (0, df_test.shape[0] - 1):\n",
    "        if df_test[\"case concept:name\"][j] == df_test[\"case concept:name\"][j + 1]:\n",
    "            activity_predictions.append(common_activities[index])\n",
    "            time_predictions.append(common_times[index])\n",
    "            index += 1\n",
    "        else:\n",
    "            activity_predictions.append(common_activities[index])\n",
    "            time_predictions.append(common_times[index])\n",
    "            index = 0\n",
    "    activity_predictions.append(common_activities[index])\n",
    "    time_predictions.append(common_times[index])\n",
    "    df_test[\"S_1_Activity\"] = activity_predictions\n",
    "    df_test[\"S_1_Time\"] = time_predictions\n",
    "    df_train.to_csv(\"db/S1_GroundTruth.csv\")\n",
    "    df_test.to_csv(\"db/S1_Naive_estimator.csv\")\n"
   ]
  },
  {
   "cell_type": "markdown",
   "metadata": {},
   "source": [
    "# Mode Estimator (S2)\n",
    "1. for each row find next activity of the case and its timestamp\n",
    "2. compute the time it take for the next event to be log in the db\n",
    "3. for each activity find the most common next activity (mode)\n",
    "4. for each activity find the average time between next activity\n",
    "5. Have 3. and 4. in a DataFrame\n",
    "6. base on the current activity write the prediction of the next activity and time it will take"
   ]
  },
  {
   "cell_type": "code",
   "execution_count": 733,
   "metadata": {},
   "outputs": [],
   "source": [
    "def mode_estimators():\n",
    "\n",
    "    s2_train_file_path = \"db/S1_GroundTruth.csv\"\n",
    "    s2_test_file_path = \"db/S1_Naive_estimator.csv\"\n",
    "\n",
    "    df_train = format_event_log(s2_train_file_path)\n",
    "\n",
    "    df_test = format_event_log(s2_test_file_path)\n",
    "\n",
    "\n",
    "    df_naive_predictor_dict = df_train.groupby(['event concept:name']).agg(\n",
    "        S_2_Activity = ('ground_truth_activity', pd.Series.mode),\n",
    "        S_2_Time = ('ground_truth_time', 'mean')\n",
    "    )\n",
    "\n",
    "    df_test = df_test.assign(S_2_Activity='')\n",
    "    df_test = df_test.assign(S_2_Time=0)\n",
    "    for i, r in df_test.iterrows():\n",
    "        this_event = r['event concept:name']\n",
    "        next_event = df_naive_predictor_dict.loc[this_event,'S_2_Activity']\n",
    "        next_event_time = df_naive_predictor_dict.loc[this_event,'S_2_Time']\n",
    "        df_test.at[i,'S_2_Activity'] = next_event\n",
    "        df_test.at[i,'S_2_Time'] = next_event_time\n",
    "    df_test.to_csv('db/S2_Aggregation_Estimator.csv')\n",
    "    \n"
   ]
  },
  {
   "cell_type": "markdown",
   "metadata": {},
   "source": [
    "# Multivalue Regression (S3.1)"
   ]
  },
  {
   "cell_type": "markdown",
   "metadata": {},
   "source": [
    "## Activity Estimator"
   ]
  },
  {
   "cell_type": "code",
   "execution_count": 734,
   "metadata": {},
   "outputs": [],
   "source": [
    "def regression_estimator():\n",
    "    df_encoded_train = pd.read_csv('db/aggregation_encoding_train.csv')\n",
    "    df_encoded_test = pd.read_csv('db/aggregation_encoding_test.csv')\n",
    "    \n",
    "    df_output = format_event_log('db/S2_Aggregation_Estimator.csv')\n",
    "    \n",
    "    independent_Variable = get_all_Activities().tolist()\n",
    "    dict_IV_index_activities = {\n",
    "        a: independent_Variable.index(a) for a in independent_Variable\n",
    "    }\n",
    "    dict_IV_invert = {v: k for k, v in dict_IV_index_activities.items()}\n",
    "    # ========================================================================================== \n",
    "    X_train_activity, Y_train_activity = process_X_Y(df_encoded_train, \"ground_truth_activity\", dict_IV_index_activities)\n",
    "    X_test_activity, Y_test_activity = process_X_Y(df_encoded_test, \"ground_truth_activity\", dict_IV_index_activities)\n",
    "\n",
    "    model_activity, scaler_activity = get_Regression_model_and_scaler(\n",
    "        X_train_activity, \n",
    "        Y_train_activity, \n",
    "        \"Logistic\"\n",
    "    )\n",
    "\n",
    "    X_test_activity = scaler_activity.transform(X_test_activity)\n",
    "\n",
    "    predicts_activity = model_activity.predict(X_test_activity)\n",
    "    predicts_activity = [dict_IV_invert[p] for p in predicts_activity]\n",
    "\n",
    "    # ===========================================================================================\n",
    "    X_train_time, Y_train_time = process_X_Y(df_encoded_train, \"ground_truth_time\", dict_IV_index_activities)\n",
    "    X_test_time, Y_test_time = process_X_Y(df_encoded_test, \"ground_truth_time\", dict_IV_index_activities)\n",
    "    model_time, scaler_time = get_Regression_model_and_scaler(\n",
    "        X_train_time,\n",
    "        Y_train_time,\n",
    "        \"Linear\"\n",
    "    )\n",
    "    X_test_time = scaler_time.transform(X_test_time)\n",
    "    predicts_time = model_time.predict(X_test_time)\n",
    "\n",
    "    df_output['S_3_activities'] = predicts_activity\n",
    "    df_output['S_3_time'] = predicts_time\n",
    "    df_output.to_csv(\"db/S3_Regression_Estimator(hollidays & last_event).csv\")\n",
    "\n"
   ]
  },
  {
   "cell_type": "markdown",
   "metadata": {},
   "source": [
    "# Decision Tree Estimator (S3.2)"
   ]
  },
  {
   "cell_type": "code",
   "execution_count": 735,
   "metadata": {},
   "outputs": [],
   "source": [
    "def decision_tree_estimator():\n",
    "    df_encoded_train = pd.read_csv('db/aggregation_encoding_train.csv')\n",
    "    df_encoded_test = pd.read_csv('db/aggregation_encoding_test.csv')\n",
    "    \n",
    "    df_output = format_event_log('db\\S3_Regression_Estimator.csv')\n",
    "    \n",
    "    independent_Variable = get_all_Activities().tolist()\n",
    "    dict_IV_index_activities = get_IV_dict()\n",
    "    dict_IV_invert = get_IV_dict_invert()\n",
    "    # ========================================================================================== \n",
    "    X_train_activity, Y_train_activity = process_X_Y(df_encoded_train, \"ground_truth_activity\", dict_IV_index_activities)\n",
    "    X_test_activity, Y_test_activity = process_X_Y(df_encoded_test, \"ground_truth_activity\", dict_IV_index_activities)\n",
    "\n",
    "    model_activity, scaler_activity = get_Decision_tree_model_and_scaler(\n",
    "        X_train_activity, \n",
    "        Y_train_activity\n",
    "    )\n",
    "\n",
    "    X_test_activity = scaler_activity.transform(X_test_activity)\n",
    "\n",
    "    predicts_activity = model_activity.predict(X_test_activity)\n",
    "    predicts_activity = [dict_IV_invert[p] for p in predicts_activity]\n",
    "    \n",
    "    df_output['S_3_2_activities'] = predicts_activity\n",
    "    # df_output['S_3_3_activities'] = predicts_activity\n",
    "\n",
    "    # ========================================================================================== \n",
    "    X_train_time, Y_train_time = process_X_Y(df_encoded_train, \"ground_truth_time\", dict_IV_index_activities)\n",
    "    X_test_time, Y_test_time = process_X_Y(df_encoded_test, \"ground_truth_time\", dict_IV_index_activities)\n",
    "\n",
    "    model_time, scaler_time = get_Decision_tree_model_and_scaler(\n",
    "        X_train_time, \n",
    "        Y_train_time\n",
    "    )\n",
    "\n",
    "    X_test_time = scaler_activity.transform(X_test_time)\n",
    "\n",
    "    predicts_time = model_activity.predict(X_test_time)\n",
    "\n",
    "    df_output['S_3_2_time'] = predicts_time\n",
    "    # df_output['S_3_3_time'] = predicts_time\n",
    "\n",
    "    df_output.to_csv(\"db/S3_2_Decision_Tree_Estimator(hollidays & last_event).csv\")\n",
    "    # df_output.to_csv(\"db/S3_3_Random_Forest_Estimator(hollidays & last_event).csv\")"
   ]
  },
  {
   "cell_type": "markdown",
   "metadata": {},
   "source": [
    "# Other Functionalities"
   ]
  },
  {
   "cell_type": "markdown",
   "metadata": {},
   "source": [
    "## Visualisation"
   ]
  },
  {
   "cell_type": "markdown",
   "metadata": {},
   "source": [
    "Scatterplot representation of the entire data set in chronological order"
   ]
  },
  {
   "cell_type": "code",
   "execution_count": 736,
   "metadata": {},
   "outputs": [],
   "source": [
    "def plot_all_data():\n",
    "    df_BPI_train = pd.read_csv(training_file_path)\n",
    "    df_BPI_test = pd.read_csv(testing_file_path)\n",
    "    df_BPI = pd.concat([df_BPI_train, df_BPI_train])\n",
    "    \n",
    "    df_BPI['event time:timestamp'] = pd.to_datetime(df_BPI['event time:timestamp'],format=\"%d-%m-%Y %H:%M:%S.%f\")\n",
    "    \n",
    "    ax = sns.relplot(data=df_BPI, x='event time:timestamp', y='case concept:name', hue='event concept:name', height=10, aspect=1.5)\n",
    "    plt.ylim(max(df_BPI['case concept:name']), min(df_BPI['case concept:name']))\n",
    "    plt.show()"
   ]
  },
  {
   "cell_type": "markdown",
   "metadata": {},
   "source": [
    "Scatterplot representation of the data set split into training and test sets, after the removal of unusable traces from the training set"
   ]
  },
  {
   "cell_type": "code",
   "execution_count": 737,
   "metadata": {},
   "outputs": [],
   "source": [
    "def plot_split_data():\n",
    "    df_BPI_train = pd.read_csv(training_file_path)\n",
    "    df_BPI_test = pd.read_csv(testing_file_path)\n",
    "    df_BPI = pd.concat([df_BPI_train, df_BPI_train])\n",
    "    \n",
    "    df_BPI['event time:timestamp'] = pd.to_datetime(df_BPI['event time:timestamp'],format=\"%d-%m-%Y %H:%M:%S.%f\")\n",
    "    df_BPI['case REG_DATE'] = pd.to_datetime(df_BPI['case REG_DATE'],format=\"%d-%m-%Y %H:%M:%S.%f\")\n",
    "    splittime = pd.to_datetime(\"02-01-2012 15:28:39.244\",format=\"%d-%m-%Y %H:%M:%S.%f\")\n",
    "    plt_splitline = df_BPI.copy()\n",
    "    plt_splitline['event time:timestamp'] = splittime\n",
    "    plt_splitline['event concept:name'] = \"test/training split\"\n",
    "    \n",
    "    df_BPI = df_BPI.sort_values(by=['case concept:name','event time:timestamp'], ignore_index=True)\n",
    "    df_BPI_train = delete_overlapping_traces(df_BPI.copy(), splittime)\n",
    "    df_BPI_test = df_BPI[df_BPI['case REG_DATE'] >= splittime]\n",
    "    \n",
    "    df_BPI = pd.concat([df_BPI_train, df_BPI_test])\n",
    "    df_BPI = df_BPI.sort_values(by='event time:timestamp', ignore_index=True)\n",
    "    df_BPI = pd.concat([df_BPI, plt_splitline])\n",
    "    \n",
    "    ax = sns.relplot(data=df_BPI, x='event time:timestamp', y='case concept:name', hue='event concept:name', height=10, aspect=1.5)\n",
    "    plt.ylim(max(df_BPI['case concept:name']), min(df_BPI['case concept:name']))\n",
    "    plt.show()"
   ]
  },
  {
   "cell_type": "markdown",
   "metadata": {},
   "source": [
    "Scatterplot representation of the data set with time arrangement of events relative to the start of their respective case"
   ]
  },
  {
   "cell_type": "code",
   "execution_count": 738,
   "metadata": {},
   "outputs": [],
   "source": [
    "def plot_case_relative():\n",
    "    df_BPI_train = pd.read_csv(training_file_path)\n",
    "    df_BPI_test = pd.read_csv(testing_file_path)\n",
    "    df_BPI = pd.concat([df_BPI_train, df_BPI_train])\n",
    "    \n",
    "    df_BPI['event time:timestamp'] = pd.to_datetime(df_BPI['event time:timestamp'],format=\"%d-%m-%Y %H:%M:%S.%f\")\n",
    "    df_BPI['case REG_DATE'] = pd.to_datetime(df_BPI['case REG_DATE'],format=\"%d-%m-%Y %H:%M:%S.%f\")\n",
    "    \n",
    "    df_BPI['event time:case relative'] = pd.to_datetime(df_BPI['event time:timestamp'], format=\"%Y-%m-%d %H:%M:%S.%f\") - pd.to_datetime(df_BPI['case REG_DATE'], format=\"%Y-%m-%d %H:%M:%S.%f\")\n",
    "    \n",
    "    ax = sns.relplot(data=df_BPI, x='event time:case relative', y='case concept:name', hue='event concept:name', markers=\"x\", height=7, aspect=1.5)\n",
    "    plt.ylim(max(df_BPI['case concept:name']), min(df_BPI['case concept:name']))\n",
    "    plt.xlim(0, )\n",
    "    plt.show()"
   ]
  },
  {
   "cell_type": "markdown",
   "metadata": {},
   "source": [
    "## Error model"
   ]
  },
  {
   "attachments": {},
   "cell_type": "markdown",
   "metadata": {},
   "source": [
    "Scatter Plot representation of the time error of the currently checked model"
   ]
  },
  {
   "cell_type": "code",
   "execution_count": 739,
   "metadata": {},
   "outputs": [],
   "source": [
    "def error_visualisation_time(df, prediction_time):\n",
    "    df['ground_truth_time'] = df['ground_truth_time'] / 3600\n",
    "    df[prediction_time] = df[prediction_time] / 3600\n",
    "    \n",
    "    x1 = df['ground_truth_time']\n",
    " \n",
    "    y1 = df['Unnamed: 0.1']\n",
    " \n",
    "    x2 = df[prediction_time]\n",
    " \n",
    "    y2 = df['Unnamed: 0.1']\n",
    " \n",
    "    plt.scatter(x1, y1, c =\"green\",\n",
    "                linewidths = 2,\n",
    "                marker =\"s\",\n",
    "                s = 10)\n",
    "    \n",
    "    plt.scatter(x2, y2, c =\"red\",\n",
    "                linewidths = 2,\n",
    "                marker =\"^\",\n",
    "                s = 10)\n",
    "    \n",
    "    plt.xlabel(\"Time (Hours)\")\n",
    "    plt.ylabel(\"EventID\")\n",
    "    plt.ylim(200, 300)\n",
    "    plt.xlim(-2, 200)\n",
    "    plt.show()"
   ]
  },
  {
   "attachments": {},
   "cell_type": "markdown",
   "metadata": {},
   "source": [
    "Calculates the Root Mean Square Error"
   ]
  },
  {
   "cell_type": "code",
   "execution_count": 740,
   "metadata": {},
   "outputs": [],
   "source": [
    "def root_mean_square_error(df, prediction_time):\n",
    "    rms = mean_squared_error(df['ground_truth_time'], df[prediction_time])\n",
    "    print(f'RMS = {rms:.1f}')"
   ]
  },
  {
   "attachments": {},
   "cell_type": "markdown",
   "metadata": {},
   "source": [
    "Heatmap Representing a Confusion Matrix for our activity predictions"
   ]
  },
  {
   "cell_type": "code",
   "execution_count": 741,
   "metadata": {},
   "outputs": [],
   "source": [
    "def error_visualisation_activity(df, prediction_activity):\n",
    "    cm = confusion_matrix(df['ground_truth_activity'], df[prediction_activity])\n",
    "    sns.heatmap(cm,\n",
    "            annot=True, \n",
    "            annot_kws={\"size\":5},\n",
    "            fmt='g')\n",
    "    plt.ylabel('Prediction',fontsize=7)\n",
    "    plt.xlabel('Actual',fontsize=7)\n",
    "    plt.title('Confusion Matrix',fontsize=10)\n",
    "    plt.show()"
   ]
  },
  {
   "attachments": {},
   "cell_type": "markdown",
   "metadata": {},
   "source": [
    "Finds the Accuracy of the activity prediction model"
   ]
  },
  {
   "cell_type": "code",
   "execution_count": 742,
   "metadata": {},
   "outputs": [],
   "source": [
    "def error_activity(df, prediction_activity):\n",
    "    df['error_activity'] = df['ground_truth_activity'] == df[prediction_activity]\n",
    "    correct_predictions = df['error_activity'].value_counts()\n",
    "    percentage = correct_predictions[True] / len(df['error_activity']) * 100\n",
    "    print(f'Percentage of True values: {percentage:.1f}%')"
   ]
  },
  {
   "attachments": {},
   "cell_type": "markdown",
   "metadata": {},
   "source": [
    "Find the absolute mean error of the time prediction model"
   ]
  },
  {
   "cell_type": "code",
   "execution_count": 743,
   "metadata": {},
   "outputs": [],
   "source": [
    "def error_time(df, prediction_time):\n",
    "    df['error_time'] = df[prediction_time] - df['ground_truth_time']\n",
    "    mean_absolute_error = df['error_time'].mean()\n",
    "    print(abs(mean_absolute_error))"
   ]
  },
  {
   "attachments": {},
   "cell_type": "markdown",
   "metadata": {},
   "source": [
    "Runs all the methods to see error of each model"
   ]
  },
  {
   "cell_type": "code",
   "execution_count": 744,
   "metadata": {},
   "outputs": [],
   "source": [
    "def error_model(predictor_path, prediction_activity, prediction_time):\n",
    "    df_error_model = pd.read_csv(predictor_path)\n",
    "    df_error_model = df_error_model.fillna('None')\n",
    "    error_activity(df_error_model, prediction_activity)\n",
    "    error_time(df_error_model, prediction_time)\n",
    "    root_mean_square_error(df_error_model, prediction_time)\n",
    "    error_visualisation_time(df_error_model, prediction_time)\n",
    "    error_visualisation_activity(df_error_model, prediction_activity)"
   ]
  },
  {
   "cell_type": "markdown",
   "metadata": {},
   "source": [
    "## Memory and CPU Usage"
   ]
  },
  {
   "cell_type": "code",
   "execution_count": 745,
   "metadata": {},
   "outputs": [],
   "source": [
    "def check_memory_cpu() : \n",
    "    print('The CPU usage is: ', pu.cpu_percent(4))\n",
    "    print('RAM memory % used:', pu.virtual_memory()[2])\n",
    "    print('RAM Used (GB):', pu.virtual_memory()[3]/1000000000)"
   ]
  },
  {
   "cell_type": "markdown",
   "metadata": {},
   "source": [
    "# Main class\n",
    "1. All functions that are needed all called in this cell.\n",
    "2. No other cell runs code other than the main cell."
   ]
  },
  {
   "cell_type": "code",
   "execution_count": 746,
   "metadata": {},
   "outputs": [
    {
     "name": "stdout",
     "output_type": "stream",
     "text": [
      "Percentage of True values: 65.6%\n",
      "93350.76090786383\n",
      "RMS = 4487034509414.9\n"
     ]
    },
    {
     "data": {
      "image/png": "[encoded data removed]",
      "text/plain": [
       "<Figure size 640x480 with 1 Axes>"
      ]
     },
     "metadata": {},
     "output_type": "display_data"
    },
    {
     "data": {
      "image/png": "[encoded data removed]",
      "text/plain": [
       "<Figure size 640x480 with 2 Axes>"
      ]
     },
     "metadata": {},
     "output_type": "display_data"
    },
    {
     "name": "stdout",
     "output_type": "stream",
     "text": [
      "Percentage of True values: 66.5%\n",
      "110850.74881770322\n",
      "RMS = 4243508355391.7\n"
     ]
    },
    {
     "data": {
      "image/png": "[encoded data removed]",
      "text/plain": [
       "<Figure size 640x480 with 1 Axes>"
      ]
     },
     "metadata": {},
     "output_type": "display_data"
    },
    {
     "data": {
      "image/png": "[encoded data removed]",
      "text/plain": [
       "<Figure size 640x480 with 2 Axes>"
      ]
     },
     "metadata": {},
     "output_type": "display_data"
    }
   ],
   "source": [
    "# naive_estimators()\n",
    "# mode_estimators()\n",
    "# write_aggregation()\n",
    "# regression_estimator()\n",
    "# decision_tree_estimator()\n",
    "error_model('db/S3_Regression_Estimator.csv', 'S_3_activities', 'S_3_time')\n",
    "error_model('db/S2_Aggregation_Estimator.csv', 'S_2_Activity', 'S_2_Time')"
   ]
  }
 ],
 "metadata": {
  "kernelspec": {
   "display_name": "Python 3",
   "language": "python",
   "name": "python3"
  },
  "language_info": {
   "codemirror_mode": {
    "name": "ipython",
    "version": 3
   },
   "file_extension": ".py",
   "mimetype": "text/x-python",
   "name": "python",
   "nbconvert_exporter": "python",
   "pygments_lexer": "ipython3",
   "version": "3.10.10"
  },
  "vscode": {
   "interpreter": {
    "hash": "8b70c613820eb82f44088773ffc2add453462ad8308f78b60a549bce82e221db"
   }
  }
 },
 "nbformat": 4,
 "nbformat_minor": 2
}
