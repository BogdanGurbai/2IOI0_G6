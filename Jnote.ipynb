{
 "cells": [
  {
   "cell_type": "markdown",
   "metadata": {},
   "source": [
    "# Import"
   ]
  },
  {
   "cell_type": "code",
   "execution_count": 1,
   "metadata": {},
   "outputs": [],
   "source": [
    "# %pip install pandas\n",
    "# %pip install pm4py\n",
    "# %pip install psutil\n",
    "# %pip install matplotlib\n",
    "# %pip install seaborn\n",
    "# %pip install holidays\n",
    "# %pip install scikit-learn\n",
    "# %pip install collection\n",
    "# %pip install scipy\n",
    "\n",
    "import pandas as pd\n",
    "import pm4py as pm\n",
    "import numpy as np\n",
    "import psutil as pu\n",
    "\n",
    "import matplotlib.pyplot as plt\n",
    "import seaborn as sns\n",
    "\n",
    "import datetime\n",
    "import holidays\n",
    "\n",
    "import warnings\n",
    "warnings.filterwarnings(\"ignore\", category=DeprecationWarning)\n",
    "\n",
    "from sklearn.preprocessing import MinMaxScaler\n",
    "from sklearn.linear_model import LinearRegression\n",
    "from sklearn.linear_model import LogisticRegression\n",
    "from sklearn.model_selection import train_test_split\n",
    "\n",
    "from sklearn import tree\n",
    "from sklearn.tree import DecisionTreeClassifier, DecisionTreeRegressor, export_graphviz\n",
    "from sklearn.ensemble import RandomForestClassifier\n",
    "from sklearn.metrics import confusion_matrix\n",
    "\n",
    "\n",
    "from collections import defaultdict\n",
    "\n",
    "from scipy import stats\n",
    "\n",
    "training_file_path = 'db/BPI_Challenge_2012.XE-training.csv'\n",
    "testing_file_path = 'db/BPI_Challenge_2012.XE-test.csv'\n",
    "nl_holidays = holidays.country_holidays('NL')\n",
    "holidays_keys = nl_holidays.keys()\n",
    "holiday_list = [i for i in nl_holidays.keys()]"
   ]
  },
  {
   "cell_type": "markdown",
   "metadata": {},
   "source": [
    "# load CSV with pandas and pm4py\n",
    "\n",
    "pm4py gives two extra columns: @@index and @@case_index"
   ]
  },
  {
   "cell_type": "code",
   "execution_count": 2,
   "metadata": {},
   "outputs": [],
   "source": [
    "def format_event_log(path):\n",
    "    event_log = pd.read_csv(path, sep=',')\n",
    "    event_log = pm.format_dataframe(\n",
    "        event_log, \n",
    "        case_id='case concept:name', \n",
    "        activity_key='event concept:name', \n",
    "        timestamp_key='event time:timestamp'\n",
    "    )\n",
    "    event_log = event_log.drop(\"case:concept:name\", axis = 1)\n",
    "    event_log = event_log.drop(\"concept:name\", axis = 1)\n",
    "    event_log = event_log.drop(\"time:timestamp\", axis = 1)\n",
    "    return event_log\n",
    "#event_log"
   ]
  },
  {
   "cell_type": "markdown",
   "metadata": {},
   "source": [
    "# Helper methods"
   ]
  },
  {
   "cell_type": "markdown",
   "metadata": {},
   "source": [
    "## Genernal"
   ]
  },
  {
   "cell_type": "markdown",
   "metadata": {},
   "source": [
    "Function that finds the length of the longest trace in a list of traces"
   ]
  },
  {
   "cell_type": "code",
   "execution_count": 3,
   "metadata": {},
   "outputs": [],
   "source": [
    "def find_longest_trace(traces):\n",
    "    max = 0\n",
    "    for trace in traces:\n",
    "        if trace.shape[0] > max:\n",
    "            max = trace.shape[0]\n",
    "    return max\n",
    "\n",
    "def get_all_Activities():\n",
    "    df = format_event_log(training_file_path)\n",
    "    arr = df['event concept:name'].unique()\n",
    "    return arr"
   ]
  },
  {
   "cell_type": "markdown",
   "metadata": {},
   "source": [
    "## Sprint 1"
   ]
  },
  {
   "cell_type": "markdown",
   "metadata": {},
   "source": [
    "Function that adds the time difference from the last event in the trace column in the data set for time prediction"
   ]
  },
  {
   "cell_type": "code",
   "execution_count": 4,
   "metadata": {},
   "outputs": [],
   "source": [
    "# assume sorted by caseID and time\n",
    "def caseHasNextEvent(df, index):\n",
    "    if index >= len(df) - 1:\n",
    "        return False\n",
    "    if df.loc[index, 'case concept:name'] == df.loc[index+1, 'case concept:name']:\n",
    "        return True\n",
    "    return False\n",
    "\n",
    "\n",
    "def computeTimeDifference(df):\n",
    "    # df['time_until_next_event'] = 0  # initialize new column with zeros\n",
    "    df = df.assign(ground_truth_time=0) # initialize new column\n",
    "\n",
    "    # iterate over each row of the dataframe\n",
    "    for i, row in df.iterrows():        \n",
    "        # check if there is a next row with the same case\n",
    "        if caseHasNextEvent(df, i):\n",
    "            nextTime = df.loc[i+1, 'event time:timestamp']\n",
    "            currentTime = row['event time:timestamp']\n",
    "            timeDiff = nextTime - currentTime\n",
    "            df.at[i, 'ground_truth_time'] = timeDiff.total_seconds()\n",
    "    \n",
    "    return df\n",
    "\n"
   ]
  },
  {
   "cell_type": "markdown",
   "metadata": {},
   "source": [
    "Function to write ground truth column in the data set for verification purposes."
   ]
  },
  {
   "cell_type": "code",
   "execution_count": 5,
   "metadata": {},
   "outputs": [],
   "source": [
    "\n",
    "def writeGroundtruth(df):\n",
    "    df = df.sort_values(by=['case concept:name','event time:timestamp'])\n",
    "    #add new columns containing the name of the next event in the case and the time when it happens\n",
    "    df = df.assign(ground_truth_activity='')\n",
    "    df = df.assign(ground_truth_time='')\n",
    "\n",
    "    for ind in df.index:\n",
    "        if caseHasNextEvent(df, ind):\n",
    "            df.at[ind,'ground_truth_activity'] = df.loc[ind+1,'event concept:name']\n",
    "            #df.at[ind,'ground_truth_time'] = df.loc[ind+1, 'event time:timestamp']\n",
    "        else:\n",
    "            df.at[ind,'ground_truth_activity'] = None\n",
    "            #df.at[ind,'ground_truth_time'] = None\n",
    "    df = computeTimeDifference(df)\n",
    "    return df\n",
    "\n",
    "#df_event = writeGroundtruth(event_log)\n",
    "#df_event.to_csv('check_writeGroundtruth_out.csv')"
   ]
  },
  {
   "cell_type": "markdown",
   "metadata": {},
   "source": [
    "## Sprint 2"
   ]
  },
  {
   "cell_type": "markdown",
   "metadata": {},
   "source": [
    "Function that splits the data set into separate traces\n",
    "- Parameter $traces$ is a list containing all the individual traces\n",
    "- Each trace in traces is a list containing all the events in the trace in the order that they happen\n",
    "- Helper method for prefix extraction"
   ]
  },
  {
   "cell_type": "code",
   "execution_count": 6,
   "metadata": {},
   "outputs": [],
   "source": [
    "def split_into_traces(event_log):\n",
    "    traces = []\n",
    "    last_location = 0\n",
    "    for j in range (0, event_log.shape[0] - 1):\n",
    "        if not event_log[\"case concept:name\"][j] == event_log[\"case concept:name\"][j + 1]:\n",
    "            traces.append(event_log.loc[last_location : j].reset_index())\n",
    "            last_location = j + 1\n",
    "    traces.append(event_log.loc[last_location : event_log.shape[0] - 1].reset_index())\n",
    "    return traces"
   ]
  },
  {
   "cell_type": "markdown",
   "metadata": {},
   "source": [
    "Function that deletes traces from an event log that do not end before a specified time"
   ]
  },
  {
   "cell_type": "code",
   "execution_count": 7,
   "metadata": {},
   "outputs": [],
   "source": [
    "def delete_overlapping_traces(event_log, end_time):\n",
    "    traces = split_into_traces(event_log)\n",
    "    del_tr = []\n",
    "    for j in range(len(traces)):\n",
    "        for k in traces[j].index:\n",
    "            trace_ts = traces[j][\"event time:timestamp\"][k]\n",
    "        if trace_ts > end_time:\n",
    "            del_tr.append(traces[j][\"case concept:name\"][0])\n",
    "    \n",
    "    for j in range(len(del_tr)):\n",
    "        event_log = event_log[event_log[\"case concept:name\"] != del_tr[j]]\n",
    "    event_log.to_csv(\"db/S2_Remove_Overlap.csv\")\n",
    "    return event_log.reset_index(drop=True)"
   ]
  },
  {
   "cell_type": "markdown",
   "metadata": {},
   "source": [
    "Prefix extraction\n",
    "- extract event lists of all lengths store in the prefix_lengts, from the traces for prediction\n",
    "- store them in a list of prefixes"
   ]
  },
  {
   "cell_type": "code",
   "execution_count": 8,
   "metadata": {},
   "outputs": [],
   "source": [
    "def prefix_extraction(traces, prefix_lengths):\n",
    "    prefixes = []\n",
    "    for trace in traces:\n",
    "        for length in prefix_lengths:\n",
    "            if trace.shape[0] >= length:\n",
    "                prefixes.append(trace.loc[:length - 1])\n",
    "    return prefixes"
   ]
  },
  {
   "cell_type": "markdown",
   "metadata": {},
   "source": [
    "Regression helper methods"
   ]
  },
  {
   "cell_type": "code",
   "execution_count": 9,
   "metadata": {},
   "outputs": [],
   "source": [
    "# dict_independent_variable should have index as activities\n",
    "# and with a value of a discrete number.\n",
    "def process_X_Y(df, str_DV_col, dict_independent_variable):\n",
    "    independent_Variable = get_all_Activities()\n",
    "    independent_Variable = np.append(['hollidays', 'last_event'], independent_Variable)\n",
    "    dependent_Variable = str_DV_col\n",
    "\n",
    "    \n",
    "    X = df[independent_Variable]\n",
    "    if str_DV_col == \"ground_truth_activity\":\n",
    "        Y = df[dependent_Variable].replace(dict_independent_variable)\n",
    "    elif str_DV_col == \"ground_truth_time\":\n",
    "        Y = df[dependent_Variable]\n",
    "\n",
    "    return X, Y\n",
    "\n",
    "def get_Regression_model_and_scaler(X, Y, type):\n",
    "\n",
    "    scaler = MinMaxScaler()\n",
    "    X = scaler.fit_transform(X)\n",
    "    if type == \"Logistic\":\n",
    "        model = LogisticRegression()\n",
    "        Y = Y.fillna(0.0)\n",
    "    elif type == \"Linear\":\n",
    "        model = LinearRegression()\n",
    "        Y = Y.fillna(0.0)\n",
    "\n",
    "\n",
    "    model.fit(X, Y)\n",
    "    \n",
    "    intercept = model.intercept_\n",
    "\n",
    "    return model, scaler"
   ]
  },
  {
   "cell_type": "markdown",
   "metadata": {},
   "source": [
    "## Sprint 3"
   ]
  },
  {
   "cell_type": "markdown",
   "metadata": {},
   "source": [
    "isHolliday helper method"
   ]
  },
  {
   "cell_type": "code",
   "execution_count": 10,
   "metadata": {},
   "outputs": [],
   "source": [
    "def isHoliday(timestamp):\n",
    "    if timestamp.weekday() in [5, 6] or timestamp.date() in holiday_list:\n",
    "        return 1\n",
    "    else: return 0"
   ]
  },
  {
   "cell_type": "markdown",
   "metadata": {},
   "source": [
    "helper method to get the needed dictionaries"
   ]
  },
  {
   "cell_type": "code",
   "execution_count": 11,
   "metadata": {},
   "outputs": [],
   "source": [
    "def get_IV_dict():\n",
    "    IV_list = get_all_Activities().tolist()\n",
    "    return {\n",
    "        a: IV_list.index(a) for a in IV_list\n",
    "    }\n",
    "\n",
    "def get_IV_dict_invert():\n",
    "    IV_dict = get_IV_dict()\n",
    "    return {v: k for k, v in IV_dict.items()}\n"
   ]
  },
  {
   "cell_type": "markdown",
   "metadata": {},
   "source": [
    "Decision tree helper method"
   ]
  },
  {
   "cell_type": "code",
   "execution_count": 12,
   "metadata": {},
   "outputs": [],
   "source": [
    "def get_Decision_tree_model_and_scaler(X, Y, type):\n",
    "    scaler = MinMaxScaler()\n",
    "    X = scaler.fit_transform(X)\n",
    "\n",
    "    if type == 'activity':\n",
    "        model = DecisionTreeClassifier(criterion='entropy', max_depth=10, random_state=1)\n",
    "    elif type == 'time':\n",
    "        model = DecisionTreeRegressor(criterion='absolute_error', max_depth=10, random_state=1)\n",
    "\n",
    "    Y = Y.fillna(0.0)\n",
    "\n",
    "    # print(Y)\n",
    "    model.fit(X, Y)\n",
    "    \n",
    "    return model, scaler"
   ]
  },
  {
   "cell_type": "markdown",
   "metadata": {},
   "source": [
    "Function that deletes the outliers based on the zscore`"
   ]
  },
  {
   "cell_type": "code",
   "execution_count": 13,
   "metadata": {},
   "outputs": [],
   "source": [
    "def delete_outliers(event_log):\n",
    "    traces = split_into_traces(event_log)\n",
    "    del_trace = []\n",
    "    trace_len = []\n",
    "    for j in range(1, len(traces)):\n",
    "        trace_len.append(traces[j].size)\n",
    "\n",
    "    df_len = pd.DataFrame(trace_len)\n",
    "    df_len = df_len[(np.abs(stats.zscore(df_len[0])) > 3)]\n",
    "\n",
    "    for ind in df_len.index:\n",
    "        del_trace.append(traces[ind][\"case concept:name\"][0])\n",
    "\n",
    "    for j in range(len(del_trace)):\n",
    "        event_log = event_log[event_log[\"case concept:name\"] != del_trace[j]]\n",
    "    event_log.to_csv(\"db/S2_Remove_Overlap.csv\")\n",
    "    return event_log.reset_index(drop=True)"
   ]
  },
  {
   "cell_type": "markdown",
   "metadata": {},
   "source": [
    "## Aggregation functions"
   ]
  },
  {
   "cell_type": "markdown",
   "metadata": {},
   "source": [
    "Aggregation encoding\n",
    "\n",
    "- encode traces into numerical data for prediction\n",
    "- adds the ground truth at the start of the encoded prefix\n",
    "- adds the hollidays and last_event features at the end of the encoding"
   ]
  },
  {
   "cell_type": "code",
   "execution_count": 14,
   "metadata": {},
   "outputs": [],
   "source": [
    "def create_dict(events):\n",
    "\n",
    "    events_dict = {'ground_truth_activity' : 'truth', 'ground_truth_time' : 'truth'}\n",
    "    for event in events:\n",
    "        events_dict[event] = 0\n",
    "    events_dict['hollidays'] = 0\n",
    "    events_dict['last_event'] = 0\n",
    "    return events_dict\n",
    "\n",
    "def aggregation_encoding(prefixes, event_log):\n",
    "    events = get_all_Activities()\n",
    "    event_dict = create_dict(events)\n",
    "    last_event_dict = get_IV_dict()\n",
    "    aggregation_encoding = pd.DataFrame(event_dict, index=[0])\n",
    "    aggregation_encoding = aggregation_encoding.drop(0)\n",
    "    #new_encoding = ['truth', 0, 0, 0, 0, 0, 0, 0, 0, 0, 0, 0, 0, 0, 0, 0, 0, 0, 0, 0, 0, 0, 0, 0, 0]\n",
    "    index = 0\n",
    "    for prefix in prefixes:\n",
    "        current_dict = create_dict(events)\n",
    "        current_dict['ground_truth_activity'] = prefix['ground_truth_activity'][len(prefix.index) - 1]\n",
    "        current_dict['ground_truth_time'] = prefix['ground_truth_time'][len(prefix.index) - 1]\n",
    "        current_dict['last_event'] = last_event_dict[prefix[\"event concept:name\"][len(prefix.index) - 1]]\n",
    "        for j in range (prefix.shape[0]):\n",
    "            if isHoliday(prefix[\"event time:timestamp\"][j]):\n",
    "                current_dict['hollidays'] = current_dict['hollidays'] + 1\n",
    "            current_dict[prefix[\"event concept:name\"][j]] = current_dict[prefix[\"event concept:name\"][j]] + 1\n",
    "        aggregation_encoding.loc[index] = current_dict.values()\n",
    "        index += 1\n",
    "    return aggregation_encoding"
   ]
  },
  {
   "cell_type": "markdown",
   "metadata": {},
   "source": [
    "Apply the necesary changes to the event log and do all the steps in order to aggregate a file"
   ]
  },
  {
   "cell_type": "code",
   "execution_count": 15,
   "metadata": {},
   "outputs": [],
   "source": [
    "def get_aggregation_encoding(path, type):\n",
    "    event_log = format_event_log(path)\n",
    "    if type == \"train\":\n",
    "        time_split = pd.to_datetime(\"02-01-2012 15:28:39.244\",format=\"%d-%m-%Y %H:%M:%S.%f\")\n",
    "        event_log = delete_overlapping_traces(event_log, pd.Timestamp(time_split, tz='GMT+0'))\n",
    "        event_log = delete_outliers(event_log)\n",
    "        event_log = format_event_log(\"db/S2_Remove_Overlap.csv\")\n",
    "    traces = split_into_traces(event_log)\n",
    "    prefix_lengths = []\n",
    "    if type == \"train\":\n",
    "        prefix_lengths = [1, 3, 5, 7, 9, 11, 13, 15, 17, 19, 21, 23, 25, 27, 29]\n",
    "    if type == \"test\":\n",
    "        prefix_lengths = [x for x in range(1, find_longest_trace(traces) + 1)]\n",
    "    prefixes = prefix_extraction(traces, prefix_lengths)\n",
    "    aggregation = aggregation_encoding(prefixes, event_log)\n",
    "    if type == \"train\":\n",
    "        aggregation.to_csv(\"db/aggregation_encoding_train.csv\")\n",
    "    if type == \"test\":\n",
    "        aggregation.to_csv(\"db/aggregation_encoding_test.csv\")\n",
    "    return aggregation\n",
    "     "
   ]
  },
  {
   "cell_type": "markdown",
   "metadata": {},
   "source": [
    "Create the aggregations for the train and the test files"
   ]
  },
  {
   "cell_type": "code",
   "execution_count": 16,
   "metadata": {},
   "outputs": [],
   "source": [
    "def write_aggregation():\n",
    "    train_file_path = 'db/S1_GroundTruth.csv'\n",
    "    test_file_path = 'db/S2_Aggregation_Estimator.csv'\n",
    "    train_aggregation = get_aggregation_encoding(train_file_path, \"train\")\n",
    "    test_aggregation = get_aggregation_encoding(test_file_path, \"test\")"
   ]
  },
  {
   "cell_type": "markdown",
   "metadata": {},
   "source": [
    "# Naive Estimator (S1)\n",
    "- used indications on canvas\n",
    "- order train and test set by \"case concept:name\" and \"event time:timestamp\" columns \n",
    "- split train set into traces\n",
    "- find the length of the longest trace (N)\n",
    "- for each position i (from 1..N) find out the most commun activity that happened in each trace at position i at the most commun time difference between position i and position i-1 in each trace\n",
    "- add this data to the test set"
   ]
  },
  {
   "cell_type": "code",
   "execution_count": 17,
   "metadata": {},
   "outputs": [],
   "source": [
    "def naive_estimators():\n",
    "    df_train = format_event_log(training_file_path)\n",
    "    df_train = writeGroundtruth(df_train)\n",
    "\n",
    "    df_test = format_event_log(testing_file_path)\n",
    "    df_test = writeGroundtruth(df_test)\n",
    "\n",
    "    traces = split_into_traces(df_train)\n",
    "    N = find_longest_trace(traces)\n",
    "    \n",
    "    common_activities = []\n",
    "    common_times = []\n",
    "    for i in range (0, N):\n",
    "        activity_at_position_i = defaultdict(int)\n",
    "        for trace in traces:\n",
    "            if (i < trace.shape[0]):\n",
    "                activity_at_position_i[trace[\"event concept:name\"][i]] += 1\n",
    "        common_activities.append(max(activity_at_position_i, key=lambda k: activity_at_position_i[k]))\n",
    "\n",
    "        time_at_position_i = defaultdict(int)\n",
    "        for trace in traces:\n",
    "            if (i < trace.shape[0]):\n",
    "                time_at_position_i[trace[\"ground_truth_time\"][i]] += 1\n",
    "                \n",
    "        common_times.append(max(time_at_position_i, key=lambda k: time_at_position_i[k]))\n",
    "\n",
    "    activity_predictions = []\n",
    "    time_predictions = []\n",
    "    index = 0\n",
    "    for j in range (0, df_test.shape[0] - 1):\n",
    "        if df_test[\"case concept:name\"][j] == df_test[\"case concept:name\"][j + 1]:\n",
    "            activity_predictions.append(common_activities[index])\n",
    "            time_predictions.append(common_times[index])\n",
    "            index += 1\n",
    "        else:\n",
    "            activity_predictions.append(common_activities[index])\n",
    "            time_predictions.append(common_times[index])\n",
    "            index = 0\n",
    "    activity_predictions.append(common_activities[index])\n",
    "    time_predictions.append(common_times[index])\n",
    "    df_test[\"S_1_Activity\"] = activity_predictions\n",
    "    df_test[\"S_1_Time\"] = time_predictions\n",
    "    df_train.to_csv(\"db/S1_GroundTruth.csv\")\n",
    "    df_test.to_csv(\"db/S1_Naive_estimator.csv\")\n"
   ]
  },
  {
   "cell_type": "markdown",
   "metadata": {},
   "source": [
    "# Mode Estimator (S2)\n",
    "1. for each row find next activity of the case and its timestamp\n",
    "2. compute the time it take for the next event to be log in the db\n",
    "3. for each activity find the most common next activity (mode)\n",
    "4. for each activity find the average time between next activity\n",
    "5. Have 3. and 4. in a DataFrame\n",
    "6. base on the current activity write the prediction of the next activity and time it will take"
   ]
  },
  {
   "cell_type": "code",
   "execution_count": 18,
   "metadata": {},
   "outputs": [],
   "source": [
    "def mode_estimators():\n",
    "\n",
    "    s2_train_file_path = \"db/S1_GroundTruth.csv\"\n",
    "    s2_test_file_path = \"db/S1_Naive_estimator.csv\"\n",
    "\n",
    "    df_train = format_event_log(s2_train_file_path)\n",
    "    df_test = format_event_log(s2_test_file_path)\n",
    "\n",
    "    holiday_train = []\n",
    "    for index in range (df_train.shape[0]): \n",
    "        if isHoliday(df_train[\"event time:timestamp\"][index]):\n",
    "            holiday_train.append(1)\n",
    "        else:\n",
    "            holiday_train.append(0)\n",
    "\n",
    "    holiday_test = []\n",
    "    for index in range (df_test.shape[0]): \n",
    "        if isHoliday(df_test[\"event time:timestamp\"][index]):\n",
    "            holiday_test.append(1)\n",
    "        else:\n",
    "            holiday_test.append(0)\n",
    "\n",
    "    df_train['isHoliday'] = holiday_train\n",
    "    df_test['isHoliday'] = holiday_test\n",
    "\n",
    "    df_look_up_dict_activity =  df_train.groupby(['event concept:name', 'isHoliday']).agg(\n",
    "        Activity_Pretiction = ('ground_truth_activity', pd.Series.mode)\n",
    "    ).unstack()\n",
    "    df_look_up_dict_time = df_train.copy().groupby(['event concept:name', 'isHoliday']).agg(\n",
    "        Time_Pretiction = ('ground_truth_time', 'mean')\n",
    "    ).unstack()\n",
    "\n",
    "\n",
    "    df_test = df_test.assign(S_2_Activity='')\n",
    "    df_test = df_test.assign(S_2_Time=0)\n",
    "    for i, r in df_test.iterrows():\n",
    "        this_activity = r['event concept:name']\n",
    "        this_isHoliday = r['isHoliday']\n",
    "        next_event = df_look_up_dict_activity.loc[this_activity, ('Activity_Pretiction', this_isHoliday)]\n",
    "        next_time = df_look_up_dict_time.loc[this_activity, ('Time_Pretiction', this_isHoliday)]\n",
    "\n",
    "        df_test.at[i,'S_2_Activity'] = next_event\n",
    "        df_test.at[i,'S_2_Time'] = next_time\n",
    "\n",
    "    df_test = df_test.drop('isHoliday', axis = 1)\n",
    "    df_test.to_csv('db/S2_Aggregation_Estimator.csv')\n",
    "\n",
    "\n",
    "    "
   ]
  },
  {
   "cell_type": "markdown",
   "metadata": {},
   "source": [
    "# Multivalue Regression (S3)"
   ]
  },
  {
   "cell_type": "markdown",
   "metadata": {},
   "source": [
    "1. Set up the training and testing aggregation encoding in two df\n",
    "2. Seet up the Dictionaray for converting activities to integer\n",
    "3. process the X Y value for both training and testing set\n",
    "4. call the '''get_Regression_model_and_scaler()''' with training values to get the model and the saler\n",
    "5. use the model to predict the activites in the testing set\n",
    "6. convert the prediction from integer back to activities(str) using the dictionary from step 2\n",
    "7. repeat step from 3. to 5. for time prediction\n",
    "\n",
    "For the activity prediction we use LogisticRegression() in the sklearn libeary, whereas we use LinearRegression() for the time prediction"
   ]
  },
  {
   "cell_type": "code",
   "execution_count": 19,
   "metadata": {},
   "outputs": [],
   "source": [
    "def regression_estimator():\n",
    "    df_encoded_train = pd.read_csv('db/aggregation_encoding_train.csv')\n",
    "    df_encoded_test = pd.read_csv('db/aggregation_encoding_test.csv')\n",
    "    \n",
    "    df_output = format_event_log('db/S2_Aggregation_Estimator.csv')\n",
    "    \n",
    "    independent_Variable = get_all_Activities().tolist()\n",
    "    dict_IV_index_activities = {\n",
    "        a: independent_Variable.index(a) for a in independent_Variable\n",
    "    }\n",
    "    dict_IV_invert = {v: k for k, v in dict_IV_index_activities.items()}\n",
    "    # ========================================================================================== \n",
    "    X_train_activity, Y_train_activity = process_X_Y(df_encoded_train, \"ground_truth_activity\", dict_IV_index_activities)\n",
    "    X_test_activity, Y_test_activity = process_X_Y(df_encoded_test, \"ground_truth_activity\", dict_IV_index_activities)\n",
    "\n",
    "    model_activity, scaler_activity = get_Regression_model_and_scaler(\n",
    "        X_train_activity, \n",
    "        Y_train_activity, \n",
    "        \"Logistic\"\n",
    "    )\n",
    "\n",
    "    X_test_activity = scaler_activity.transform(X_test_activity)\n",
    "\n",
    "    predicts_activity = model_activity.predict(X_test_activity)\n",
    "    predicts_activity = [dict_IV_invert[p] for p in predicts_activity]\n",
    "\n",
    "    # ===========================================================================================\n",
    "    X_train_time, Y_train_time = process_X_Y(df_encoded_train, \"ground_truth_time\", dict_IV_index_activities)\n",
    "    X_test_time, Y_test_time = process_X_Y(df_encoded_test, \"ground_truth_time\", dict_IV_index_activities)\n",
    "    model_time, scaler_time = get_Regression_model_and_scaler(\n",
    "        X_train_time,\n",
    "        Y_train_time,\n",
    "        \"Linear\"\n",
    "    )\n",
    "    X_test_time = scaler_time.transform(X_test_time)\n",
    "    predicts_time = model_time.predict(X_test_time)\n",
    "\n",
    "    df_output['S_3_Activity'] = predicts_activity\n",
    "    df_output['S_3_Time'] = predicts_time\n",
    "    df_output.to_csv(\"db/S3_Regression_Estimator.csv\")\n",
    "\n"
   ]
  },
  {
   "cell_type": "markdown",
   "metadata": {},
   "source": [
    "# Decision Tree Estimator (S4)"
   ]
  },
  {
   "cell_type": "markdown",
   "metadata": {},
   "source": [
    "The step to get this estimator is almost exactly the same as regression estimator, except we are using DecisionTreeClassifier() for activity prediction and DecisionTreeRegressor() for time prediction."
   ]
  },
  {
   "cell_type": "code",
   "execution_count": 20,
   "metadata": {},
   "outputs": [],
   "source": [
    "def decision_tree_estimator():\n",
    "    df_encoded_train = pd.read_csv('db/aggregation_encoding_train.csv')\n",
    "    df_encoded_test = pd.read_csv('db/aggregation_encoding_test.csv')\n",
    "    \n",
    "    df_output = format_event_log('db\\S3_Regression_Estimator.csv')\n",
    "    \n",
    "    independent_Variable = get_all_Activities().tolist()\n",
    "    dict_IV_index_activities = get_IV_dict()\n",
    "    dict_IV_invert = get_IV_dict_invert()\n",
    "    # ========================================================================================== \n",
    "    X_train_activity, Y_train_activity = process_X_Y(df_encoded_train, \"ground_truth_activity\", dict_IV_index_activities)\n",
    "    X_test_activity, Y_test_activity = process_X_Y(df_encoded_test, \"ground_truth_activity\", dict_IV_index_activities)\n",
    "\n",
    "    model_activity, scaler_activity = get_Decision_tree_model_and_scaler(\n",
    "        X_train_activity, \n",
    "        Y_train_activity,\n",
    "        'activity'\n",
    "    )\n",
    "\n",
    "    X_test_activity = scaler_activity.transform(X_test_activity)\n",
    "\n",
    "    predicts_activity = model_activity.predict(X_test_activity)\n",
    "    predicts_activity = [dict_IV_invert[p] for p in predicts_activity]\n",
    "    \n",
    "    df_output['S_4_Activity'] = predicts_activity\n",
    "\n",
    "\n",
    "    # ========================================================================================== \n",
    "    X_train_time, Y_train_time = process_X_Y(df_encoded_train, \"ground_truth_time\", dict_IV_index_activities)\n",
    "    X_test_time, Y_test_time = process_X_Y(df_encoded_test, \"ground_truth_time\", dict_IV_index_activities)\n",
    "\n",
    "    model_time, scaler_time = get_Decision_tree_model_and_scaler(\n",
    "        X_train_time, \n",
    "        Y_train_time,\n",
    "        'time'\n",
    "    )\n",
    "\n",
    "    X_test_time = scaler_activity.transform(X_test_time)\n",
    "\n",
    "    predicts_time = model_activity.predict(X_test_time)\n",
    "\n",
    "    df_output['S_4_Time'] = predicts_time\n",
    "\n",
    "    df_output.to_csv(\"db/S4_Decision_Tree_Estimator.csv\")\n"
   ]
  },
  {
   "cell_type": "markdown",
   "metadata": {},
   "source": [
    "# Other Functionalities"
   ]
  },
  {
   "cell_type": "markdown",
   "metadata": {},
   "source": [
    "## Visualisation"
   ]
  },
  {
   "cell_type": "markdown",
   "metadata": {},
   "source": [
    "Scatterplot representation of the entire data set in chronological order"
   ]
  },
  {
   "cell_type": "code",
   "execution_count": 21,
   "metadata": {},
   "outputs": [],
   "source": [
    "def plot_all_data():\n",
    "    df_BPI_train = pd.read_csv(training_file_path)\n",
    "    df_BPI_test = pd.read_csv(testing_file_path)\n",
    "    df_BPI = pd.concat([df_BPI_train, df_BPI_train])\n",
    "    \n",
    "    df_BPI['event time:timestamp'] = pd.to_datetime(df_BPI['event time:timestamp'],format=\"%d-%m-%Y %H:%M:%S.%f\")\n",
    "    \n",
    "    ax = sns.relplot(data=df_BPI, x='event time:timestamp', y='case concept:name', hue='event concept:name', height=10, aspect=1.5)\n",
    "    plt.ylim(max(df_BPI['case concept:name']), min(df_BPI['case concept:name']))\n",
    "    plt.show()"
   ]
  },
  {
   "cell_type": "markdown",
   "metadata": {},
   "source": [
    "Scatterplot representation of the data set split into training and test sets, after the removal of unusable traces from the training set"
   ]
  },
  {
   "cell_type": "code",
   "execution_count": 22,
   "metadata": {},
   "outputs": [],
   "source": [
    "def plot_split_data():\n",
    "    df_BPI_train = pd.read_csv(training_file_path)\n",
    "    df_BPI_test = pd.read_csv(testing_file_path)\n",
    "    df_BPI = pd.concat([df_BPI_train, df_BPI_train])\n",
    "    \n",
    "    df_BPI['event time:timestamp'] = pd.to_datetime(df_BPI['event time:timestamp'],format=\"%d-%m-%Y %H:%M:%S.%f\")\n",
    "    df_BPI['case REG_DATE'] = pd.to_datetime(df_BPI['case REG_DATE'],format=\"%d-%m-%Y %H:%M:%S.%f\")\n",
    "    splittime = pd.to_datetime(\"02-01-2012 15:28:39.244\",format=\"%d-%m-%Y %H:%M:%S.%f\")\n",
    "    plt_splitline = df_BPI.copy()\n",
    "    plt_splitline['event time:timestamp'] = splittime\n",
    "    plt_splitline['event concept:name'] = \"test/training split\"\n",
    "    \n",
    "    df_BPI = df_BPI.sort_values(by=['case concept:name','event time:timestamp'], ignore_index=True)\n",
    "    df_BPI_train = delete_overlapping_traces(df_BPI.copy(), splittime)\n",
    "    df_BPI_test = df_BPI[df_BPI['case REG_DATE'] >= splittime]\n",
    "    \n",
    "    df_BPI = pd.concat([df_BPI_train, df_BPI_test])\n",
    "    df_BPI = df_BPI.sort_values(by='event time:timestamp', ignore_index=True)\n",
    "    df_BPI = pd.concat([df_BPI, plt_splitline])\n",
    "    \n",
    "    ax = sns.relplot(data=df_BPI, x='event time:timestamp', y='case concept:name', hue='event concept:name', height=10, aspect=1.5)\n",
    "    plt.ylim(max(df_BPI['case concept:name']), min(df_BPI['case concept:name']))\n",
    "    plt.show()"
   ]
  },
  {
   "cell_type": "markdown",
   "metadata": {},
   "source": [
    "Scatterplot representation of the data set with time arrangement of events relative to the start of their respective case"
   ]
  },
  {
   "cell_type": "code",
   "execution_count": 23,
   "metadata": {},
   "outputs": [],
   "source": [
    "def plot_case_relative():\n",
    "    df_BPI_train = pd.read_csv(training_file_path)\n",
    "    df_BPI_test = pd.read_csv(testing_file_path)\n",
    "    df_BPI = pd.concat([df_BPI_train, df_BPI_train])\n",
    "    \n",
    "    df_BPI['event time:timestamp'] = pd.to_datetime(df_BPI['event time:timestamp'],format=\"%d-%m-%Y %H:%M:%S.%f\")\n",
    "    df_BPI['case REG_DATE'] = pd.to_datetime(df_BPI['case REG_DATE'],format=\"%d-%m-%Y %H:%M:%S.%f\")\n",
    "    \n",
    "    df_BPI['event time:case relative'] = pd.to_datetime(df_BPI['event time:timestamp'], format=\"%Y-%m-%d %H:%M:%S.%f\") - pd.to_datetime(df_BPI['case REG_DATE'], format=\"%Y-%m-%d %H:%M:%S.%f\")\n",
    "    \n",
    "    ax = sns.relplot(data=df_BPI, x='event time:case relative', y='case concept:name', hue='event concept:name', markers=\"x\", height=7, aspect=1.5)\n",
    "    plt.ylim(max(df_BPI['case concept:name']), min(df_BPI['case concept:name']))\n",
    "    plt.xlim(0, )\n",
    "    plt.show()"
   ]
  },
  {
   "cell_type": "markdown",
   "metadata": {},
   "source": [
    "## Error model"
   ]
  },
  {
   "cell_type": "markdown",
   "metadata": {},
   "source": [
    "Scatter Plot representation of the time error of the currently checked model"
   ]
  },
  {
   "cell_type": "code",
   "execution_count": 24,
   "metadata": {},
   "outputs": [],
   "source": [
    "def error_visualisation_time(df, prediction_time):\n",
    "    df['ground_truth_time'] = df['ground_truth_time'] / 3600\n",
    "    df[prediction_time] = df[prediction_time] / 3600\n",
    "    \n",
    "    x1 = df['ground_truth_time']\n",
    " \n",
    "    y1 = df.index\n",
    " \n",
    "    x2 = df[prediction_time]\n",
    " \n",
    "    y2 = df.index\n",
    " \n",
    "    plt.scatter(x1, y1, c =\"green\",\n",
    "                linewidths = 2,\n",
    "                marker =\"s\",\n",
    "                s = 10)\n",
    "    \n",
    "    plt.scatter(x2, y2, c =\"red\",\n",
    "                linewidths = 2,\n",
    "                marker =\"^\",\n",
    "                s = 10)\n",
    "    \n",
    "    plt.xlabel(\"Time (Hours)\")\n",
    "    plt.ylabel(\"EventID\")\n",
    "    plt.ylim(200, 300)\n",
    "    plt.xlim(-2, 200)\n",
    "    plt.show()"
   ]
  },
  {
   "cell_type": "markdown",
   "metadata": {},
   "source": [
    "Scatter Plot representation of the time error of all models"
   ]
  },
  {
   "cell_type": "code",
   "execution_count": 25,
   "metadata": {},
   "outputs": [],
   "source": [
    "def error_visualisation_time_all():\n",
    "    df_error_model_1 = pd.read_csv('db/S1_Naive_estimator.csv')\n",
    "    df_error_model_1 = df_error_model_1.fillna('None')\n",
    "    \n",
    "    df_error_model_2 = pd.read_csv('db/S2_Aggregation_Estimator.csv')\n",
    "    df_error_model_2 = df_error_model_2.fillna('None')\n",
    "    \n",
    "    df_error_model_3 = pd.read_csv('db/S3_Regression_Estimator.csv')\n",
    "    df_error_model_3 = df_error_model_3.fillna('None')\n",
    "    \n",
    "    df_error_model_4 = pd.read_csv('db/S4_Decision_Tree_Estimator.csv')\n",
    "    df_error_model_4 = df_error_model_4.fillna('None')\n",
    "    \n",
    "    df_error_model_1['ground_truth_time'] = df_error_model_1['ground_truth_time'] / 3600\n",
    "    df_error_model_1['S_1_time'] = df_error_model_2['S_1_Time'] / 3600\n",
    "    df_error_model_2['S_2_time'] = df_error_model_2['S_2_Time'] / 3600\n",
    "    df_error_model_3['S_3_Time'] = df_error_model_3['S_3_Time'] / 3600\n",
    "    df_error_model_4['S_4_Time'] = df_error_model_4['S_4_Time'] / 3600\n",
    "    \n",
    "    x0 = df_error_model_2['ground_truth_time']\n",
    "    y = df_error_model_1.index\n",
    "    \n",
    "    x1 = df_error_model_1['S_1_Time']\n",
    " \n",
    "    x2 = df_error_model_2['S_2_Time']\n",
    "    \n",
    "    x3 = df_error_model_3['S_3_Time']\n",
    "    \n",
    "    x4 = df_error_model_4['S_4_Time']\n",
    "    \n",
    "    plt.figure(figsize=(8,6))\n",
    " \n",
    "    plt0 = plt.scatter(x0, y, c =\"green\",\n",
    "                linewidths = 2,\n",
    "                marker =\"s\",\n",
    "                s = 10)\n",
    "    \n",
    "    plt1 = plt.scatter(x1, y, c =\"blue\",\n",
    "                linewidths = 2,\n",
    "                marker =\"^\",\n",
    "                s = 10)\n",
    "    \n",
    "    plt2 = plt.scatter(x2, y, c =\"red\",\n",
    "                linewidths = 2,\n",
    "                marker =\"^\",\n",
    "                s = 10)\n",
    "    \n",
    "    plt3 = plt.scatter(x3, y, c =\"purple\",\n",
    "                linewidths = 2,\n",
    "                marker =\"^\",\n",
    "                s = 10)\n",
    "    \n",
    "#     plt4 = plt.scatter(x4, y, c =\"orange\",\n",
    "#                 linewidths = 2,\n",
    "#                 marker =\"^\",\n",
    "#                 s = 10)\n",
    "    \n",
    "    plt.legend((plt0, plt1, plt2, plt3),\n",
    "               (\"Ground truth\", \"Naive Estimator\", \"Aggregation Estimator\", \"Regression Estimator\"), \n",
    "              loc='upper right')\n",
    "    plt.xlabel(\"Time (Hours)\")\n",
    "    plt.ylabel(\"EventID\")\n",
    "    plt.ylim(200, 300)\n",
    "    plt.xlim(-20, 300)\n",
    "    plt.show()"
   ]
  },
  {
   "cell_type": "markdown",
   "metadata": {},
   "source": [
    "Heatmap Representing a Confusion Matrix for our activity predictions"
   ]
  },
  {
   "cell_type": "code",
   "execution_count": 26,
   "metadata": {},
   "outputs": [],
   "source": [
    "def error_visualisation_activity(prediction_path, df, prediction_activity):\n",
    "    cm = confusion_matrix(df['ground_truth_activity'], df[prediction_activity])\n",
    "    plt.figure(dpi =1200)\n",
    "    labels = np.array(['A_ACCEPTED','A_ACTIVATED','A_APPROVED', 'A_CANCELLED','A_DECLINED','A_FINALIZED',\n",
    "                       'A_PARTLYSUBMITTED','A_PREACCEPTED','A_REGISTERED','NaN','A_SUBMITTED','O_ACCEPTED',\n",
    "                       'O_CANCELLED','O_CREATED','O_DECLINED','O_SELECTED','O_SENT','O_SENT_BACK',\n",
    "                       'W_Afhandelen leads','W_Beoordelen fraude','W_Completeren aanvraag',\n",
    "                       'W_nabellen incomplete dossiers','W_nabellen offertes','W_valideren aanvraag',])\n",
    "    sns.heatmap(cm,\n",
    "            annot=True, \n",
    "            annot_kws={\"size\":5},\n",
    "            fmt='g',\n",
    "            xticklabels=labels,\n",
    "            yticklabels=labels)\n",
    "    plt.ylabel('Actual',fontsize=7)\n",
    "    plt.xlabel('Predicted',fontsize=7)\n",
    "    plt.title(prediction_path,fontsize=10)\n",
    "    plt.tick_params(labelsize=5)\n",
    "    plt.show()"
   ]
  },
  {
   "cell_type": "markdown",
   "metadata": {},
   "source": [
    "Finds the Accuracy of the activity prediction model"
   ]
  },
  {
   "cell_type": "code",
   "execution_count": 27,
   "metadata": {},
   "outputs": [],
   "source": [
    "def error_activity(df, prediction_activity):\n",
    "    df['error_activity'] = df['ground_truth_activity'] == df[prediction_activity]\n",
    "    correct_predictions = df['error_activity'].value_counts()\n",
    "    percentage = correct_predictions[True] / len(df['error_activity']) * 100\n",
    "    print(f'Percentage of True values: {percentage:.1f}%')"
   ]
  },
  {
   "cell_type": "markdown",
   "metadata": {},
   "source": [
    "Find the absolute mean error of the time prediction model"
   ]
  },
  {
   "cell_type": "code",
   "execution_count": 28,
   "metadata": {},
   "outputs": [],
   "source": [
    "def error_time(df, prediction_time):\n",
    "    df['error_time'] = df[prediction_time] - df['ground_truth_time']\n",
    "    mean_absolute_error = df['error_time'].mean()\n",
    "    print(abs(mean_absolute_error))"
   ]
  },
  {
   "cell_type": "markdown",
   "metadata": {},
   "source": [
    "Runs all the methods to see error of each model"
   ]
  },
  {
   "cell_type": "code",
   "execution_count": 29,
   "metadata": {},
   "outputs": [],
   "source": [
    "def error_model(predictor_path, prediction_activity, prediction_time):\n",
    "    df_error_model = pd.read_csv(predictor_path)\n",
    "    df_error_model = df_error_model.fillna('None')\n",
    "    error_activity(df_error_model, prediction_activity)\n",
    "    error_time(df_error_model, prediction_time)\n",
    "    error_visualisation_time(df_error_model, prediction_time)\n",
    "    error_visualisation_activity(predictor_path, df_error_model, prediction_activity)"
   ]
  },
  {
   "cell_type": "markdown",
   "metadata": {},
   "source": [
    "# Main class\n",
    "1. All functions that are needed all called in this cell.\n",
    "2. No other cell runs code other than the main cell."
   ]
  },
  {
   "cell_type": "code",
   "execution_count": 31,
   "metadata": {},
   "outputs": [
    {
     "ename": "KeyError",
     "evalue": "'absolute_error'",
     "output_type": "error",
     "traceback": [
      "\u001b[1;31m---------------------------------------------------------------------------\u001b[0m",
      "\u001b[1;31mKeyError\u001b[0m                                  Traceback (most recent call last)",
      "\u001b[1;32m<ipython-input-31-62c361399fa6>\u001b[0m in \u001b[0;36m<module>\u001b[1;34m\u001b[0m\n\u001b[0;32m      3\u001b[0m \u001b[1;31m# write_aggregation()\u001b[0m\u001b[1;33m\u001b[0m\u001b[1;33m\u001b[0m\u001b[1;33m\u001b[0m\u001b[0m\n\u001b[0;32m      4\u001b[0m \u001b[1;31m# regression_estimator()\u001b[0m\u001b[1;33m\u001b[0m\u001b[1;33m\u001b[0m\u001b[1;33m\u001b[0m\u001b[0m\n\u001b[1;32m----> 5\u001b[1;33m \u001b[0mdecision_tree_estimator\u001b[0m\u001b[1;33m(\u001b[0m\u001b[1;33m)\u001b[0m\u001b[1;33m\u001b[0m\u001b[1;33m\u001b[0m\u001b[0m\n\u001b[0m\u001b[0;32m      6\u001b[0m \u001b[1;31m# error_model('db/S3_Regression_Estimator.csv', 'S_3_activities', 'S_3_time')\u001b[0m\u001b[1;33m\u001b[0m\u001b[1;33m\u001b[0m\u001b[1;33m\u001b[0m\u001b[0m\n\u001b[0;32m      7\u001b[0m \u001b[1;31m# error_model('db/S2_Aggregation_Estimator.csv', 'S_2_Activity', 'S_2_Time')\u001b[0m\u001b[1;33m\u001b[0m\u001b[1;33m\u001b[0m\u001b[1;33m\u001b[0m\u001b[0m\n",
      "\u001b[1;32m<ipython-input-20-d80e19ed4865>\u001b[0m in \u001b[0;36mdecision_tree_estimator\u001b[1;34m()\u001b[0m\n\u001b[0;32m     30\u001b[0m     \u001b[0mX_test_time\u001b[0m\u001b[1;33m,\u001b[0m \u001b[0mY_test_time\u001b[0m \u001b[1;33m=\u001b[0m \u001b[0mprocess_X_Y\u001b[0m\u001b[1;33m(\u001b[0m\u001b[0mdf_encoded_test\u001b[0m\u001b[1;33m,\u001b[0m \u001b[1;34m\"ground_truth_time\"\u001b[0m\u001b[1;33m,\u001b[0m \u001b[0mdict_IV_index_activities\u001b[0m\u001b[1;33m)\u001b[0m\u001b[1;33m\u001b[0m\u001b[1;33m\u001b[0m\u001b[0m\n\u001b[0;32m     31\u001b[0m \u001b[1;33m\u001b[0m\u001b[0m\n\u001b[1;32m---> 32\u001b[1;33m     model_time, scaler_time = get_Decision_tree_model_and_scaler(\n\u001b[0m\u001b[0;32m     33\u001b[0m         \u001b[0mX_train_time\u001b[0m\u001b[1;33m,\u001b[0m\u001b[1;33m\u001b[0m\u001b[1;33m\u001b[0m\u001b[0m\n\u001b[0;32m     34\u001b[0m         \u001b[0mY_train_time\u001b[0m\u001b[1;33m,\u001b[0m\u001b[1;33m\u001b[0m\u001b[1;33m\u001b[0m\u001b[0m\n",
      "\u001b[1;32m<ipython-input-12-b857dcbac19f>\u001b[0m in \u001b[0;36mget_Decision_tree_model_and_scaler\u001b[1;34m(X, Y, type)\u001b[0m\n\u001b[0;32m     11\u001b[0m \u001b[1;33m\u001b[0m\u001b[0m\n\u001b[0;32m     12\u001b[0m     \u001b[1;31m# print(Y)\u001b[0m\u001b[1;33m\u001b[0m\u001b[1;33m\u001b[0m\u001b[1;33m\u001b[0m\u001b[0m\n\u001b[1;32m---> 13\u001b[1;33m     \u001b[0mmodel\u001b[0m\u001b[1;33m.\u001b[0m\u001b[0mfit\u001b[0m\u001b[1;33m(\u001b[0m\u001b[0mX\u001b[0m\u001b[1;33m,\u001b[0m \u001b[0mY\u001b[0m\u001b[1;33m)\u001b[0m\u001b[1;33m\u001b[0m\u001b[1;33m\u001b[0m\u001b[0m\n\u001b[0m\u001b[0;32m     14\u001b[0m \u001b[1;33m\u001b[0m\u001b[0m\n\u001b[0;32m     15\u001b[0m     \u001b[1;32mreturn\u001b[0m \u001b[0mmodel\u001b[0m\u001b[1;33m,\u001b[0m \u001b[0mscaler\u001b[0m\u001b[1;33m\u001b[0m\u001b[1;33m\u001b[0m\u001b[0m\n",
      "\u001b[1;32mc:\\ProgramData\\Anaconda3\\lib\\site-packages\\sklearn\\tree\\_classes.py\u001b[0m in \u001b[0;36mfit\u001b[1;34m(self, X, y, sample_weight, check_input, X_idx_sorted)\u001b[0m\n\u001b[0;32m   1245\u001b[0m         \"\"\"\n\u001b[0;32m   1246\u001b[0m \u001b[1;33m\u001b[0m\u001b[0m\n\u001b[1;32m-> 1247\u001b[1;33m         super().fit(\n\u001b[0m\u001b[0;32m   1248\u001b[0m             \u001b[0mX\u001b[0m\u001b[1;33m,\u001b[0m \u001b[0my\u001b[0m\u001b[1;33m,\u001b[0m\u001b[1;33m\u001b[0m\u001b[1;33m\u001b[0m\u001b[0m\n\u001b[0;32m   1249\u001b[0m             \u001b[0msample_weight\u001b[0m\u001b[1;33m=\u001b[0m\u001b[0msample_weight\u001b[0m\u001b[1;33m,\u001b[0m\u001b[1;33m\u001b[0m\u001b[1;33m\u001b[0m\u001b[0m\n",
      "\u001b[1;32mc:\\ProgramData\\Anaconda3\\lib\\site-packages\\sklearn\\tree\\_classes.py\u001b[0m in \u001b[0;36mfit\u001b[1;34m(self, X, y, sample_weight, check_input, X_idx_sorted)\u001b[0m\n\u001b[0;32m    348\u001b[0m                                                          self.n_classes_)\n\u001b[0;32m    349\u001b[0m             \u001b[1;32melse\u001b[0m\u001b[1;33m:\u001b[0m\u001b[1;33m\u001b[0m\u001b[1;33m\u001b[0m\u001b[0m\n\u001b[1;32m--> 350\u001b[1;33m                 criterion = CRITERIA_REG[self.criterion](self.n_outputs_,\n\u001b[0m\u001b[0;32m    351\u001b[0m                                                          n_samples)\n\u001b[0;32m    352\u001b[0m \u001b[1;33m\u001b[0m\u001b[0m\n",
      "\u001b[1;31mKeyError\u001b[0m: 'absolute_error'"
     ]
    }
   ],
   "source": [
    "#uncomment the estimator you want to run and run the cell.\n",
    "\n",
    "naive_estimators()\n",
    "mode_estimators()\n",
    "# write_aggregation()\n",
    "regression_estimator()\n",
    "decision_tree_estimator()\n",
    "# error_model('db/S3_Regression_Estimator.csv', 'S_3_Activity', 'S_3_Time')\n",
    "# error_model('db/S2_Aggregation_Estimator.csv', 'S_2_Activity', 'S_2_Time')\n",
    "# error_visualisation_time_all()\n"
   ]
  },
  {
   "cell_type": "code",
   "execution_count": null,
   "metadata": {},
   "outputs": [],
   "source": []
  }
 ],
 "metadata": {
  "kernelspec": {
   "display_name": "Python 3",
   "language": "python",
   "name": "python3"
  },
  "language_info": {
   "codemirror_mode": {
    "name": "ipython",
    "version": 3
   },
   "file_extension": ".py",
   "mimetype": "text/x-python",
   "name": "python",
   "nbconvert_exporter": "python",
   "pygments_lexer": "ipython3",
   "version": "3.8.8"
  },
  "vscode": {
   "interpreter": {
    "hash": "6c57489fe19794b56e8aa35d040b5ad0fe5f8282e54818702f4c4eecc6496688"
   }
  }
 },
 "nbformat": 4,
 "nbformat_minor": 2
}
