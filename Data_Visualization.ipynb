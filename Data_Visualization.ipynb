{
 "cells": [
  {
   "cell_type": "code",
   "execution_count": null,
   "id": "7898746e",
   "metadata": {},
   "outputs": [],
   "source": []
  },
  {
   "cell_type": "code",
   "execution_count": 1,
   "id": "74142e44",
   "metadata": {},
   "outputs": [
    {
     "name": "stdout",
     "output_type": "stream",
     "text": [
      "     eventID   case concept:name            case REG_DATE  case AMOUNT_REQ  \\\n",
      "0           0             173688  01-10-2011 00:38:44.546            20000   \n",
      "1           1             173688  01-10-2011 00:38:44.546            20000   \n",
      "2           2             173688  01-10-2011 00:38:44.546            20000   \n",
      "3           3             173688  01-10-2011 00:38:44.546            20000   \n",
      "4  4294967296             173691  01-10-2011 08:08:58.256             5000   \n",
      "5  4294967297             173691  01-10-2011 08:08:58.256             5000   \n",
      "6  4294967298             173691  01-10-2011 08:08:58.256             5000   \n",
      "7  4294967299             173691  01-10-2011 08:08:58.256             5000   \n",
      "8  8589934592             173694  01-10-2011 08:10:30.287             7000   \n",
      "9  8589934593             173694  01-10-2011 08:10:30.287             7000   \n",
      "\n",
      "   event org:resource      event concept:name event lifecycle:transition  \\\n",
      "0               112.0             A_SUBMITTED                   COMPLETE   \n",
      "1               112.0       A_PARTLYSUBMITTED                   COMPLETE   \n",
      "2               112.0           A_PREACCEPTED                   COMPLETE   \n",
      "3               112.0  W_Completeren aanvraag                   SCHEDULE   \n",
      "4               112.0             A_SUBMITTED                   COMPLETE   \n",
      "5               112.0       A_PARTLYSUBMITTED                   COMPLETE   \n",
      "6               112.0           A_PREACCEPTED                   COMPLETE   \n",
      "7               112.0  W_Completeren aanvraag                   SCHEDULE   \n",
      "8               112.0             A_SUBMITTED                   COMPLETE   \n",
      "9               112.0       A_PARTLYSUBMITTED                   COMPLETE   \n",
      "\n",
      "      event time:timestamp  \n",
      "0  01-10-2011 00:38:44.546  \n",
      "1  01-10-2011 00:38:44.880  \n",
      "2  01-10-2011 00:39:37.906  \n",
      "3  01-10-2011 00:39:38.875  \n",
      "4  01-10-2011 08:08:58.256  \n",
      "5  01-10-2011 08:09:02.195  \n",
      "6  01-10-2011 08:09:56.648  \n",
      "7  01-10-2011 08:09:59.578  \n",
      "8  01-10-2011 08:10:30.287  \n",
      "9  01-10-2011 08:10:30.591  \n"
     ]
    }
   ],
   "source": [
    "import numpy as np\n",
    "import pandas as pd\n",
    "\n",
    "import matplotlib as mpl\n",
    "import matplotlib.pyplot as plt\n",
    "import seaborn as sns  # also improves the look of plots\n",
    "sns.set()\n",
    "plt.rcParams['figure.figsize'] = 10, 5  # default hor./vert. size of plots, in inches\n",
    "plt.rcParams['lines.markeredgewidth'] = 1  # to fix issue with seaborn box plots; needed after import seaborn\n",
    "\n",
    "from sklearn.linear_model import LinearRegression  # for linear regression\n",
    "from sklearn.cluster import KMeans  # for clustering\n",
    "from sklearn.tree import DecisionTreeClassifier  # for decision tree mining\n",
    "from sklearn.metrics import accuracy_score, confusion_matrix, mean_squared_error, mean_absolute_error\n",
    "from sklearn.model_selection import train_test_split\n",
    "\n",
    "from IPython.display import HTML\n",
    "HTML(\"<style>.h,.c{display:none}.t{color:#296eaa}.t:active+.h{display:block;}</style>\")\n",
    "\n",
    "df_BPI = pd.read_csv('BPI_Challenge_2012.XE-training.csv')\n",
    "\n",
    "print(df_BPI.head(10))"
   ]
  },
  {
   "cell_type": "code",
   "execution_count": null,
   "id": "3cb97723",
   "metadata": {},
   "outputs": [],
   "source": [
    "import seaborn as sns\n",
    "\n",
    "ax = sns.relplot(data=df_BPI, x='event time:timestamp', y='case concept:name', hue='event concept:name', aspect=2)\n",
    "plt.ylim(max(df_BPI['case concept:name']), min(df_BPI.iloc['case concept:name']))\n",
    "plt.show()"
   ]
  },
  {
   "cell_type": "code",
   "execution_count": null,
   "id": "c7d4e298",
   "metadata": {},
   "outputs": [],
   "source": []
  }
 ],
 "metadata": {
  "kernelspec": {
   "display_name": "Python 3",
   "language": "python",
   "name": "python3"
  },
  "language_info": {
   "codemirror_mode": {
    "name": "ipython",
    "version": 3
   },
   "file_extension": ".py",
   "mimetype": "text/x-python",
   "name": "python",
   "nbconvert_exporter": "python",
   "pygments_lexer": "ipython3",
   "version": "3.8.8"
  }
 },
 "nbformat": 4,
 "nbformat_minor": 5
}
